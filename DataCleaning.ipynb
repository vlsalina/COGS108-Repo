{
 "cells": [
  {
   "cell_type": "markdown",
   "metadata": {},
   "source": [
    "# COGS 108 - Project "
   ]
  },
  {
   "cell_type": "code",
   "execution_count": 130,
   "metadata": {
    "collapsed": true
   },
   "outputs": [],
   "source": [
    "import pandas as pd\n",
    "import requests\n",
    "import bs4\n",
    "from bs4 import BeautifulSoup"
   ]
  },
  {
   "cell_type": "code",
   "execution_count": 131,
   "metadata": {},
   "outputs": [
    {
     "data": {
      "text/plain": [
       "728"
      ]
     },
     "execution_count": 131,
     "metadata": {},
     "output_type": "execute_result"
    }
   ],
   "source": [
    "data = pd.read_csv('Crime_Data.csv')\n",
    "data.Charge_Description_Orig.unique().size"
   ]
  },
  {
   "cell_type": "code",
   "execution_count": 132,
   "metadata": {},
   "outputs": [
    {
     "data": {
      "text/html": [
       "<div>\n",
       "<style>\n",
       "    .dataframe thead tr:only-child th {\n",
       "        text-align: right;\n",
       "    }\n",
       "\n",
       "    .dataframe thead th {\n",
       "        text-align: left;\n",
       "    }\n",
       "\n",
       "    .dataframe tbody tr th {\n",
       "        vertical-align: top;\n",
       "    }\n",
       "</style>\n",
       "<table border=\"1\" class=\"dataframe\">\n",
       "  <thead>\n",
       "    <tr style=\"text-align: right;\">\n",
       "      <th></th>\n",
       "      <th>agency</th>\n",
       "      <th>Charge_Description_Orig</th>\n",
       "      <th>activityDate</th>\n",
       "      <th>BLOCK_ADDRESS</th>\n",
       "      <th>ZipCode</th>\n",
       "      <th>community</th>\n",
       "    </tr>\n",
       "  </thead>\n",
       "  <tbody>\n",
       "    <tr>\n",
       "      <th>0</th>\n",
       "      <td>SAN DIEGO</td>\n",
       "      <td>GRAND THEFT FROM PERSON</td>\n",
       "      <td>1/3/2018 16:30</td>\n",
       "      <td>7800  BLOCK STALMER STREET</td>\n",
       "      <td>92111.0</td>\n",
       "      <td>SAN DIEGO</td>\n",
       "    </tr>\n",
       "    <tr>\n",
       "      <th>1</th>\n",
       "      <td>HARBOR POLICE</td>\n",
       "      <td>SELL LIQUOR TO MINOR (M)</td>\n",
       "      <td>9/23/2017 18:28</td>\n",
       "      <td>3200  BLOCK NORTH HARBOR DRIVE</td>\n",
       "      <td>92101.0</td>\n",
       "      <td>SAN DIEGO</td>\n",
       "    </tr>\n",
       "    <tr>\n",
       "      <th>2</th>\n",
       "      <td>HARBOR POLICE</td>\n",
       "      <td>DRUNK IN PUBLIC: ALCOHOL, DRUGS, COMBO OR TOLU...</td>\n",
       "      <td>10/6/2017 8:48</td>\n",
       "      <td>600  BLOCK CONVENTION WAY</td>\n",
       "      <td>92101.0</td>\n",
       "      <td>SAN DIEGO</td>\n",
       "    </tr>\n",
       "    <tr>\n",
       "      <th>3</th>\n",
       "      <td>HARBOR POLICE</td>\n",
       "      <td>DRUNK IN PUBLIC: ALCOHOL, DRUGS, COMBO OR TOLU...</td>\n",
       "      <td>10/11/2017 19:45</td>\n",
       "      <td>3600  BLOCK NORTH HARBOR DRIVE</td>\n",
       "      <td>92101.0</td>\n",
       "      <td>SAN DIEGO</td>\n",
       "    </tr>\n",
       "    <tr>\n",
       "      <th>4</th>\n",
       "      <td>HARBOR POLICE</td>\n",
       "      <td>POSS NARCOTIC CONTROLLED SUBS (M)</td>\n",
       "      <td>10/21/2017 23:36</td>\n",
       "      <td>100 W  BLOCK HARBOR DRIVE</td>\n",
       "      <td>92101.0</td>\n",
       "      <td>SAN DIEGO</td>\n",
       "    </tr>\n",
       "  </tbody>\n",
       "</table>\n",
       "</div>"
      ],
      "text/plain": [
       "          agency                            Charge_Description_Orig  \\\n",
       "0      SAN DIEGO                            GRAND THEFT FROM PERSON   \n",
       "1  HARBOR POLICE                           SELL LIQUOR TO MINOR (M)   \n",
       "2  HARBOR POLICE  DRUNK IN PUBLIC: ALCOHOL, DRUGS, COMBO OR TOLU...   \n",
       "3  HARBOR POLICE  DRUNK IN PUBLIC: ALCOHOL, DRUGS, COMBO OR TOLU...   \n",
       "4  HARBOR POLICE                  POSS NARCOTIC CONTROLLED SUBS (M)   \n",
       "\n",
       "       activityDate                   BLOCK_ADDRESS  ZipCode  community  \n",
       "0    1/3/2018 16:30      7800  BLOCK STALMER STREET  92111.0  SAN DIEGO  \n",
       "1   9/23/2017 18:28  3200  BLOCK NORTH HARBOR DRIVE  92101.0  SAN DIEGO  \n",
       "2    10/6/2017 8:48       600  BLOCK CONVENTION WAY  92101.0  SAN DIEGO  \n",
       "3  10/11/2017 19:45  3600  BLOCK NORTH HARBOR DRIVE  92101.0  SAN DIEGO  \n",
       "4  10/21/2017 23:36       100 W  BLOCK HARBOR DRIVE  92101.0  SAN DIEGO  "
      ]
     },
     "execution_count": 132,
     "metadata": {},
     "output_type": "execute_result"
    }
   ],
   "source": [
    "data.head(5)"
   ]
  },
  {
   "cell_type": "code",
   "execution_count": 133,
   "metadata": {},
   "outputs": [
    {
     "data": {
      "text/plain": [
       "(60193, 6)"
      ]
     },
     "execution_count": 133,
     "metadata": {},
     "output_type": "execute_result"
    }
   ],
   "source": [
    "data.shape"
   ]
  },
  {
   "cell_type": "code",
   "execution_count": 134,
   "metadata": {
    "collapsed": true
   },
   "outputs": [],
   "source": [
    "data.columns = [\"agency\", \"crime\", \"time\", \"address\", \"zipcode\", \"community\"]"
   ]
  },
  {
   "cell_type": "code",
   "execution_count": 135,
   "metadata": {},
   "outputs": [
    {
     "data": {
      "text/plain": [
       "agency          0\n",
       "crime           7\n",
       "time            0\n",
       "address         0\n",
       "zipcode      1228\n",
       "community    1592\n",
       "dtype: int64"
      ]
     },
     "execution_count": 135,
     "metadata": {},
     "output_type": "execute_result"
    }
   ],
   "source": [
    "data.isnull().sum()"
   ]
  },
  {
   "cell_type": "code",
   "execution_count": 136,
   "metadata": {
    "collapsed": true
   },
   "outputs": [],
   "source": [
    "rows_to_drop = data[data.isnull().any(axis=1)]"
   ]
  },
  {
   "cell_type": "code",
   "execution_count": 137,
   "metadata": {},
   "outputs": [
    {
     "data": {
      "text/plain": [
       "(2005, 6)"
      ]
     },
     "execution_count": 137,
     "metadata": {},
     "output_type": "execute_result"
    }
   ],
   "source": [
    "rows_to_drop.shape"
   ]
  },
  {
   "cell_type": "code",
   "execution_count": 138,
   "metadata": {
    "collapsed": true
   },
   "outputs": [],
   "source": [
    "data.dropna(inplace=True)"
   ]
  },
  {
   "cell_type": "code",
   "execution_count": 139,
   "metadata": {},
   "outputs": [
    {
     "data": {
      "text/plain": [
       "(58188, 6)"
      ]
     },
     "execution_count": 139,
     "metadata": {},
     "output_type": "execute_result"
    }
   ],
   "source": [
    "data.shape"
   ]
  },
  {
   "cell_type": "code",
   "execution_count": 140,
   "metadata": {
    "collapsed": true
   },
   "outputs": [],
   "source": [
    "# This function takes the crime in a row and dtermines if the suspect was male or female, and adds \n",
    "# correlating gender to appropriate row"
   ]
  },
  {
   "cell_type": "code",
   "execution_count": 141,
   "metadata": {},
   "outputs": [],
   "source": [
    "def whatgender(crime):\n",
    "    crime = crime.lower()\n",
    "    \n",
    "    if \"(m)\" in crime:\n",
    "        output = 'male'\n",
    "    elif \"(f)\" in crime:\n",
    "        output = 'female'\n",
    "    else:\n",
    "        output = 'nogenderfound'\n",
    "    return output"
   ]
  },
  {
   "cell_type": "code",
   "execution_count": 142,
   "metadata": {},
   "outputs": [
    {
     "data": {
      "text/html": [
       "<div>\n",
       "<style>\n",
       "    .dataframe thead tr:only-child th {\n",
       "        text-align: right;\n",
       "    }\n",
       "\n",
       "    .dataframe thead th {\n",
       "        text-align: left;\n",
       "    }\n",
       "\n",
       "    .dataframe tbody tr th {\n",
       "        vertical-align: top;\n",
       "    }\n",
       "</style>\n",
       "<table border=\"1\" class=\"dataframe\">\n",
       "  <thead>\n",
       "    <tr style=\"text-align: right;\">\n",
       "      <th></th>\n",
       "      <th>agency</th>\n",
       "      <th>crime</th>\n",
       "      <th>time</th>\n",
       "      <th>address</th>\n",
       "      <th>zipcode</th>\n",
       "      <th>community</th>\n",
       "      <th>gender</th>\n",
       "    </tr>\n",
       "  </thead>\n",
       "  <tbody>\n",
       "    <tr>\n",
       "      <th>0</th>\n",
       "      <td>SAN DIEGO</td>\n",
       "      <td>GRAND THEFT FROM PERSON</td>\n",
       "      <td>1/3/2018 16:30</td>\n",
       "      <td>7800  BLOCK STALMER STREET</td>\n",
       "      <td>92111.0</td>\n",
       "      <td>SAN DIEGO</td>\n",
       "      <td>nogenderfound</td>\n",
       "    </tr>\n",
       "    <tr>\n",
       "      <th>1</th>\n",
       "      <td>HARBOR POLICE</td>\n",
       "      <td>SELL LIQUOR TO MINOR (M)</td>\n",
       "      <td>9/23/2017 18:28</td>\n",
       "      <td>3200  BLOCK NORTH HARBOR DRIVE</td>\n",
       "      <td>92101.0</td>\n",
       "      <td>SAN DIEGO</td>\n",
       "      <td>male</td>\n",
       "    </tr>\n",
       "    <tr>\n",
       "      <th>2</th>\n",
       "      <td>HARBOR POLICE</td>\n",
       "      <td>DRUNK IN PUBLIC: ALCOHOL, DRUGS, COMBO OR TOLU...</td>\n",
       "      <td>10/6/2017 8:48</td>\n",
       "      <td>600  BLOCK CONVENTION WAY</td>\n",
       "      <td>92101.0</td>\n",
       "      <td>SAN DIEGO</td>\n",
       "      <td>male</td>\n",
       "    </tr>\n",
       "    <tr>\n",
       "      <th>3</th>\n",
       "      <td>HARBOR POLICE</td>\n",
       "      <td>DRUNK IN PUBLIC: ALCOHOL, DRUGS, COMBO OR TOLU...</td>\n",
       "      <td>10/11/2017 19:45</td>\n",
       "      <td>3600  BLOCK NORTH HARBOR DRIVE</td>\n",
       "      <td>92101.0</td>\n",
       "      <td>SAN DIEGO</td>\n",
       "      <td>male</td>\n",
       "    </tr>\n",
       "    <tr>\n",
       "      <th>4</th>\n",
       "      <td>HARBOR POLICE</td>\n",
       "      <td>POSS NARCOTIC CONTROLLED SUBS (M)</td>\n",
       "      <td>10/21/2017 23:36</td>\n",
       "      <td>100 W  BLOCK HARBOR DRIVE</td>\n",
       "      <td>92101.0</td>\n",
       "      <td>SAN DIEGO</td>\n",
       "      <td>male</td>\n",
       "    </tr>\n",
       "  </tbody>\n",
       "</table>\n",
       "</div>"
      ],
      "text/plain": [
       "          agency                                              crime  \\\n",
       "0      SAN DIEGO                            GRAND THEFT FROM PERSON   \n",
       "1  HARBOR POLICE                           SELL LIQUOR TO MINOR (M)   \n",
       "2  HARBOR POLICE  DRUNK IN PUBLIC: ALCOHOL, DRUGS, COMBO OR TOLU...   \n",
       "3  HARBOR POLICE  DRUNK IN PUBLIC: ALCOHOL, DRUGS, COMBO OR TOLU...   \n",
       "4  HARBOR POLICE                  POSS NARCOTIC CONTROLLED SUBS (M)   \n",
       "\n",
       "               time                         address  zipcode  community  \\\n",
       "0    1/3/2018 16:30      7800  BLOCK STALMER STREET  92111.0  SAN DIEGO   \n",
       "1   9/23/2017 18:28  3200  BLOCK NORTH HARBOR DRIVE  92101.0  SAN DIEGO   \n",
       "2    10/6/2017 8:48       600  BLOCK CONVENTION WAY  92101.0  SAN DIEGO   \n",
       "3  10/11/2017 19:45  3600  BLOCK NORTH HARBOR DRIVE  92101.0  SAN DIEGO   \n",
       "4  10/21/2017 23:36       100 W  BLOCK HARBOR DRIVE  92101.0  SAN DIEGO   \n",
       "\n",
       "          gender  \n",
       "0  nogenderfound  \n",
       "1           male  \n",
       "2           male  \n",
       "3           male  \n",
       "4           male  "
      ]
     },
     "execution_count": 142,
     "metadata": {},
     "output_type": "execute_result"
    }
   ],
   "source": [
    "data['gender'] = data['crime'].apply(whatgender)\n",
    "data.head(5)"
   ]
  },
  {
   "cell_type": "code",
   "execution_count": 143,
   "metadata": {},
   "outputs": [
    {
     "data": {
      "text/plain": [
       "22031"
      ]
     },
     "execution_count": 143,
     "metadata": {},
     "output_type": "execute_result"
    }
   ],
   "source": [
    "data['gender'].str.contains('nogenderfound').sum()"
   ]
  },
  {
   "cell_type": "code",
   "execution_count": 144,
   "metadata": {
    "collapsed": true
   },
   "outputs": [],
   "source": [
    "genderdata = data"
   ]
  },
  {
   "cell_type": "code",
   "execution_count": 145,
   "metadata": {},
   "outputs": [],
   "source": [
    "genderdata = genderdata[genderdata.gender != 'nogenderfound']\n",
    "\n",
    "#This new genderdata DataFrame contains only Male and Female crimes"
   ]
  },
  {
   "cell_type": "code",
   "execution_count": 146,
   "metadata": {
    "collapsed": true
   },
   "outputs": [],
   "source": [
    "#This function removes gender from a crime's description\n",
    "\n",
    "def removegender(crime):\n",
    "    crime = crime.lower()\n",
    "    \n",
    "    if \"(m)\" in crime:\n",
    "        output = crime[:-3]\n",
    "    elif \"(f)\" in crime:\n",
    "        output = crime[:-3]\n",
    "    else:\n",
    "        output = crime\n",
    "    return output\n",
    "\n",
    "data['realcrime'] = data['crime'].apply(removegender)"
   ]
  },
  {
   "cell_type": "code",
   "execution_count": 147,
   "metadata": {},
   "outputs": [
    {
     "data": {
      "text/plain": [
       "695"
      ]
     },
     "execution_count": 147,
     "metadata": {},
     "output_type": "execute_result"
    }
   ],
   "source": [
    "data['realcrime'].unique().size"
   ]
  },
  {
   "cell_type": "code",
   "execution_count": 148,
   "metadata": {},
   "outputs": [
    {
     "data": {
      "text/plain": [
       "713"
      ]
     },
     "execution_count": 148,
     "metadata": {},
     "output_type": "execute_result"
    }
   ],
   "source": [
    "data['crime'].unique().size"
   ]
  },
  {
   "cell_type": "code",
   "execution_count": null,
   "metadata": {
    "collapsed": true
   },
   "outputs": [],
   "source": []
  }
 ],
 "metadata": {
  "kernelspec": {
   "display_name": "Python 3",
   "language": "python",
   "name": "python3"
  },
  "language_info": {
   "codemirror_mode": {
    "name": "ipython",
    "version": 3
   },
   "file_extension": ".py",
   "mimetype": "text/x-python",
   "name": "python",
   "nbconvert_exporter": "python",
   "pygments_lexer": "ipython3",
   "version": "3.6.3"
  }
 },
 "nbformat": 4,
 "nbformat_minor": 2
}
