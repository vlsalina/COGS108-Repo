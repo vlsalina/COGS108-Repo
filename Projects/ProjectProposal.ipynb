{
 "cells": [
  {
   "cell_type": "markdown",
   "metadata": {},
   "source": [
    "# COGS 108 - Project Proposal"
   ]
  },
  {
   "cell_type": "markdown",
   "metadata": {},
   "source": [
    "## Important\n",
    "\n",
    "- Make sure all group members (3-5 people) are listed in the group members section.\n",
    "- ONE, and only one, member of your group should upload this notebook to TritonED. \n",
    "- Each member of the group will receive the same grade on this assignment. \n",
    "- Keep the file name the same: submit the file 'ProjectProposal.ipynb'"
   ]
  },
  {
   "cell_type": "markdown",
   "metadata": {},
   "source": [
    "## Overview"
   ]
  },
  {
   "cell_type": "markdown",
   "metadata": {},
   "source": [
    "Read the project description and detailed instructions for this assignment in the 'ProjectOutline' document."
   ]
  },
  {
   "cell_type": "markdown",
   "metadata": {},
   "source": [
    "## Group Members: Fill in the Student IDs of each group member here\n",
    "\n",
    "Replace the lines below to list each persons full student ID. Add lines as needed for your group size, and make sure each ID is listed on a separate line. \n",
    "\n",
    "- A13617263\n",
    "- A91061925\n",
    "- A13497236\n",
    "- A14168881\n",
    "- A13194739\n",
    "- A14119291"
   ]
  },
  {
   "cell_type": "markdown",
   "metadata": {},
   "source": [
    "### Research Question\n",
    "\n",
    "What is your research question? (1-2 sentences)"
   ]
  },
  {
   "cell_type": "markdown",
   "metadata": {},
   "source": [
    "Are there more crimes in San Diego County during the \"holiday season\" (Thanksgiving, Christmas Day, New Years) or after? Should more police officers be assigned during the holidays? "
   ]
  },
  {
   "cell_type": "markdown",
   "metadata": {},
   "source": [
    "### Hypothesis\n",
    "\n",
    "What is your main hypothesis and predictions? (2-3 sentences)"
   ]
  },
  {
   "cell_type": "markdown",
   "metadata": {},
   "source": [
    "There will be more crimes during the holidays in San Diego County rather than after the holiday season. Due to the increase in festivities, (inebriation will be likely) disruptive individuals are likely to commit crimes and burglary is likely to happen due to gift giving during the holidays. "
   ]
  },
  {
   "cell_type": "markdown",
   "metadata": {},
   "source": [
    "### Dataset(s)\n",
    "\n",
    "What data will you use to answer your question? Describe the dataset(s) in terms of number of observations, what kind of features it contains, etc. You must use at least one dataset containing at least approximately 1000 observations (if your data are smaller but you feel they are sufficient, email Prof. Voytek). You are welcome (and in fact recommended) to find multiple datasets! If you do so, describe each one, and briefly explain how you will combine them together. "
   ]
  },
  {
   "cell_type": "markdown",
   "metadata": {},
   "source": [
    "*Fill in your dataset information here*\n",
    "\n",
    "(Copy this information for each dataset)\n",
    "- Dataset Name: Public Crime Data Extract\n",
    "- Link to the dataset: http://www.sandag.org/index.asp?classid=14&subclassid=21&projectid=446&fuseaction=projects.detail\n",
    "- Number of observations: 3136 observations\n",
    "\n",
    "1-2 sentences describing the dataset. \n",
    "Our dataset consists of crimes in San Diego County from the last 180 days, updated weekly. The data includes the type of crime, the date, and the address and zip code of where the crime was committed. \n",
    "\n",
    "If you plan to use multiple datasets, add 1-2 sentences about how you plan to combine these datasets."
   ]
  },
  {
   "cell_type": "markdown",
   "metadata": {},
   "source": [
    "### Background and Prior Work\n",
    "\n",
    "Why is this question of interest, what background information led you to your hypothesis, and why is this important?\n",
    "\n",
    "Find some relevant prior work, and reference those sources. Even if you think you have a totally novel question, find the most similar prior work that you can and discuss how it relates to your project. \n",
    "\n",
    "References can be research publications, but they need not be. Blogs, github repositories, company websites, etc., are all viable references if they are relevant to your project.\n",
    "\n",
    "(2-3 paragraphs, including at least 2 references)"
   ]
  },
  {
   "cell_type": "markdown",
   "metadata": {},
   "source": [
    "*Fill in your background and prior work here* \n",
    "\n",
    "We believe that crime goes up during the holidays because we think that people will be more prome to crime, leading to more arrests during the holiday season. We read a few articles about how people may be less likely to commit crimes during hte holiday season, but we wanted to debunk that theory by looking at the crimes in the San Diego area. \n",
    "\n",
    "This is important since we wanted to see if more police officers are required during the holidays. Due to many people taking time off for the holidays, we wanted to see if the police should assign more officers to make rounds in the county. \n",
    "\n",
    "References (include links):\n",
    "- 1) https://www.businessknowhow.com/security/holiday.htm\n",
    "- 2) http://www.sherrytowers.com/crime_and_holidays.pdf"
   ]
  },
  {
   "cell_type": "markdown",
   "metadata": {},
   "source": [
    "### Proposed Methods\n",
    "\n",
    "What methods will you use to analyze your data?\n",
    "\n",
    "- How 'clean' is the data? To the extent that it requires cleaning, how will you do so?\n",
    "- How will you analyze the data? Be as specific as you can. Briefly mention any pre-processing steps that are required for your methods (for example, checking data distributions and performing any transformations that may be required). Include a brief outline of how you will apply your chosen method(s). \n",
    "- What do you plan to report? Briefly mention any key visualizations you plan to create, and/or the kind of results you will be able to report that address your question (this could be, for example, the outcome of some statistical test(s), prediction error on a model, a model fit parameter, etc.).\n",
    "- Include a list of packages you expect to use for you project. If you plan to use packages we have not used in class, add a very brief description about them (a few words is sufficient). "
   ]
  },
  {
   "cell_type": "markdown",
   "metadata": {},
   "source": [
    "*Fill in your proposed methods information here:*\n",
    "\n",
    "*Data Cleaning (2-3 sentences)*\n",
    "The dataset we've chosen to focus on contains a few extranuous data and erroneous input, to include possible misspellings of counties, and missing information or other invalid data regarding population and crimes per capita. Cleaning will require the data to be processed in a step-by-step fashion consisting of: (1) planning, (2) analyzing to cleanse, (3) implementing automation, (4) append missing data, and (5) monitoring. Finally, we revisit our plans from the first step and reevaluate if priorities need to be changed, or if the rules we've implemented fit our strategy; the entire process will be done using functions and tools provided such as pandas dataframe, numpy, and math. \n",
    "\n",
    "*Data Analysis (1-2 paragraphs)*\n",
    "After cleaning, data analysis will be conducted using matplotlib.pyplot and numpy to more graphically express the consistency of crime rates before and after holidays in such a way that possible trends and progressions can be observed. Preprocessing steps will include careful analysis and log transformation to drop instances of outliers, such as unusually very high number of crimes per capita in some counties, and to normalize our data. Once we have plotted our data, we can proceed to find a best-fit-model that should allow us to detect and make predictions regarding consistency of crimes over the holidays in a number of different counties across San Diego.\n",
    "\n",
    "*What to report (2-3 sentences)*\n",
    "From above, we can cross check the data analysis with our proposed hypothesis and make the decision to accept our reject. If our hypothesis holds, it may be wise to invest into resources like more security, police officers, drug checks, and dedicated driving services around the holidays to avoid any more crime progression.\n",
    "\n",
    "Packages we plan to use:\n",
    "- numpy\n",
    "- math\n",
    "- pandas\n",
    "- matplotlib.pyplot\n",
    "- requests\n",
    "- BeautifulSoup from bs4\n",
    "- patsy\n",
    "- statsmodels.api\n",
    "- scipy.stats"
   ]
  },
  {
   "cell_type": "markdown",
   "metadata": {},
   "source": [
    "### Ethics and Privacy\n",
    "\n",
    "Briefly acknowledge and address any potential issues of ethics and privacy for the proposed project. In particular:\n",
    "- Do you have permission to use this data, for this purpose?\n",
    "- Are there privacy concerns regarding your datasets that you need to deal with, and/or terms of use that you need to comply with?\n",
    "- Are there potential biases in your dataset(s), in terms of who it composes, and how it was collected, that may be problematic in terms of it allowing for equitable analysis? (For example, does your data exclude particular populations, or is it likely to reflect particular human biases in a way that could be a problem?) \n",
    "- Are there any other issues related to your topic area, data, and/or analyses that are potentially problematic in terms of data privacy and equitable impact?\n",
    "- How will you handle any issues you identify?\n",
    "\n",
    "(1-2 paragraphs)\n",
    "  \n",
    "  We have permission to use the data since it is public and is available on the sandag.org site. We don't have many privacy concerns since our data is not focused on any individual, but more on the crime itself. The location of the crime is listed but any information about the individual is not revealed except the sex of the criminal for certain crimes. \n",
    "    There should be no potential biases in our dataset since this data is off of SANDAG, the San Diego Association of Governments. This information should be purely 'fact' and not be opinionated at all. There is a certain jargon used to describe crimes and our data uses it. Our data should not be very problematic. Even though it may not be representative of the San Diego population, we want to see the crimes that occur in San Diego to help us determine if there should be more police officers out during the holidays. \n",
    "    There may be some issue with data privacy as the data does list the address, zip code, and sometimes the gender of the criminal for the crime. Knowing someone's gender and if they had committed a crime in a certain location can be easily identifiable, but we will have to double check with Safety Harbour as the data does not directly list out who that individual is, only the crime that was committed. We will handle this by anonymizing the data (removing the address and dropping the last two digits of the zip code). "
   ]
  },
  {
   "cell_type": "markdown",
   "metadata": {},
   "source": [
    "### Discussion\n",
    "\n",
    "Discuss your project, looking forward to what your results might mean, how they fit it in with what is already known, and what problems you may encounter. \n",
    "\n",
    "In particular:\n",
    "- If your analyses and hypotheses are correct, what will be the contribution of this project to the topic domain? \n",
    "- Alternatively, what will you do if you methods don't work and/or your hypotheses are wrong? \n",
    "- What are the potential pitfalls and potential confounds of your data and/or methods that may cause problems, and/or influence your interpretations?\n",
    "\n",
    "(2-3 paragraphs)"
   ]
  },
  {
   "cell_type": "markdown",
   "metadata": {},
   "source": [
    "*Fill in your discussion information here*\n",
    "\n",
    "    If our analyses and hypotheses are correct, we can invest resources to police departments across San Diego County to let them know that they may want to dispatch more officers during the holidays. If our hypotheses are wrong, then we can assume that crime rate is lower or the same, depending on our results when analyzing crime after the holidays. Lower or static crime rates should not be enough to warrant investing into more security, but we also want to mitigate crimes as much as we can. The key is to allocate enough resources to match any bound that should be set on an \"acceptable\" number of crimes committed in each respective county.  \n",
    "    \n",
    "    Alternatively, our results may be faulty due to potentional pitfalls or confounds stemming from what to do with invalid or missing such data from the designated crimes themselves, population, or crimes per capita. Faulty results may also come from implemented functions dropping otherwise desired data due to the bounds we set for the upper and lower bounds of designated crimes when transforming our dataset to be normalized. Doing so would obscure our data the wrong way, making our interpretations erroneous.   "
   ]
  }
 ],
 "metadata": {
  "kernelspec": {
   "display_name": "Python 3",
   "language": "python",
   "name": "python3"
  },
  "language_info": {
   "codemirror_mode": {
    "name": "ipython",
    "version": 3
   },
   "file_extension": ".py",
   "mimetype": "text/x-python",
   "name": "python",
   "nbconvert_exporter": "python",
   "pygments_lexer": "ipython3",
   "version": "3.6.3"
  }
 },
 "nbformat": 4,
 "nbformat_minor": 2
}
