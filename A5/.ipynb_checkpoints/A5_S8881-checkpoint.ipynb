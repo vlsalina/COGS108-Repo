{
 "cells": [
  {
   "cell_type": "markdown",
   "metadata": {
    "deletable": false,
    "editable": false,
    "nbgrader": {
     "checksum": "aed67d76b742f360598b2c0f40b18b63",
     "grade": false,
     "grade_id": "cell-70c15471327b6620",
     "locked": true,
     "schema_version": 1,
     "solution": false
    }
   },
   "source": [
    "# COGS 108 - Assignment 5: Natural Language Processing"
   ]
  },
  {
   "cell_type": "markdown",
   "metadata": {
    "deletable": false,
    "editable": false,
    "nbgrader": {
     "checksum": "e66894436102697439299c66c1e8a17e",
     "grade": false,
     "grade_id": "cell-8499cb794c95ec9d",
     "locked": true,
     "schema_version": 1,
     "solution": false
    }
   },
   "source": [
    "# Important\n",
    "- Rename this file to 'A5_$####.ipynb', replacing with your unique ID (first letter of your last name, followed by the last 4 digits of your student ID number), before you submit it. Submit it to TritonED.\n",
    "- This assignment has hidden tests: tests that are not visible here, but that will be run on your submitted assignment for grading.\n",
    "    - This means passing all the tests you can see in the notebook here does not guarantee you have the right answer!\n",
    "    - In particular many of the tests you can see simply check that the right variable names exist. Hidden tests check the actual values. \n",
    "        - It is up to you to check the values, and make sure they seem reasonable.\n",
    "- A reminder to restart the kernel and re-run the code as a first line check if things seem to go weird.\n",
    "    - For example, note that some cells can only be run once, because they re-write a variable (for example, your dataframe), and change it in a way that means a second execution will fail. \n",
    "    - Also, running some cells out of order might change the dataframe in ways that may cause an error, which can be fixed by re-running."
   ]
  },
  {
   "cell_type": "markdown",
   "metadata": {
    "deletable": false,
    "editable": false,
    "nbgrader": {
     "checksum": "0b10d6b48490820c1f1a3b07406400fd",
     "grade": false,
     "grade_id": "cell-6b464efd2fb5aabd",
     "locked": true,
     "schema_version": 1,
     "solution": false
    }
   },
   "source": [
    "# Background & Work Flow\n",
    "\n",
    "- In this homework assignment, we will be analyzing text data. A common approach to analyzing text data is to use methods that allow us to convert text data into some kind of numerical representation - since we can then use all of our mathematical tools on such data. In this assignment, we will explore 2 feature engineering methods that convert raw text data into numerical vectors:\n",
    "    - Bag of Words (BoW)\n",
    "        - BoW encodes an input sentence as the frequency of each word in the sentence. \n",
    "        - In this approach, all words contribute equally to the feature vectors.\n",
    "    - Term Frequency - Inverse Document Frequency (TF-IDF)\n",
    "        - TF-IDF is a measure of how important each term is to a specific document, as compared to an overall corpus. \n",
    "        - TF-IDF encodes a each word as the it's frequency in the document of interest, divided by a measure of how common the word is across all documents (the corpus).\n",
    "        - Using this approach each word contributes differently to the feature vectors.\n",
    "        - The assumption behind using TF-IDF is that words that appear commonly everywhere are not that informative about what is specifically interesting about a document of interest, so it is tuned to representing a document in terms of the words it uses that are different from other documents. \n",
    "\n",
    "- To compare those 2 methods, we will first apply them on the same Movie Review dataset to analyse sentiment (how positive or negative a text is). In order to make the comparison fair, the same SVM (support vector machine) classifier will be used to classify positive reviews and negative reviews.\n",
    "\n",
    "- SVM is a simple yet powerful and interpretable linear model. To use it as a classifier, we need to have at least 2 splits of the data: training data and test data. The training data is used to tune the weight parameters in the SVM to learn an optimal way to classify the training data. We can then test this trained SVM classifier on the test data, to see how well it works on data that the classifier has not seen before. "
   ]
  },
  {
   "cell_type": "code",
   "execution_count": 45,
   "metadata": {
    "collapsed": true,
    "deletable": false,
    "editable": false,
    "nbgrader": {
     "checksum": "ff20ecd9199338a27728c1306d2c51d6",
     "grade": false,
     "grade_id": "Imports",
     "locked": true,
     "schema_version": 1,
     "solution": false
    }
   },
   "outputs": [],
   "source": [
    "# Imports - these are all the imports needed for the assignment\n",
    "%matplotlib inline\n",
    "\n",
    "import numpy as np\n",
    "import pandas as pd\n",
    "import matplotlib.pyplot as plt\n",
    "\n",
    "# Import nltk package \n",
    "#   PennTreeBank word tokenizer \n",
    "#   English language stopwords\n",
    "import nltk\n",
    "from nltk.tokenize import word_tokenize\n",
    "from nltk.corpus import stopwords\n",
    "\n",
    "# scikit-learn imports\n",
    "#   SVM (Support Vector Machine) classifer \n",
    "#   Vectorizer, which that transforms text data into bag-of-words feature\n",
    "#   TF-IDF Vectorizer that first removes widely used words in the dataset and then transforms test data\n",
    "#   Metrics functions to evaluate performance\n",
    "from sklearn.svm import SVC\n",
    "from sklearn.feature_extraction.text import CountVectorizer, TfidfVectorizer\n",
    "from sklearn.metrics import classification_report, precision_recall_fscore_support"
   ]
  },
  {
   "cell_type": "markdown",
   "metadata": {
    "deletable": false,
    "editable": false,
    "nbgrader": {
     "checksum": "d22183d219cc386a0cb84900e4711525",
     "grade": false,
     "grade_id": "cell-d96a6fcbdcbed177",
     "locked": true,
     "schema_version": 1,
     "solution": false
    }
   },
   "source": [
    "For this assignemnt we will be using nltk: the Natural Language Toolkit.\n",
    "\n",
    "To do so, we will need to download some text data.\n",
    "\n",
    "Natural language processing (NLP) often requires corpus data (lists of words, and or example text data) which is what we will download here now, if you don't already have them."
   ]
  },
  {
   "cell_type": "code",
   "execution_count": 46,
   "metadata": {
    "collapsed": true
   },
   "outputs": [],
   "source": [
    "# In the cell below, we will download some files from nltk. \n",
    "#   If you hit an error doing so, come back to this cell, and uncomment and run the code below. \n",
    "#   This code gives python permission to write to your disk (if it doesn't already have persmission to do so)\n",
    "\n",
    "import ssl\n",
    "\n",
    "try:\n",
    "    _create_unverified_https_context = ssl._create_unverified_context\n",
    "except AttributeError:\n",
    "    pass\n",
    "else:\n",
    "    ssl._create_default_https_context = _create_unverified_https_context"
   ]
  },
  {
   "cell_type": "code",
   "execution_count": 47,
   "metadata": {
    "deletable": false,
    "editable": false,
    "nbgrader": {
     "checksum": "9f82bd6229164ec98da8b4dc9a3bf25e",
     "grade": false,
     "grade_id": "cell-04e576aebbcdfe34",
     "locked": true,
     "schema_version": 1,
     "solution": false
    }
   },
   "outputs": [
    {
     "name": "stdout",
     "output_type": "stream",
     "text": [
      "[nltk_data] Downloading package punkt to /Users/vlsalina/nltk_data...\n",
      "[nltk_data]   Package punkt is already up-to-date!\n",
      "[nltk_data] Downloading package stopwords to\n",
      "[nltk_data]     /Users/vlsalina/nltk_data...\n",
      "[nltk_data]   Package stopwords is already up-to-date!\n"
     ]
    },
    {
     "data": {
      "text/plain": [
       "True"
      ]
     },
     "execution_count": 47,
     "metadata": {},
     "output_type": "execute_result"
    }
   ],
   "source": [
    "# Download the NLTK English tokenizer and the stopwords of all languages\n",
    "nltk.download('punkt')\n",
    "nltk.download('stopwords')"
   ]
  },
  {
   "cell_type": "markdown",
   "metadata": {
    "deletable": false,
    "editable": false,
    "nbgrader": {
     "checksum": "2583e3b70af931e62b8094e488d28f30",
     "grade": false,
     "grade_id": "cell-c728326960d37d88",
     "locked": true,
     "schema_version": 1,
     "solution": false
    }
   },
   "source": [
    "# Part 1: Sentiment Analysis on Movie Review Data\n",
    "\n",
    "In part 1 we will apply sentiment analysis to Movie Review (MR) data.\n",
    "\n",
    "- The MR data contains more than 10,000 reviews collect from IMDB website, and each of the reviews is annotated as either positive or negative sample. The number of positive and negative reviews are roughly the same. For more information about the dataset, you can visit http://www.cs.cornell.edu/people/pabo/movie-review-data/\n",
    "\n",
    "- For this homework assignment, we've already shuffled the data, and truncated the data to contain only 5000 reviews.\n",
    "\n",
    "In this part of the assignment we will:\n",
    "- Transform the raw text data into vectors with the BoW encoding method\n",
    "- Split the data into training and test sets\n",
    "- Write a function to train an SVM classifier on the training set\n",
    "- Test this classifier on the test set and report the results"
   ]
  },
  {
   "cell_type": "code",
   "execution_count": 48,
   "metadata": {
    "collapsed": true,
    "deletable": false,
    "nbgrader": {
     "checksum": "2c277a3922d71b955a9b4d5093c55cfb",
     "grade": false,
     "grade_id": "Q-1a",
     "locked": false,
     "schema_version": 1,
     "solution": true
    }
   },
   "outputs": [],
   "source": [
    "# 1a) Import data\n",
    "#  Import the textfile 'rt-polarity.txt' into a DataFrame called MR_df,\n",
    "#   Set the column names as 'index', 'label', 'review'\n",
    "# Note that 'rt-polarity.txt' is a tab separated raw text file, in which data is separated by tabs ('\\t')\n",
    "#   You can load this file with 'read_csv':\n",
    "#     Specifying the 'sep' (separator) argument as tabs ('\\t')\n",
    "#     You will have the set 'header' as None\n",
    "\n",
    "MR_filepath='data/rt-polarity.tsv'\n",
    "\n",
    "# YOUR CODE HERE\n",
    "MR_df = pd.read_csv(\"rt-polarity.tsv\", sep='\\t', header=None)\n",
    "MR_df.columns = [\"index\", \"label\", \"review\"]\n",
    "#raise NotImplementedError()"
   ]
  },
  {
   "cell_type": "code",
   "execution_count": 49,
   "metadata": {
    "collapsed": true,
    "deletable": false,
    "editable": false,
    "nbgrader": {
     "checksum": "1be01c42f731e39bfca476c20f7bb0d0",
     "grade": true,
     "grade_id": "A-1a",
     "locked": true,
     "points": 0.5,
     "schema_version": 1,
     "solution": false
    }
   },
   "outputs": [],
   "source": [
    "assert isinstance(MR_df, pd.DataFrame)\n"
   ]
  },
  {
   "cell_type": "code",
   "execution_count": 50,
   "metadata": {
    "deletable": false,
    "editable": false,
    "nbgrader": {
     "checksum": "22306bbac34884ea61b62b1693ee4d9a",
     "grade": false,
     "grade_id": "cell-40dae07b7eed27b1",
     "locked": true,
     "schema_version": 1,
     "solution": false
    }
   },
   "outputs": [
    {
     "data": {
      "text/html": [
       "<div>\n",
       "<style>\n",
       "    .dataframe thead tr:only-child th {\n",
       "        text-align: right;\n",
       "    }\n",
       "\n",
       "    .dataframe thead th {\n",
       "        text-align: left;\n",
       "    }\n",
       "\n",
       "    .dataframe tbody tr th {\n",
       "        vertical-align: top;\n",
       "    }\n",
       "</style>\n",
       "<table border=\"1\" class=\"dataframe\">\n",
       "  <thead>\n",
       "    <tr style=\"text-align: right;\">\n",
       "      <th></th>\n",
       "      <th>index</th>\n",
       "      <th>label</th>\n",
       "      <th>review</th>\n",
       "    </tr>\n",
       "  </thead>\n",
       "  <tbody>\n",
       "    <tr>\n",
       "      <th>0</th>\n",
       "      <td>8477</td>\n",
       "      <td>neg</td>\n",
       "      <td>except as an acting exercise or an exceptional...</td>\n",
       "    </tr>\n",
       "    <tr>\n",
       "      <th>1</th>\n",
       "      <td>4031</td>\n",
       "      <td>pos</td>\n",
       "      <td>japanese director shohei imamura 's latest fil...</td>\n",
       "    </tr>\n",
       "    <tr>\n",
       "      <th>2</th>\n",
       "      <td>10240</td>\n",
       "      <td>neg</td>\n",
       "      <td>i walked away not really know who `` they `` w...</td>\n",
       "    </tr>\n",
       "    <tr>\n",
       "      <th>3</th>\n",
       "      <td>8252</td>\n",
       "      <td>neg</td>\n",
       "      <td>what could have been a neat little story about...</td>\n",
       "    </tr>\n",
       "    <tr>\n",
       "      <th>4</th>\n",
       "      <td>1346</td>\n",
       "      <td>pos</td>\n",
       "      <td>no screen fantasy-adventure in recent memory h...</td>\n",
       "    </tr>\n",
       "  </tbody>\n",
       "</table>\n",
       "</div>"
      ],
      "text/plain": [
       "   index label                                             review\n",
       "0   8477   neg  except as an acting exercise or an exceptional...\n",
       "1   4031   pos  japanese director shohei imamura 's latest fil...\n",
       "2  10240   neg  i walked away not really know who `` they `` w...\n",
       "3   8252   neg  what could have been a neat little story about...\n",
       "4   1346   pos  no screen fantasy-adventure in recent memory h..."
      ]
     },
     "execution_count": 50,
     "metadata": {},
     "output_type": "execute_result"
    }
   ],
   "source": [
    "# Check the data\n",
    "MR_df.head()"
   ]
  },
  {
   "cell_type": "code",
   "execution_count": 51,
   "metadata": {
    "collapsed": true,
    "deletable": false,
    "nbgrader": {
     "checksum": "d2657c82ff17a400bef3d7c2b41c1f1c",
     "grade": false,
     "grade_id": "Q-1b",
     "locked": false,
     "schema_version": 1,
     "solution": true
    }
   },
   "outputs": [],
   "source": [
    "# 1b) Create a function that converts string labels to numerical labels\n",
    "#   Function name: convert_label\n",
    "#   The function should do the following:\n",
    "#     if the input label is \"pos\" return 1.0\n",
    "#     if the input label is \"neg\" return 0.0\n",
    "#     otherwise, return the input label as is\n",
    "\n",
    "def convert_label(label):\n",
    "    if label == \"pos\":\n",
    "        return(1.0)\n",
    "    elif label == \"neg\":\n",
    "        return(0.0)\n",
    "    else:\n",
    "        return(label)\n",
    "# YOUR CODE HERE\n",
    "#raise NotImplementedError()"
   ]
  },
  {
   "cell_type": "code",
   "execution_count": 52,
   "metadata": {
    "collapsed": true,
    "deletable": false,
    "editable": false,
    "nbgrader": {
     "checksum": "a93eeacd8bf8339f6ccaee9a0378b406",
     "grade": true,
     "grade_id": "A-1b",
     "locked": true,
     "points": 0.5,
     "schema_version": 1,
     "solution": false
    }
   },
   "outputs": [],
   "source": [
    "assert callable(convert_label)\n"
   ]
  },
  {
   "cell_type": "code",
   "execution_count": 151,
   "metadata": {
    "deletable": false,
    "nbgrader": {
     "checksum": "6c5c0dc70d30e354596c74bfeafed99f",
     "grade": false,
     "grade_id": "Q-1c",
     "locked": false,
     "schema_version": 1,
     "solution": true
    }
   },
   "outputs": [
    {
     "data": {
      "text/plain": [
       "pandas.core.series.Series"
      ]
     },
     "execution_count": 151,
     "metadata": {},
     "output_type": "execute_result"
    }
   ],
   "source": [
    "# 1c) Convert all labels in MR_df[\"label\"] to numerical labels, using the 'convert_label' function\n",
    "#  Save them as a new column named \"y\" in MR_df\n",
    "\n",
    "# YOUR CODE HERE\n",
    "x = MR_df[\"label\"].apply(convert_label)\n",
    "MR_df['y'] = x\n",
    "#MR_df\n",
    "#raise NotImplementedError()"
   ]
  },
  {
   "cell_type": "code",
   "execution_count": 54,
   "metadata": {
    "collapsed": true,
    "deletable": false,
    "editable": false,
    "nbgrader": {
     "checksum": "4411b1a5943a1df885c3c8e948eb7b68",
     "grade": true,
     "grade_id": "A-1c",
     "locked": true,
     "points": 0.5,
     "schema_version": 1,
     "solution": false
    }
   },
   "outputs": [],
   "source": [
    "assert sorted(set(MR_df['y'])) == [0., 1.]\n"
   ]
  },
  {
   "cell_type": "code",
   "execution_count": 55,
   "metadata": {
    "deletable": false,
    "editable": false,
    "nbgrader": {
     "checksum": "851347cca7a104f450a70082311a2a1f",
     "grade": false,
     "grade_id": "cell-cd37ee3f688aaaec",
     "locked": true,
     "schema_version": 1,
     "solution": false
    }
   },
   "outputs": [
    {
     "data": {
      "text/html": [
       "<div>\n",
       "<style>\n",
       "    .dataframe thead tr:only-child th {\n",
       "        text-align: right;\n",
       "    }\n",
       "\n",
       "    .dataframe thead th {\n",
       "        text-align: left;\n",
       "    }\n",
       "\n",
       "    .dataframe tbody tr th {\n",
       "        vertical-align: top;\n",
       "    }\n",
       "</style>\n",
       "<table border=\"1\" class=\"dataframe\">\n",
       "  <thead>\n",
       "    <tr style=\"text-align: right;\">\n",
       "      <th></th>\n",
       "      <th>index</th>\n",
       "      <th>label</th>\n",
       "      <th>review</th>\n",
       "      <th>y</th>\n",
       "    </tr>\n",
       "  </thead>\n",
       "  <tbody>\n",
       "    <tr>\n",
       "      <th>0</th>\n",
       "      <td>8477</td>\n",
       "      <td>neg</td>\n",
       "      <td>except as an acting exercise or an exceptional...</td>\n",
       "      <td>0.0</td>\n",
       "    </tr>\n",
       "    <tr>\n",
       "      <th>1</th>\n",
       "      <td>4031</td>\n",
       "      <td>pos</td>\n",
       "      <td>japanese director shohei imamura 's latest fil...</td>\n",
       "      <td>1.0</td>\n",
       "    </tr>\n",
       "    <tr>\n",
       "      <th>2</th>\n",
       "      <td>10240</td>\n",
       "      <td>neg</td>\n",
       "      <td>i walked away not really know who `` they `` w...</td>\n",
       "      <td>0.0</td>\n",
       "    </tr>\n",
       "    <tr>\n",
       "      <th>3</th>\n",
       "      <td>8252</td>\n",
       "      <td>neg</td>\n",
       "      <td>what could have been a neat little story about...</td>\n",
       "      <td>0.0</td>\n",
       "    </tr>\n",
       "    <tr>\n",
       "      <th>4</th>\n",
       "      <td>1346</td>\n",
       "      <td>pos</td>\n",
       "      <td>no screen fantasy-adventure in recent memory h...</td>\n",
       "      <td>1.0</td>\n",
       "    </tr>\n",
       "  </tbody>\n",
       "</table>\n",
       "</div>"
      ],
      "text/plain": [
       "   index label                                             review    y\n",
       "0   8477   neg  except as an acting exercise or an exceptional...  0.0\n",
       "1   4031   pos  japanese director shohei imamura 's latest fil...  1.0\n",
       "2  10240   neg  i walked away not really know who `` they `` w...  0.0\n",
       "3   8252   neg  what could have been a neat little story about...  0.0\n",
       "4   1346   pos  no screen fantasy-adventure in recent memory h...  1.0"
      ]
     },
     "execution_count": 55,
     "metadata": {},
     "output_type": "execute_result"
    }
   ],
   "source": [
    "# Check the MR_df data\n",
    "MR_df.head()"
   ]
  },
  {
   "cell_type": "code",
   "execution_count": 56,
   "metadata": {
    "collapsed": true,
    "deletable": false,
    "nbgrader": {
     "checksum": "5c26081d88a7149416b3cfd66ca623a8",
     "grade": false,
     "grade_id": "Q-1d",
     "locked": false,
     "schema_version": 1,
     "solution": true
    }
   },
   "outputs": [],
   "source": [
    "# 1d) We will now create a \"CountVectorizer\" object to transform the text data into vectors with numerical values. \n",
    "#   To do so, we will initialize a \"CountVectorizer\" object, and name it as \"vectorizer\".\n",
    "\n",
    "# We need to pass 4 arguments to initialize a CountVectorizer:\n",
    "#   1. analyzer: 'word'\n",
    "#        Specify to analyze data from word-level\n",
    "#   2. max_features: 2000\n",
    "#        Set a max number of unique words\n",
    "#   3. tokenizer: word_tokenize\n",
    "#        Set to tokenize the text data by using the word_tokenizer from NLTK \n",
    "#   4. stop_words: stopwords.words('english')\n",
    "#        Set to remove all stopwords in English. \n",
    "#          We do this since they generally don't provide useful discriminative information.\n",
    "\n",
    "# YOUR CODE HERE\n",
    "vectorizer = CountVectorizer(analyzer='word', max_features=2000, tokenizer=word_tokenize, stop_words = stopwords.words('english'))\n",
    "    \n",
    "    \n",
    "    \n",
    "#raise NotImplementedError()"
   ]
  },
  {
   "cell_type": "code",
   "execution_count": 57,
   "metadata": {
    "collapsed": true,
    "deletable": false,
    "editable": false,
    "nbgrader": {
     "checksum": "f4a2bc9c2a6bc8e7c606c66eb1037ac3",
     "grade": true,
     "grade_id": "A-1d",
     "locked": true,
     "points": 0.5,
     "schema_version": 1,
     "solution": false
    }
   },
   "outputs": [],
   "source": [
    "assert vectorizer.analyzer == 'word'\n",
    "assert vectorizer.max_features == 2000\n",
    "assert vectorizer.tokenizer == word_tokenize\n",
    "assert vectorizer.stop_words == stopwords.words('english')\n",
    "assert hasattr(vectorizer, \"fit_transform\")"
   ]
  },
  {
   "cell_type": "code",
   "execution_count": 58,
   "metadata": {
    "collapsed": true,
    "deletable": false,
    "nbgrader": {
     "checksum": "83bae7fa828282a5590a4bb093fa8844",
     "grade": false,
     "grade_id": "Q-1e",
     "locked": false,
     "schema_version": 1,
     "solution": true
    }
   },
   "outputs": [],
   "source": [
    "# 1e) Transform reviews (MR_df[\"review\"]) into vectors using the \"vectorizer\" we created above:\n",
    "# The method you will be using is:\n",
    "#   MR_X = vectorizer.fit_transform(...).toarray()\n",
    "#   Note that we apply the 'toarray' method at the type cast the output to a numpy array. \n",
    "#     This is something we will do multiple times, to turn custom sklearn objects back into arrays. \n",
    "\n",
    "# YOUR CODE HERE\n",
    "MR_X = vectorizer.fit_transform(MR_df[\"review\"]).toarray()\n",
    "\n",
    "#raise NotImplementedError()"
   ]
  },
  {
   "cell_type": "code",
   "execution_count": 59,
   "metadata": {
    "collapsed": true,
    "deletable": false,
    "editable": false,
    "nbgrader": {
     "checksum": "ec1fecbf168063a272cc960eac635ab4",
     "grade": true,
     "grade_id": "A-1e",
     "locked": true,
     "points": 0.5,
     "schema_version": 1,
     "solution": false
    }
   },
   "outputs": [],
   "source": [
    "assert type(MR_X) == np.ndarray\n"
   ]
  },
  {
   "cell_type": "code",
   "execution_count": 60,
   "metadata": {
    "collapsed": true,
    "deletable": false,
    "nbgrader": {
     "checksum": "a91203e01aa7e842621473f8a2b6b63e",
     "grade": false,
     "grade_id": "Q-1f",
     "locked": false,
     "schema_version": 1,
     "solution": true
    }
   },
   "outputs": [],
   "source": [
    "# 1f) Copy out \"y\" column in MR_df and save it as an np.ndarray named \"MR_y\"\n",
    "#   Make sure the shape of \"MR_y\" is (5000,) - you may have to use 'reshape' to do so. \n",
    "\n",
    "# YOUR CODE HERE\n",
    "MR_y = MR_df['y']\n",
    "#raise NotImplementedError()"
   ]
  },
  {
   "cell_type": "code",
   "execution_count": 61,
   "metadata": {
    "collapsed": true,
    "deletable": false,
    "editable": false,
    "nbgrader": {
     "checksum": "3b15f7368fa336b9430b03d8f6988d63",
     "grade": true,
     "grade_id": "A-1f",
     "locked": true,
     "points": 0.5,
     "schema_version": 1,
     "solution": false
    }
   },
   "outputs": [],
   "source": [
    "assert MR_y.shape == (5000,)\n"
   ]
  },
  {
   "cell_type": "code",
   "execution_count": 62,
   "metadata": {
    "deletable": false,
    "nbgrader": {
     "checksum": "1df2dee414dd910a9b2977172619f0a2",
     "grade": false,
     "grade_id": "Q-1g",
     "locked": false,
     "schema_version": 1,
     "solution": true
    }
   },
   "outputs": [
    {
     "name": "stdout",
     "output_type": "stream",
     "text": [
      "4000\n",
      "1000\n"
     ]
    }
   ],
   "source": [
    "# 1g) Split up train and test sets\n",
    "#   We first set 80% of the data as the training set to train an SVM classifier. \n",
    "#   We will then test the learnt classifier on the rest 20% data samples.\n",
    "\n",
    "# Calculate the number of training data samples (80% of total) and store it in \"num_training\"\n",
    "# Calculate the number of test data samples (20% of total) and store it in \"num_testing\"\n",
    "# Make sure both of these variables are of type 'int'\n",
    "\n",
    "# YOUR CODE HERE\n",
    "num_training = int(MR_y[:4000].count())\n",
    "num_testing = int(MR_y[4000:].count())\n",
    "print(num_training)\n",
    "print(num_testing)\n",
    "\n",
    "#raise NotImplementedError()"
   ]
  },
  {
   "cell_type": "code",
   "execution_count": 63,
   "metadata": {
    "collapsed": true,
    "deletable": false,
    "editable": false,
    "nbgrader": {
     "checksum": "6c26caa14ff22dbcfc8f8888b2b98d6d",
     "grade": true,
     "grade_id": "A-1g",
     "locked": true,
     "points": 0.5,
     "schema_version": 1,
     "solution": false
    }
   },
   "outputs": [],
   "source": [
    "assert type(num_training) == int\n",
    "assert type(num_testing) == int\n"
   ]
  },
  {
   "cell_type": "code",
   "execution_count": 64,
   "metadata": {
    "collapsed": true,
    "deletable": false,
    "nbgrader": {
     "checksum": "1ea2c7f40999ee2c94a2474c747ac65b",
     "grade": false,
     "grade_id": "Q-1h",
     "locked": false,
     "schema_version": 1,
     "solution": true
    }
   },
   "outputs": [],
   "source": [
    "# 1h) Split the \"MR_X\" and \"MR_y\" into training set and test set.\n",
    "#    You should use the 'num_training' variable to extract the data from MR_X and MR_y.\n",
    "#      Extract the first 'num_training' samples as training data, and extract the rest as test data.\n",
    "#  Name them as:\n",
    "#    \"MR_train_X\" and \"MR_train_y\" for the training set\n",
    "#    \"MR_test_X\" and \"MR_test_y\" for the test set\n",
    "\n",
    "# YOUR CODE HERE\n",
    "MR_train_X = MR_X[:num_training]\n",
    "MR_train_y = MR_y[:num_training]\n",
    "MR_test_X = MR_X[num_testing:]\n",
    "MR_test_y = MR_y[num_testing:]\n",
    "\n",
    "#raise NotImplementedError()"
   ]
  },
  {
   "cell_type": "code",
   "execution_count": 65,
   "metadata": {
    "collapsed": true,
    "deletable": false,
    "editable": false,
    "nbgrader": {
     "checksum": "394846299466a6fc67650c96a45664e7",
     "grade": true,
     "grade_id": "A-1h",
     "locked": true,
     "points": 0.5,
     "schema_version": 1,
     "solution": false
    }
   },
   "outputs": [],
   "source": [
    "assert MR_train_X.shape[0] == MR_train_y.shape[0]\n",
    "assert MR_test_X.shape[0] == MR_test_y.shape[0]\n",
    "\n",
    "assert len(MR_train_X) == 4000\n",
    "assert len(MR_test_y) == 1000"
   ]
  },
  {
   "cell_type": "code",
   "execution_count": 86,
   "metadata": {
    "collapsed": true,
    "deletable": false,
    "nbgrader": {
     "checksum": "9d7c1b2673df0341154608065250257b",
     "grade": false,
     "grade_id": "Q-1i",
     "locked": false,
     "schema_version": 1,
     "solution": true
    }
   },
   "outputs": [],
   "source": [
    "# 1i) Define a function called \"train_SVM\" that initializes an SVM classifier and trains it\n",
    "# \n",
    "# Inputs: \n",
    "#     X: np.ndarray, training samples, \n",
    "#     y: np.ndarray, training labels,\n",
    "#     kernel: string, set the default value of \"kernel\" as \"linear\"\n",
    "# Output:\n",
    "#     a trained classifier \"clf\"\n",
    "\n",
    "# Hint: There are 2 steps involved in this function:\n",
    "#     1) Initializing an SVM classifier: clf = SVC(...)\n",
    "#     2) Training the classifier: clf.fit(X, y)\n",
    "\n",
    "def train_SVM(X, y, kernel='linear'):\n",
    "    clf = SVC(kernel=kernel)\n",
    "    clf.fit(X, y)\n",
    "    return(clf)\n",
    "    \n",
    "# YOUR CODE HERE\n",
    "#raise NotImplementedError()"
   ]
  },
  {
   "cell_type": "code",
   "execution_count": 87,
   "metadata": {
    "collapsed": true,
    "deletable": false,
    "editable": false,
    "nbgrader": {
     "checksum": "55eb758d448afee6160529b9960da8ac",
     "grade": true,
     "grade_id": "A-1i",
     "locked": true,
     "points": 0.5,
     "schema_version": 1,
     "solution": false
    }
   },
   "outputs": [],
   "source": [
    "assert callable(train_SVM)\n"
   ]
  },
  {
   "cell_type": "code",
   "execution_count": 88,
   "metadata": {
    "collapsed": true,
    "deletable": false,
    "nbgrader": {
     "checksum": "288d59a7b0e00aac80a56fb85cac91ef",
     "grade": false,
     "grade_id": "Q-ij",
     "locked": false,
     "schema_version": 1,
     "solution": true
    }
   },
   "outputs": [],
   "source": [
    "# 1j) Train an SVM classifier on the samples \"MR_train_X\" and the labels \"MR_train_y\"\n",
    "#  You need to call the function \"train_SVM\" you just created.\n",
    "#  Name the returned object as \"MR_clf\"\n",
    "#  Note that running this function may take many seconds / up to a few minutes to run.\n",
    "\n",
    "# YOUR CODE HERE\n",
    "MR_clf = train_SVM(MR_train_X, MR_train_y)\n",
    "#raise NotImplementedError()"
   ]
  },
  {
   "cell_type": "code",
   "execution_count": 89,
   "metadata": {
    "collapsed": true,
    "deletable": false,
    "editable": false,
    "nbgrader": {
     "checksum": "d527fd33a6355256100c77d493ffec4e",
     "grade": true,
     "grade_id": "A-ij",
     "locked": true,
     "points": 0.5,
     "schema_version": 1,
     "solution": false
    }
   },
   "outputs": [],
   "source": [
    "assert isinstance(MR_clf, SVC)\n",
    "assert hasattr(MR_clf, \"predict\")"
   ]
  },
  {
   "cell_type": "code",
   "execution_count": 90,
   "metadata": {
    "collapsed": true,
    "deletable": false,
    "nbgrader": {
     "checksum": "f7c73a6193612466d612ce1d439f2de3",
     "grade": false,
     "grade_id": "Q-k",
     "locked": false,
     "schema_version": 1,
     "solution": true
    }
   },
   "outputs": [],
   "source": [
    "# 1k) predict labels for both training samples and test samples\n",
    "# You will need to use \n",
    "#    MR_clf.predict(...)\n",
    "\n",
    "# Name the predicted labels for the training samples as \"MR_predicted_train_y\"\n",
    "# Name the predicted labels for the testing samples as \"MR_predicted_test_y\" \n",
    "\n",
    "# YOUR CODE HERE\n",
    "MR_predicted_train_y = MR_clf.predict(MR_train_X)\n",
    "MR_predicted_test_y = MR_clf.predict(MR_test_X)\n",
    "#raise NotImplementedError()"
   ]
  },
  {
   "cell_type": "code",
   "execution_count": 91,
   "metadata": {
    "deletable": false,
    "editable": false,
    "nbgrader": {
     "checksum": "975855c61de091efe8eb52181efc8e80",
     "grade": false,
     "grade_id": "cell-fc5799e344e24b69",
     "locked": true,
     "schema_version": 1,
     "solution": false
    }
   },
   "outputs": [
    {
     "name": "stdout",
     "output_type": "stream",
     "text": [
      "             precision    recall  f1-score   support\n",
      "\n",
      "        0.0       0.91      0.92      0.91      2008\n",
      "        1.0       0.92      0.91      0.91      1992\n",
      "\n",
      "avg / total       0.91      0.91      0.91      4000\n",
      "\n"
     ]
    }
   ],
   "source": [
    "# Now we will use the function 'classification_report'\n",
    "#  to print out the performance of the classifier on the training set\n",
    "\n",
    "# Your classifier should be able to reach above 90% accuracy on the training set\n",
    "print(classification_report(MR_train_y,MR_predicted_train_y))"
   ]
  },
  {
   "cell_type": "code",
   "execution_count": 92,
   "metadata": {
    "collapsed": true,
    "deletable": false,
    "editable": false,
    "nbgrader": {
     "checksum": "c836592afff80898804c801bd2e21d6a",
     "grade": true,
     "grade_id": "A-1k",
     "locked": true,
     "points": 0.5,
     "schema_version": 1,
     "solution": false
    }
   },
   "outputs": [],
   "source": [
    "# Tests for 1k\n",
    "assert MR_predicted_train_y.shape == (4000,)\n",
    "assert MR_predicted_test_y.shape == (1000,)\n",
    "\n",
    "precision, recall, _, _ = precision_recall_fscore_support(MR_train_y,MR_predicted_train_y)\n",
    "assert np.isclose(precision[0], 0.91, 0.02)\n",
    "assert np.isclose(precision[1], 0.92, 0.02)\n"
   ]
  },
  {
   "cell_type": "code",
   "execution_count": 93,
   "metadata": {
    "deletable": false,
    "editable": false,
    "nbgrader": {
     "checksum": "ab144d1f5f428088d3dbb25acfd27bf5",
     "grade": false,
     "grade_id": "cell-9fc925527bb32076",
     "locked": true,
     "schema_version": 1,
     "solution": false
    }
   },
   "outputs": [
    {
     "name": "stdout",
     "output_type": "stream",
     "text": [
      "             precision    recall  f1-score   support\n",
      "\n",
      "        0.0       0.91      0.92      0.92       506\n",
      "        1.0       0.92      0.91      0.91       494\n",
      "\n",
      "avg / total       0.92      0.92      0.92      1000\n",
      "\n"
     ]
    }
   ],
   "source": [
    "# And finally, we check the performance of the trained classifier on the test set\n",
    "\n",
    "# Your classifier should be able to reach around 70% accuracy on the test set.\n",
    "print(classification_report(MR_test_y, MR_predicted_test_y))"
   ]
  },
  {
   "cell_type": "markdown",
   "metadata": {
    "deletable": false,
    "editable": false,
    "nbgrader": {
     "checksum": "592f6be991c7a20c59314ff39989da9b",
     "grade": false,
     "grade_id": "cell-1f649bb709859c3e",
     "locked": true,
     "schema_version": 1,
     "solution": false
    }
   },
   "source": [
    "# Part 2: TF-IDF\n",
    "\n",
    "In this part, we will explore TF-IDF on sentiment analysis.\n",
    "\n",
    "TF-IDF is used as an alternate way to encode text data, as compared to the BoW's approach used in Part 1. \n",
    "\n",
    "To do, we will:\n",
    "- Transform the raw text data into vectors using TF-IDF\n",
    "- Train an SVM classifier on the training set and report the performance this classifer on the test set"
   ]
  },
  {
   "cell_type": "code",
   "execution_count": 95,
   "metadata": {
    "collapsed": true,
    "deletable": false,
    "nbgrader": {
     "checksum": "faa48862931ed6e645211193b93d5d68",
     "grade": false,
     "grade_id": "Q-2a",
     "locked": false,
     "schema_version": 1,
     "solution": true
    }
   },
   "outputs": [],
   "source": [
    "# 2a) We will create a \"TfidfVectorizer\" object to transform the text data into vectors with TF-IDF\n",
    "#\n",
    "# To do so, we will initialize a \"TfidfVectorizer\" object, and name it as \"tfidf\".\n",
    "#\n",
    "# We need to pass 4 arguments into the \"TfidfVectorizer\" to initialize a \"tfidf\":\n",
    "#   1. sublinear_tf: True\n",
    "#        Set to apply TF scaling.\n",
    "#   2. analyzer: 'word'\n",
    "#        Set to analyze the data at the word-level\n",
    "#   3. max_features: 2000\n",
    "#        Set the max number of unique words\n",
    "#   4. tokenizer: word_tokenize\n",
    "#        Set to tokenize the text data by using the word_tokenizer from NLTK \n",
    "\n",
    "# YOUR CODE HERE\n",
    "tfidf = TfidfVectorizer(sublinear_tf=True, analyzer='word', max_features=2000,tokenizer=word_tokenize)\n",
    "#raise NotImplementedError()"
   ]
  },
  {
   "cell_type": "code",
   "execution_count": 96,
   "metadata": {
    "collapsed": true,
    "deletable": false,
    "editable": false,
    "nbgrader": {
     "checksum": "6d607d89e0d3ffcece40dd78cccb5a55",
     "grade": true,
     "grade_id": "A-2a",
     "locked": true,
     "points": 0.5,
     "schema_version": 1,
     "solution": false
    }
   },
   "outputs": [],
   "source": [
    "assert tfidf.analyzer == 'word'\n",
    "assert tfidf.max_features == 2000\n",
    "assert tfidf.tokenizer == word_tokenize\n",
    "assert tfidf.stop_words == None\n",
    "assert hasattr(vectorizer, \"fit_transform\")"
   ]
  },
  {
   "cell_type": "code",
   "execution_count": 98,
   "metadata": {
    "collapsed": true,
    "deletable": false,
    "nbgrader": {
     "checksum": "10a2567372b9ee91453dcacf8d6b9161",
     "grade": false,
     "grade_id": "Q-2b",
     "locked": false,
     "schema_version": 1,
     "solution": true
    }
   },
   "outputs": [],
   "source": [
    "# 2b) Transform Reviews \n",
    "# Transform the 'review' column of MR_df into vectors using the \"tfidf\" we created above.\n",
    "#   Save the transformed data into a variable called \"MR_tfidf_X\"\n",
    "# Hint: You might need to cast the datatype of \"MR_tfidf_X\" to numpy.ndarray by using .toarray()\n",
    "\n",
    "# YOUR CODE HERE\n",
    "MR_tfidf_X = tfidf.fit_transform(MR_df['review']).toarray()\n",
    "#raise NotImplementedError()"
   ]
  },
  {
   "cell_type": "code",
   "execution_count": 99,
   "metadata": {
    "collapsed": true,
    "deletable": false,
    "editable": false,
    "nbgrader": {
     "checksum": "5e419cca933997eed3404edc0224a311",
     "grade": true,
     "grade_id": "A-2b",
     "locked": true,
     "points": 0.5,
     "schema_version": 1,
     "solution": false
    }
   },
   "outputs": [],
   "source": [
    "assert isinstance(MR_tfidf_X, np.ndarray)\n",
    "\n",
    "assert \"skills\" in set(tfidf.stop_words_)\n",
    "assert \"risky\" in set(tfidf.stop_words_)\n",
    "assert \"adopts\" in set(tfidf.stop_words_)\n"
   ]
  },
  {
   "cell_type": "code",
   "execution_count": 101,
   "metadata": {
    "collapsed": true,
    "deletable": false,
    "nbgrader": {
     "checksum": "9657b973067f86378387379120e2a63a",
     "grade": false,
     "grade_id": "Q-2c",
     "locked": false,
     "schema_version": 1,
     "solution": true
    }
   },
   "outputs": [],
   "source": [
    "# 2c) Split the \"MR_tfidf_X\" and \"MR_y\" into training set and test set. \n",
    "#  Name these variables as:\n",
    "#    \"MR_train_tfidf_X\" and \"MR_train_tfidf_y\" for the training set\n",
    "#    \"MR_test_tfidf_X\" and \"MR_test_tfidf_y\" for the test set\n",
    "#  We will use the same 80/20 split as in part 1. \n",
    "#    You can use the same 'num_training' variable from part 1 to split up the data.\n",
    "\n",
    "# YOUR CODE HERE\n",
    "MR_train_tfidf_X = MR_tfidf_X[:num_training]\n",
    "MR_train_tfidf_y = MR_y[:num_training]\n",
    "MR_test_tfidf_X = MR_tfidf_X[:num_testing]\n",
    "MR_test_tfidf_y = MR_y[:num_testing]\n",
    "#raise NotImplementedError()"
   ]
  },
  {
   "cell_type": "code",
   "execution_count": 102,
   "metadata": {
    "collapsed": true,
    "deletable": false,
    "editable": false,
    "nbgrader": {
     "checksum": "c6e5d24c12ad756d5ec0d4e12e0fa7e7",
     "grade": true,
     "grade_id": "A-2c",
     "locked": true,
     "points": 0.5,
     "schema_version": 1,
     "solution": false
    }
   },
   "outputs": [],
   "source": [
    "assert MR_train_tfidf_X[0].tolist() == MR_tfidf_X[0].tolist()\n",
    "assert MR_train_tfidf_X.shape == (4000, 2000)\n",
    "assert MR_test_tfidf_X.shape == (1000, 2000)"
   ]
  },
  {
   "cell_type": "code",
   "execution_count": 103,
   "metadata": {
    "collapsed": true,
    "deletable": false,
    "nbgrader": {
     "checksum": "e4d0041012fd0bbe591ca2649a957557",
     "grade": false,
     "grade_id": "Q-2d",
     "locked": false,
     "schema_version": 1,
     "solution": true
    }
   },
   "outputs": [],
   "source": [
    "# 2d) Train an SVM classifier on the samples \"MR_train_tfidf_X\" and the labels \"MR_train_y\"\n",
    "#   You need to call the function \"train_SVM\" you created in part 1.\n",
    "#   Name the returned object as \"MR_tfidf_clf\".\n",
    "#   Note that this may take many seconds, up to a few minutes, to run.\n",
    "\n",
    "# YOUR CODE HERE\n",
    "MR_tfidf_clf = train_SVM(MR_train_tfidf_X, MR_train_y)\n",
    "#raise NotImplementedError()"
   ]
  },
  {
   "cell_type": "code",
   "execution_count": 104,
   "metadata": {
    "collapsed": true,
    "deletable": false,
    "editable": false,
    "nbgrader": {
     "checksum": "cb5d311cc8b088971b1b20fd1e14301f",
     "grade": true,
     "grade_id": "A-2d",
     "locked": true,
     "points": 0.5,
     "schema_version": 1,
     "solution": false
    }
   },
   "outputs": [],
   "source": [
    "assert isinstance(MR_clf, SVC)\n",
    "assert hasattr(MR_tfidf_clf, \"predict\")"
   ]
  },
  {
   "cell_type": "code",
   "execution_count": 105,
   "metadata": {
    "collapsed": true,
    "deletable": false,
    "nbgrader": {
     "checksum": "f08dc4dc22da4302291c1034c8bb563c",
     "grade": false,
     "grade_id": "Q-2e",
     "locked": false,
     "schema_version": 1,
     "solution": true
    }
   },
   "outputs": [],
   "source": [
    "# 2e) Predict the labels for both the training and test samples (the 'X' data)\n",
    "# You will need to use \n",
    "#    MR_tfidf_clf.predict(...)\n",
    "\n",
    "# Name the predicted labels on training samples as \"MR_pred_train_tfidf_y\"\n",
    "# Name the predicted labels on testing samples as \"MR_pred_test_tfidf_y\" \n",
    "\n",
    "# YOUR CODE HERE\n",
    "MR_pred_train_tfidf_y = MR_tfidf_clf.predict(MR_train_tfidf_X)\n",
    "MR_pred_test_tfidf_y = MR_tfidf_clf.predict(MR_test_tfidf_X)\n",
    "\n",
    "#raise NotImplementedError()"
   ]
  },
  {
   "cell_type": "code",
   "execution_count": 106,
   "metadata": {
    "deletable": false,
    "editable": false,
    "nbgrader": {
     "checksum": "e435a2f2352cca1073ce66f4a7bfa4d7",
     "grade": false,
     "grade_id": "cell-afa1a0e6e8f72a98",
     "locked": true,
     "schema_version": 1,
     "solution": false
    }
   },
   "outputs": [
    {
     "name": "stdout",
     "output_type": "stream",
     "text": [
      "             precision    recall  f1-score   support\n",
      "\n",
      "        0.0       0.86      0.88      0.87      2008\n",
      "        1.0       0.87      0.85      0.86      1992\n",
      "\n",
      "avg / total       0.87      0.87      0.87      4000\n",
      "\n"
     ]
    }
   ],
   "source": [
    "# Again, we use 'classification_report' to check the performance on the training set \n",
    "\n",
    "# Your classifier should be able to reach above 85% accuracy.\n",
    "print(classification_report(MR_train_tfidf_y, MR_pred_train_tfidf_y))"
   ]
  },
  {
   "cell_type": "code",
   "execution_count": 107,
   "metadata": {
    "collapsed": true,
    "deletable": false,
    "editable": false,
    "nbgrader": {
     "checksum": "8aa3a7db72cd3b5a8208c12fb4e35124",
     "grade": true,
     "grade_id": "A-2e",
     "locked": true,
     "points": 0.5,
     "schema_version": 1,
     "solution": false
    }
   },
   "outputs": [],
   "source": [
    "# Tests for 2e\n",
    "precision, recall, _, _ = precision_recall_fscore_support(MR_train_tfidf_y, MR_pred_train_tfidf_y)\n",
    "assert np.isclose(precision[0], 0.86, 0.02)\n",
    "assert np.isclose(precision[1], 0.87, 0.02)\n"
   ]
  },
  {
   "cell_type": "code",
   "execution_count": 108,
   "metadata": {
    "deletable": false,
    "editable": false,
    "nbgrader": {
     "checksum": "577fe1deb6fd1b240c0e02a4c08c36a0",
     "grade": false,
     "grade_id": "cell-0d6895d998434cbe",
     "locked": true,
     "schema_version": 1,
     "solution": false
    }
   },
   "outputs": [
    {
     "name": "stdout",
     "output_type": "stream",
     "text": [
      "             precision    recall  f1-score   support\n",
      "\n",
      "        0.0       0.89      0.89      0.89       506\n",
      "        1.0       0.88      0.89      0.88       494\n",
      "\n",
      "avg / total       0.89      0.89      0.89      1000\n",
      "\n"
     ]
    }
   ],
   "source": [
    "# And check performance on the test set\n",
    "\n",
    "# Your classifier should be able to reach around 70% accuracy.\n",
    "print(classification_report(MR_test_tfidf_y, MR_pred_test_tfidf_y))"
   ]
  },
  {
   "cell_type": "markdown",
   "metadata": {
    "deletable": false,
    "editable": false,
    "nbgrader": {
     "checksum": "972dbe682b12f7e0afb0c36f5ef3214f",
     "grade": false,
     "grade_id": "cell-29e222dd4865bd30",
     "locked": true,
     "schema_version": 1,
     "solution": false
    }
   },
   "source": [
    "### Written Answer Question\n",
    "\n",
    "How does the performance of the TF-IDF classifier compare to the classifier used in part 1?"
   ]
  },
  {
   "cell_type": "markdown",
   "metadata": {
    "deletable": false,
    "nbgrader": {
     "checksum": "e0127d55bda50552dcea96a26fdeef27",
     "grade": true,
     "grade_id": "cell-ac993b2591707522",
     "locked": false,
     "points": 0,
     "schema_version": 1,
     "solution": true
    }
   },
   "source": [
    "YOUR ANSWER HERE"
   ]
  },
  {
   "cell_type": "markdown",
   "metadata": {
    "deletable": false,
    "editable": false,
    "nbgrader": {
     "checksum": "1b62782d33e5022d26d18ec60b5a457f",
     "grade": false,
     "grade_id": "cell-15bf17c90c32702a",
     "locked": true,
     "schema_version": 1,
     "solution": false
    }
   },
   "source": [
    "# Part 3: Sentiment Analysis on Customer Review with TF-IDF\n",
    "\n",
    "In this part, we will use TF-IDF to analyse the sentiment of some Customer Review (CR) data.\n",
    "\n",
    "The CR data contains around 3771 reviews, and they were all collected from the Amazon website. The reviews are annotated by human as either positive reviews and negative reviews. In this dataset, the 2 classes are not balanced, as there are twice as many positive reviews as negative reviews.\n",
    "\n",
    "For more information on this dataset, you can visit https://www.cs.uic.edu/~liub/FBS/sentiment-analysis.html\n",
    "\n",
    "In this part, we have alreay split the data into a training set and a test set, in which the training set has labels for the reviews, but the test set doesn't. \n",
    "\n",
    "The goal is to train an SVM classifier on the training set, and then predict pos/neg for each review in the test set.\n",
    "\n",
    "To do so, we will:\n",
    "- Use the TF-IDF feature engineering method to encode the raw text data into vectors\n",
    "- Train an SVM classifier on the training set\n",
    "- Predict labels for the reviews in the test set\n",
    "\n",
    "The performance of your trained classifier on the test set will be checked by a hidden test."
   ]
  },
  {
   "cell_type": "code",
   "execution_count": 113,
   "metadata": {
    "collapsed": true,
    "deletable": false,
    "nbgrader": {
     "checksum": "68aa92ffa58e05665fec75a92ecdd002",
     "grade": false,
     "grade_id": "Q-3a",
     "locked": false,
     "schema_version": 1,
     "solution": true
    }
   },
   "outputs": [],
   "source": [
    "# 3a) Loading the data\n",
    "\n",
    "# Customer review task has 2 files\n",
    "#  \"data/custrev.tsv\" contains training data with labels\n",
    "#  \"data/custrev.tsv\" contains test data without labels which need to be predicted \n",
    "# Import raw textfile 'data/custrev.train' into a DataFrame called CR_train_df,\n",
    "#   Set the column names as 'index', 'label', 'review'\n",
    "# Import raw textfile 'data/custrev.test' into a DataFrame called CR_test_df,\n",
    "#   Set the column names as 'index', 'review'\n",
    "# Note that both will need to be imported with 'sep' and 'header' arguments (like in 1a)\n",
    "\n",
    "CR_train_file='data/custrev_train.tsv'\n",
    "CR_test_file = 'data/custrev_test.tsv'\n",
    "\n",
    "# YOUR CODE HERE\n",
    "CR_test_df = pd.read_csv(CR_test_file, sep='\\t', header=None)\n",
    "CR_train_df = pd.read_csv(CR_train_file, sep='\\t', header=None)\n",
    "CR_test_df.columns = ['index', 'review']\n",
    "CR_train_df.columns = ['index', 'label', 'review']\n",
    "#raise NotImplementedError()"
   ]
  },
  {
   "cell_type": "code",
   "execution_count": 114,
   "metadata": {
    "collapsed": true,
    "deletable": false,
    "editable": false,
    "nbgrader": {
     "checksum": "eb79643d0607409171e2bc597c736d5d",
     "grade": true,
     "grade_id": "A-3a",
     "locked": true,
     "points": 0.5,
     "schema_version": 1,
     "solution": false
    }
   },
   "outputs": [],
   "source": [
    "assert isinstance(CR_train_df, pd.DataFrame)\n",
    "assert isinstance(CR_test_df, pd.DataFrame)"
   ]
  },
  {
   "cell_type": "code",
   "execution_count": 115,
   "metadata": {
    "collapsed": true,
    "deletable": false,
    "nbgrader": {
     "checksum": "fd89493c35c043d1923aeebcc420a340",
     "grade": false,
     "grade_id": "Q-3b",
     "locked": false,
     "schema_version": 1,
     "solution": true
    }
   },
   "outputs": [],
   "source": [
    "# 3b) Concatenate 2 DataFrames into 1 DataFrame, and name it \"CR_df\"\n",
    "\n",
    "# YOUR CODE HERE\n",
    "x = [CR_test_df, CR_train_df]\n",
    "CR_df = pd.concat(x)\n",
    "#raise NotImplementedError()"
   ]
  },
  {
   "cell_type": "code",
   "execution_count": 116,
   "metadata": {
    "collapsed": true,
    "deletable": false,
    "editable": false,
    "nbgrader": {
     "checksum": "3f9c92dcaf4b13595f046a6f831dbe0e",
     "grade": true,
     "grade_id": "A-3b",
     "locked": true,
     "points": 0.5,
     "schema_version": 1,
     "solution": false
    }
   },
   "outputs": [],
   "source": [
    "assert len(CR_df) == 3771\n"
   ]
  },
  {
   "cell_type": "code",
   "execution_count": 117,
   "metadata": {
    "collapsed": true,
    "deletable": false,
    "nbgrader": {
     "checksum": "4c6e09491f375bd27401754be95e75dd",
     "grade": false,
     "grade_id": "Q-3c",
     "locked": false,
     "schema_version": 1,
     "solution": true
    }
   },
   "outputs": [],
   "source": [
    "# 3c) Convert all labels in CR_df[\"label\"] using the function we defined above \"convert_label\"\n",
    "#   Save these numerical labels as a new column named \"y\" in CR_df.\n",
    "\n",
    "# YOUR CODE HERE\n",
    "y = CR_df[\"label\"].apply(convert_label)\n",
    "CR_df['y'] = y\n",
    "#raise NotImplementedError()"
   ]
  },
  {
   "cell_type": "code",
   "execution_count": 118,
   "metadata": {
    "collapsed": true,
    "deletable": false,
    "editable": false,
    "nbgrader": {
     "checksum": "c913739a93d890af4fcde874cff4e29c",
     "grade": true,
     "grade_id": "A-3c",
     "locked": true,
     "points": 0.5,
     "schema_version": 1,
     "solution": false
    }
   },
   "outputs": [],
   "source": [
    "assert isinstance(CR_df['y'], pd.Series)"
   ]
  },
  {
   "cell_type": "code",
   "execution_count": 119,
   "metadata": {
    "collapsed": true,
    "deletable": false,
    "nbgrader": {
     "checksum": "7314af8d43852facb7ef4d132e75dee5",
     "grade": false,
     "grade_id": "Q-3d",
     "locked": false,
     "schema_version": 1,
     "solution": true
    }
   },
   "outputs": [],
   "source": [
    "# 3d) Transform reviews (CR_df[\"review\"]) into vectors using the \"tfidf\" vectorizer we created in part 2.\n",
    "#  Save the transformed data into a variable called \"CR_tfidf_X\"\n",
    "\n",
    "# YOUR CODE HERE\n",
    "CR_tfidf_X = tfidf.fit_transform(CR_df[\"review\"]).toarray()\n",
    "#raise NotImplementedError()"
   ]
  },
  {
   "cell_type": "code",
   "execution_count": 120,
   "metadata": {
    "collapsed": true,
    "deletable": false,
    "editable": false,
    "nbgrader": {
     "checksum": "52cb10ad2630ae497778efcbca1942fd",
     "grade": true,
     "grade_id": "A-3d",
     "locked": true,
     "points": 0.5,
     "schema_version": 1,
     "solution": false
    }
   },
   "outputs": [],
   "source": [
    "assert isinstance(CR_tfidf_X, np.ndarray)\n"
   ]
  },
  {
   "cell_type": "code",
   "execution_count": 121,
   "metadata": {
    "collapsed": true,
    "deletable": false,
    "editable": false,
    "nbgrader": {
     "checksum": "138fea75f0adbf13da2b77dfaea83b0e",
     "grade": false,
     "grade_id": "get_data",
     "locked": true,
     "schema_version": 1,
     "solution": false
    }
   },
   "outputs": [],
   "source": [
    "# Here we will collect all training samples & numerical labels from CR_tfidf_X [code provided]\n",
    "#   The code provided below will extract all samples with labels from the dataframe\n",
    "\n",
    "CR_train_X = CR_tfidf_X[~CR_df['y'].isnull()]\n",
    "CR_train_y = CR_df['y'][~CR_df['y'].isnull()]\n",
    "\n",
    "# Note: if these asserts fail, something went wrong\n",
    "#  Go back and check your code (in part 3) above this cell\n",
    "assert CR_train_X.shape == (3016, 2000)\n",
    "assert CR_train_y.shape == (3016, )"
   ]
  },
  {
   "cell_type": "code",
   "execution_count": 122,
   "metadata": {
    "collapsed": true,
    "deletable": false,
    "nbgrader": {
     "checksum": "e9e7c0c4d285e57c6c8188a514224973",
     "grade": false,
     "grade_id": "Q-3e",
     "locked": false,
     "schema_version": 1,
     "solution": true
    }
   },
   "outputs": [],
   "source": [
    "# 3e) Train an SVM classifier on the samples \"CR_train_X\" and the labels \"CR_train_y\"\n",
    "#   You need to call the function \"train_SVM\" you created above.\n",
    "#   Name the returned object as \"CR_clf\"\n",
    "#   Note that this function will take many seconds / up to a few minutes to run.\n",
    "\n",
    "# YOUR CODE HERE\n",
    "CR_clf = train_SVM(CR_train_X, CR_train_y)\n",
    "#raise NotImplementedError()"
   ]
  },
  {
   "cell_type": "code",
   "execution_count": 123,
   "metadata": {
    "collapsed": true,
    "deletable": false,
    "editable": false,
    "nbgrader": {
     "checksum": "1a9250c5705606e504c15597175657ee",
     "grade": true,
     "grade_id": "A-3e",
     "locked": true,
     "points": 0.5,
     "schema_version": 1,
     "solution": false
    }
   },
   "outputs": [],
   "source": [
    "assert isinstance(CR_clf, SVC)"
   ]
  },
  {
   "cell_type": "code",
   "execution_count": 125,
   "metadata": {
    "collapsed": true,
    "deletable": false,
    "nbgrader": {
     "checksum": "8a834bee035879fa45b08ad5a1b0fe8a",
     "grade": false,
     "grade_id": "Q-3f",
     "locked": false,
     "schema_version": 1,
     "solution": true
    }
   },
   "outputs": [],
   "source": [
    "# 3f) Predict labels on the training set, and name the returned variable as \"CR_pred_train_y\"\n",
    "\n",
    "# YOUR CODE HERE\n",
    "CR_pred_train_y = CR_clf.predict(CR_train_X)\n",
    "#raise NotImplementedError()"
   ]
  },
  {
   "cell_type": "code",
   "execution_count": 126,
   "metadata": {
    "deletable": false,
    "editable": false,
    "nbgrader": {
     "checksum": "d0c54b282080ec83c81b76b537bc32de",
     "grade": false,
     "grade_id": "cell-5393293deccc9d78",
     "locked": true,
     "schema_version": 1,
     "solution": false
    }
   },
   "outputs": [
    {
     "name": "stdout",
     "output_type": "stream",
     "text": [
      "             precision    recall  f1-score   support\n",
      "\n",
      "        0.0       0.90      0.84      0.87      1097\n",
      "        1.0       0.91      0.95      0.93      1919\n",
      "\n",
      "avg / total       0.91      0.91      0.91      3016\n",
      "\n"
     ]
    }
   ],
   "source": [
    "# Check the classifier accuracy on the train data\n",
    "#   Note that your classifier should be able to reach above 90% accuracy.\n",
    "print(classification_report(CR_train_y, CR_pred_train_y))"
   ]
  },
  {
   "cell_type": "code",
   "execution_count": 127,
   "metadata": {
    "collapsed": true,
    "deletable": false,
    "editable": false,
    "nbgrader": {
     "checksum": "dab7a4c970b847e5a97e5b5a7f4c6766",
     "grade": true,
     "grade_id": "A-3f",
     "locked": true,
     "points": 0.5,
     "schema_version": 1,
     "solution": false
    }
   },
   "outputs": [],
   "source": [
    "# Tests for 3f\n",
    "precision, recall, _, _ = precision_recall_fscore_support(CR_train_y, CR_pred_train_y)\n",
    "assert np.isclose(precision[0], 0.90, 0.02)\n",
    "assert np.isclose(precision[1], 0.91, 0.02)"
   ]
  },
  {
   "cell_type": "code",
   "execution_count": 128,
   "metadata": {
    "collapsed": true,
    "deletable": false,
    "editable": false,
    "nbgrader": {
     "checksum": "1b5df6600b7e7dd3c737ecc0ee81a950",
     "grade": false,
     "grade_id": "cell-8fd0d23508a04891",
     "locked": true,
     "schema_version": 1,
     "solution": false
    }
   },
   "outputs": [],
   "source": [
    "# Collect all test samples from CR_tfidf_X\n",
    "CR_test_X = CR_tfidf_X[CR_df['y'].isnull()]"
   ]
  },
  {
   "cell_type": "code",
   "execution_count": 129,
   "metadata": {
    "collapsed": true,
    "deletable": false,
    "nbgrader": {
     "checksum": "bf54201786f3c9ae7652872f025447b5",
     "grade": false,
     "grade_id": "Q-3g",
     "locked": false,
     "schema_version": 1,
     "solution": true
    }
   },
   "outputs": [],
   "source": [
    "# 3g) Predict the labels on the test set. \n",
    "#  Name the returned variable as \"CR_pred_test_y\"\n",
    "\n",
    "# YOUR CODE HERE\n",
    "CR_pred_test_y = CR_clf.predict(CR_test_X)\n",
    "#raise NotImplementedError()"
   ]
  },
  {
   "cell_type": "code",
   "execution_count": 130,
   "metadata": {
    "collapsed": true,
    "deletable": false,
    "editable": false,
    "nbgrader": {
     "checksum": "c9ce7c1d4cf51848d1c73cd06a6269a2",
     "grade": true,
     "grade_id": "A-3g",
     "locked": true,
     "points": 0.5,
     "schema_version": 1,
     "solution": false
    }
   },
   "outputs": [],
   "source": [
    "assert isinstance(CR_test_X, np.ndarray)\n",
    "assert isinstance(CR_pred_test_y, np.ndarray)"
   ]
  },
  {
   "cell_type": "code",
   "execution_count": 159,
   "metadata": {
    "deletable": false,
    "nbgrader": {
     "checksum": "853acea34db02c2bcffce847ee564b54",
     "grade": false,
     "grade_id": "Q-3h",
     "locked": false,
     "schema_version": 1,
     "solution": true
    }
   },
   "outputs": [
    {
     "data": {
      "text/html": [
       "<div>\n",
       "<style>\n",
       "    .dataframe thead tr:only-child th {\n",
       "        text-align: right;\n",
       "    }\n",
       "\n",
       "    .dataframe thead th {\n",
       "        text-align: left;\n",
       "    }\n",
       "\n",
       "    .dataframe tbody tr th {\n",
       "        vertical-align: top;\n",
       "    }\n",
       "</style>\n",
       "<table border=\"1\" class=\"dataframe\">\n",
       "  <thead>\n",
       "    <tr style=\"text-align: right;\">\n",
       "      <th></th>\n",
       "      <th>index</th>\n",
       "      <th>review</th>\n",
       "      <th>label</th>\n",
       "    </tr>\n",
       "  </thead>\n",
       "  <tbody>\n",
       "    <tr>\n",
       "      <th>0</th>\n",
       "      <td>3546</td>\n",
       "      <td>its quiet .</td>\n",
       "      <td>pos</td>\n",
       "    </tr>\n",
       "    <tr>\n",
       "      <th>1</th>\n",
       "      <td>3232</td>\n",
       "      <td>overall , it does its basic function very well...</td>\n",
       "      <td>pos</td>\n",
       "    </tr>\n",
       "    <tr>\n",
       "      <th>2</th>\n",
       "      <td>979</td>\n",
       "      <td>i love that you don 't have to purchase expens...</td>\n",
       "      <td>pos</td>\n",
       "    </tr>\n",
       "    <tr>\n",
       "      <th>3</th>\n",
       "      <td>372</td>\n",
       "      <td>i bought this camera two days ago , and i 'm v...</td>\n",
       "      <td>pos</td>\n",
       "    </tr>\n",
       "    <tr>\n",
       "      <th>4</th>\n",
       "      <td>3278</td>\n",
       "      <td>it barely holds anything and mine just puts a ...</td>\n",
       "      <td>pos</td>\n",
       "    </tr>\n",
       "    <tr>\n",
       "      <th>5</th>\n",
       "      <td>3683</td>\n",
       "      <td>now in october , 2004 , the firewall said i co...</td>\n",
       "      <td>pos</td>\n",
       "    </tr>\n",
       "    <tr>\n",
       "      <th>6</th>\n",
       "      <td>742</td>\n",
       "      <td>lastly , the price is fantastic :</td>\n",
       "      <td>pos</td>\n",
       "    </tr>\n",
       "    <tr>\n",
       "      <th>7</th>\n",
       "      <td>3471</td>\n",
       "      <td>these people takes lest effort to process reba...</td>\n",
       "      <td>neg</td>\n",
       "    </tr>\n",
       "    <tr>\n",
       "      <th>8</th>\n",
       "      <td>1509</td>\n",
       "      <td>i compared it to other cd players ( two models...</td>\n",
       "      <td>pos</td>\n",
       "    </tr>\n",
       "    <tr>\n",
       "      <th>9</th>\n",
       "      <td>1079</td>\n",
       "      <td>i have never had an odor problem ! .</td>\n",
       "      <td>pos</td>\n",
       "    </tr>\n",
       "    <tr>\n",
       "      <th>10</th>\n",
       "      <td>3753</td>\n",
       "      <td>buy this if you like mental challenges or tryi...</td>\n",
       "      <td>pos</td>\n",
       "    </tr>\n",
       "    <tr>\n",
       "      <th>11</th>\n",
       "      <td>581</td>\n",
       "      <td>the screen is very easy to read and the blue l...</td>\n",
       "      <td>pos</td>\n",
       "    </tr>\n",
       "    <tr>\n",
       "      <th>12</th>\n",
       "      <td>3589</td>\n",
       "      <td>first , let me say that i got the 20gb ipod fo...</td>\n",
       "      <td>pos</td>\n",
       "    </tr>\n",
       "    <tr>\n",
       "      <th>13</th>\n",
       "      <td>2563</td>\n",
       "      <td>5 ) this apex model 2600 will not work with my...</td>\n",
       "      <td>neg</td>\n",
       "    </tr>\n",
       "    <tr>\n",
       "      <th>14</th>\n",
       "      <td>419</td>\n",
       "      <td>neat feature for self-timer allows you to reco...</td>\n",
       "      <td>pos</td>\n",
       "    </tr>\n",
       "    <tr>\n",
       "      <th>15</th>\n",
       "      <td>2133</td>\n",
       "      <td>the phone is very light weight .</td>\n",
       "      <td>pos</td>\n",
       "    </tr>\n",
       "    <tr>\n",
       "      <th>16</th>\n",
       "      <td>2240</td>\n",
       "      <td>this phone is highly recommended otherwise .</td>\n",
       "      <td>pos</td>\n",
       "    </tr>\n",
       "    <tr>\n",
       "      <th>17</th>\n",
       "      <td>1605</td>\n",
       "      <td>pros the design is very nice , and the colors ...</td>\n",
       "      <td>pos</td>\n",
       "    </tr>\n",
       "    <tr>\n",
       "      <th>18</th>\n",
       "      <td>895</td>\n",
       "      <td>i felt better with this one since it had the s...</td>\n",
       "      <td>pos</td>\n",
       "    </tr>\n",
       "    <tr>\n",
       "      <th>19</th>\n",
       "      <td>3101</td>\n",
       "      <td>it 's oftentimes hard to get a good grip on th...</td>\n",
       "      <td>pos</td>\n",
       "    </tr>\n",
       "    <tr>\n",
       "      <th>20</th>\n",
       "      <td>1724</td>\n",
       "      <td>nikon 4300 , i feel , is the best camera out t...</td>\n",
       "      <td>pos</td>\n",
       "    </tr>\n",
       "    <tr>\n",
       "      <th>21</th>\n",
       "      <td>1771</td>\n",
       "      <td>the small size is perfect for my little hands ...</td>\n",
       "      <td>neg</td>\n",
       "    </tr>\n",
       "    <tr>\n",
       "      <th>22</th>\n",
       "      <td>3400</td>\n",
       "      <td>even the instruction booklet is out of order .</td>\n",
       "      <td>neg</td>\n",
       "    </tr>\n",
       "    <tr>\n",
       "      <th>23</th>\n",
       "      <td>3185</td>\n",
       "      <td>so , you might inquire , why don 't they make ...</td>\n",
       "      <td>neg</td>\n",
       "    </tr>\n",
       "    <tr>\n",
       "      <th>24</th>\n",
       "      <td>787</td>\n",
       "      <td>oh . . . and file transfers are fast &amp; easy .</td>\n",
       "      <td>pos</td>\n",
       "    </tr>\n",
       "    <tr>\n",
       "      <th>25</th>\n",
       "      <td>616</td>\n",
       "      <td>i have over 2000 files in my playlist at the m...</td>\n",
       "      <td>pos</td>\n",
       "    </tr>\n",
       "    <tr>\n",
       "      <th>26</th>\n",
       "      <td>3341</td>\n",
       "      <td>now , the player 's ear phone jack is not work...</td>\n",
       "      <td>neg</td>\n",
       "    </tr>\n",
       "    <tr>\n",
       "      <th>27</th>\n",
       "      <td>1773</td>\n",
       "      <td>it really is an awesome camera that is hard to...</td>\n",
       "      <td>pos</td>\n",
       "    </tr>\n",
       "    <tr>\n",
       "      <th>28</th>\n",
       "      <td>3096</td>\n",
       "      <td>that said , i am disappointed in the plunging ...</td>\n",
       "      <td>neg</td>\n",
       "    </tr>\n",
       "    <tr>\n",
       "      <th>29</th>\n",
       "      <td>2771</td>\n",
       "      <td>i 've tried the belkin fm transmitter unit wit...</td>\n",
       "      <td>neg</td>\n",
       "    </tr>\n",
       "    <tr>\n",
       "      <th>...</th>\n",
       "      <td>...</td>\n",
       "      <td>...</td>\n",
       "      <td>...</td>\n",
       "    </tr>\n",
       "    <tr>\n",
       "      <th>725</th>\n",
       "      <td>1761</td>\n",
       "      <td>if you have to buy a camera on a bu get , this...</td>\n",
       "      <td>pos</td>\n",
       "    </tr>\n",
       "    <tr>\n",
       "      <th>726</th>\n",
       "      <td>1512</td>\n",
       "      <td>fits well in hand in trouser pockets .</td>\n",
       "      <td>pos</td>\n",
       "    </tr>\n",
       "    <tr>\n",
       "      <th>727</th>\n",
       "      <td>771</td>\n",
       "      <td>it 's small , light and nice looking and the d...</td>\n",
       "      <td>pos</td>\n",
       "    </tr>\n",
       "    <tr>\n",
       "      <th>728</th>\n",
       "      <td>3711</td>\n",
       "      <td>then , my ad/pop-up blocking was completely go...</td>\n",
       "      <td>neg</td>\n",
       "    </tr>\n",
       "    <tr>\n",
       "      <th>729</th>\n",
       "      <td>248</td>\n",
       "      <td>4 . the shape of this device is a little squar...</td>\n",
       "      <td>pos</td>\n",
       "    </tr>\n",
       "    <tr>\n",
       "      <th>730</th>\n",
       "      <td>891</td>\n",
       "      <td>7 ) some people have problems with the flip sw...</td>\n",
       "      <td>neg</td>\n",
       "    </tr>\n",
       "    <tr>\n",
       "      <th>731</th>\n",
       "      <td>2249</td>\n",
       "      <td>sound quality : the ipod 's sound quality is p...</td>\n",
       "      <td>pos</td>\n",
       "    </tr>\n",
       "    <tr>\n",
       "      <th>732</th>\n",
       "      <td>2346</td>\n",
       "      <td>way to go apple ! .</td>\n",
       "      <td>pos</td>\n",
       "    </tr>\n",
       "    <tr>\n",
       "      <th>733</th>\n",
       "      <td>1195</td>\n",
       "      <td>smooth plunging mechanism .</td>\n",
       "      <td>neg</td>\n",
       "    </tr>\n",
       "    <tr>\n",
       "      <th>734</th>\n",
       "      <td>2556</td>\n",
       "      <td>the front door is miss aligned on my unit and ...</td>\n",
       "      <td>neg</td>\n",
       "    </tr>\n",
       "    <tr>\n",
       "      <th>735</th>\n",
       "      <td>1484</td>\n",
       "      <td>the sound is amazing .</td>\n",
       "      <td>pos</td>\n",
       "    </tr>\n",
       "    <tr>\n",
       "      <th>736</th>\n",
       "      <td>3769</td>\n",
       "      <td>this time , it started the installation proces...</td>\n",
       "      <td>neg</td>\n",
       "    </tr>\n",
       "    <tr>\n",
       "      <th>737</th>\n",
       "      <td>2727</td>\n",
       "      <td>only 1 problem , no accessories . . . yet .</td>\n",
       "      <td>neg</td>\n",
       "    </tr>\n",
       "    <tr>\n",
       "      <th>738</th>\n",
       "      <td>3738</td>\n",
       "      <td>to install that version you have to uninstall ...</td>\n",
       "      <td>neg</td>\n",
       "    </tr>\n",
       "    <tr>\n",
       "      <th>739</th>\n",
       "      <td>1505</td>\n",
       "      <td>built in microphone is great for recording sho...</td>\n",
       "      <td>pos</td>\n",
       "    </tr>\n",
       "    <tr>\n",
       "      <th>740</th>\n",
       "      <td>1395</td>\n",
       "      <td>creative did well on its rechargeable battery ...</td>\n",
       "      <td>pos</td>\n",
       "    </tr>\n",
       "    <tr>\n",
       "      <th>741</th>\n",
       "      <td>3226</td>\n",
       "      <td>limitations : - not a lot of original accessor...</td>\n",
       "      <td>pos</td>\n",
       "    </tr>\n",
       "    <tr>\n",
       "      <th>742</th>\n",
       "      <td>688</td>\n",
       "      <td>1 ) price / gb of storage</td>\n",
       "      <td>pos</td>\n",
       "    </tr>\n",
       "    <tr>\n",
       "      <th>743</th>\n",
       "      <td>1305</td>\n",
       "      <td>just follow the instructions carefully , it 's...</td>\n",
       "      <td>pos</td>\n",
       "    </tr>\n",
       "    <tr>\n",
       "      <th>744</th>\n",
       "      <td>1869</td>\n",
       "      <td>handsfree future is good , but not too exciting .</td>\n",
       "      <td>neg</td>\n",
       "    </tr>\n",
       "    <tr>\n",
       "      <th>745</th>\n",
       "      <td>890</td>\n",
       "      <td>12 ) big storage - my entire cd collection in ...</td>\n",
       "      <td>pos</td>\n",
       "    </tr>\n",
       "    <tr>\n",
       "      <th>746</th>\n",
       "      <td>1820</td>\n",
       "      <td>2 it is easy enough for my grandmother to use .</td>\n",
       "      <td>pos</td>\n",
       "    </tr>\n",
       "    <tr>\n",
       "      <th>747</th>\n",
       "      <td>2840</td>\n",
       "      <td>controls are a bit awkward .</td>\n",
       "      <td>neg</td>\n",
       "    </tr>\n",
       "    <tr>\n",
       "      <th>748</th>\n",
       "      <td>1330</td>\n",
       "      <td>the documentation is much better than the docu...</td>\n",
       "      <td>pos</td>\n",
       "    </tr>\n",
       "    <tr>\n",
       "      <th>749</th>\n",
       "      <td>1935</td>\n",
       "      <td>nokia makes great phones , and this one is the...</td>\n",
       "      <td>pos</td>\n",
       "    </tr>\n",
       "    <tr>\n",
       "      <th>750</th>\n",
       "      <td>2529</td>\n",
       "      <td>after two weeks the picture kept freezing .</td>\n",
       "      <td>neg</td>\n",
       "    </tr>\n",
       "    <tr>\n",
       "      <th>751</th>\n",
       "      <td>827</td>\n",
       "      <td>* removable battery</td>\n",
       "      <td>neg</td>\n",
       "    </tr>\n",
       "    <tr>\n",
       "      <th>752</th>\n",
       "      <td>3581</td>\n",
       "      <td>but i had to give you four because the service...</td>\n",
       "      <td>pos</td>\n",
       "    </tr>\n",
       "    <tr>\n",
       "      <th>753</th>\n",
       "      <td>215</td>\n",
       "      <td>takes excellent photos .</td>\n",
       "      <td>pos</td>\n",
       "    </tr>\n",
       "    <tr>\n",
       "      <th>754</th>\n",
       "      <td>503</td>\n",
       "      <td>first , it really is tiny ; . the size of a pa...</td>\n",
       "      <td>neg</td>\n",
       "    </tr>\n",
       "  </tbody>\n",
       "</table>\n",
       "<p>755 rows × 3 columns</p>\n",
       "</div>"
      ],
      "text/plain": [
       "     index                                             review label\n",
       "0     3546                                        its quiet .   pos\n",
       "1     3232  overall , it does its basic function very well...   pos\n",
       "2      979  i love that you don 't have to purchase expens...   pos\n",
       "3      372  i bought this camera two days ago , and i 'm v...   pos\n",
       "4     3278  it barely holds anything and mine just puts a ...   pos\n",
       "5     3683  now in october , 2004 , the firewall said i co...   pos\n",
       "6      742                  lastly , the price is fantastic :   pos\n",
       "7     3471  these people takes lest effort to process reba...   neg\n",
       "8     1509  i compared it to other cd players ( two models...   pos\n",
       "9     1079               i have never had an odor problem ! .   pos\n",
       "10    3753  buy this if you like mental challenges or tryi...   pos\n",
       "11     581  the screen is very easy to read and the blue l...   pos\n",
       "12    3589  first , let me say that i got the 20gb ipod fo...   pos\n",
       "13    2563  5 ) this apex model 2600 will not work with my...   neg\n",
       "14     419  neat feature for self-timer allows you to reco...   pos\n",
       "15    2133                   the phone is very light weight .   pos\n",
       "16    2240       this phone is highly recommended otherwise .   pos\n",
       "17    1605  pros the design is very nice , and the colors ...   pos\n",
       "18     895  i felt better with this one since it had the s...   pos\n",
       "19    3101  it 's oftentimes hard to get a good grip on th...   pos\n",
       "20    1724  nikon 4300 , i feel , is the best camera out t...   pos\n",
       "21    1771  the small size is perfect for my little hands ...   neg\n",
       "22    3400     even the instruction booklet is out of order .   neg\n",
       "23    3185  so , you might inquire , why don 't they make ...   neg\n",
       "24     787      oh . . . and file transfers are fast & easy .   pos\n",
       "25     616  i have over 2000 files in my playlist at the m...   pos\n",
       "26    3341  now , the player 's ear phone jack is not work...   neg\n",
       "27    1773  it really is an awesome camera that is hard to...   pos\n",
       "28    3096  that said , i am disappointed in the plunging ...   neg\n",
       "29    2771  i 've tried the belkin fm transmitter unit wit...   neg\n",
       "..     ...                                                ...   ...\n",
       "725   1761  if you have to buy a camera on a bu get , this...   pos\n",
       "726   1512             fits well in hand in trouser pockets .   pos\n",
       "727    771  it 's small , light and nice looking and the d...   pos\n",
       "728   3711  then , my ad/pop-up blocking was completely go...   neg\n",
       "729    248  4 . the shape of this device is a little squar...   pos\n",
       "730    891  7 ) some people have problems with the flip sw...   neg\n",
       "731   2249  sound quality : the ipod 's sound quality is p...   pos\n",
       "732   2346                                way to go apple ! .   pos\n",
       "733   1195                        smooth plunging mechanism .   neg\n",
       "734   2556  the front door is miss aligned on my unit and ...   neg\n",
       "735   1484                             the sound is amazing .   pos\n",
       "736   3769  this time , it started the installation proces...   neg\n",
       "737   2727        only 1 problem , no accessories . . . yet .   neg\n",
       "738   3738  to install that version you have to uninstall ...   neg\n",
       "739   1505  built in microphone is great for recording sho...   pos\n",
       "740   1395  creative did well on its rechargeable battery ...   pos\n",
       "741   3226  limitations : - not a lot of original accessor...   pos\n",
       "742    688                          1 ) price / gb of storage   pos\n",
       "743   1305  just follow the instructions carefully , it 's...   pos\n",
       "744   1869  handsfree future is good , but not too exciting .   neg\n",
       "745    890  12 ) big storage - my entire cd collection in ...   pos\n",
       "746   1820    2 it is easy enough for my grandmother to use .   pos\n",
       "747   2840                       controls are a bit awkward .   neg\n",
       "748   1330  the documentation is much better than the docu...   pos\n",
       "749   1935  nokia makes great phones , and this one is the...   pos\n",
       "750   2529        after two weeks the picture kept freezing .   neg\n",
       "751    827                                * removable battery   neg\n",
       "752   3581  but i had to give you four because the service...   pos\n",
       "753    215                           takes excellent photos .   pos\n",
       "754    503  first , it really is tiny ; . the size of a pa...   neg\n",
       "\n",
       "[755 rows x 3 columns]"
      ]
     },
     "execution_count": 159,
     "metadata": {},
     "output_type": "execute_result"
    }
   ],
   "source": [
    "# 3h) Convert the predicted numerical labels back to string labels\n",
    "# Create a column called \"label\" in \"CR_test_df\" to store the converted labels\n",
    "\n",
    "# YOUR CODE HERE\n",
    "#def convert_back(pred):\n",
    "#    if pred == 1.0:\n",
    "#        return(\"pos\")\n",
    "#    elif pred == 0.0:\n",
    "#        return(\"neg\")\n",
    "#    else:\n",
    "#        return(pred)\n",
    "\n",
    "lst = []    \n",
    "for i in CR_pred_test_y:\n",
    "    if i == 1.0:\n",
    "        lst.append('pos')\n",
    "    elif i == 0.0:\n",
    "        lst.append('neg')\n",
    "    else:\n",
    "        lst.append(i)\n",
    "        \n",
    "CR_test_df['label'] = lst\n",
    "CR_test_df\n",
    "#raise NotImplementedError()"
   ]
  },
  {
   "cell_type": "code",
   "execution_count": 158,
   "metadata": {
    "collapsed": true,
    "deletable": false,
    "editable": false,
    "nbgrader": {
     "checksum": "e32bdf404a55ba5453d5bbd05209560d",
     "grade": true,
     "grade_id": "A-3h",
     "locked": true,
     "points": 0.5,
     "schema_version": 1,
     "solution": false
    }
   },
   "outputs": [],
   "source": [
    "assert isinstance(CR_test_df['label'], pd.Series)\n",
    "assert set(CR_test_df['label']) == {'neg', 'pos'}\n"
   ]
  },
  {
   "cell_type": "markdown",
   "metadata": {
    "deletable": false,
    "editable": false,
    "nbgrader": {
     "checksum": "ca8ea811adcee4258c93c9684165cb9c",
     "grade": false,
     "grade_id": "cell-24356cb4367a5c1b",
     "locked": true,
     "schema_version": 1,
     "solution": false
    }
   },
   "source": [
    "The hidden assignments tests for the cell above will check that your model predicts the right number of pos/neg reviews in the test data provided. \n",
    "\n",
    "We now have a model that can predict positive or negative sentiment! \n",
    "\n",
    "In the cell below, as a written answer question, briefly, in your own words, what BoW and TF/IDF word representations are, and how they differ. Also, think about and write a quick example of when and why it might be useful to automatically analyze the sentiment of text data. [This whole answer can/should be a couple sentences].\n",
    "\n",
    "After you answer this question, you arae done! Submit this notebook by uploading it to TritonED. "
   ]
  },
  {
   "cell_type": "markdown",
   "metadata": {
    "deletable": false,
    "nbgrader": {
     "checksum": "2fa8493f1dc08831d45aa221dc494dc2",
     "grade": true,
     "grade_id": "cell-bf8fe759022c76b4",
     "locked": false,
     "points": 0,
     "schema_version": 1,
     "solution": true
    }
   },
   "source": [
    "YOUR ANSWER HERE"
   ]
  }
 ],
 "metadata": {
  "kernelspec": {
   "display_name": "Python 3",
   "language": "python",
   "name": "python3"
  },
  "language_info": {
   "codemirror_mode": {
    "name": "ipython",
    "version": 3
   },
   "file_extension": ".py",
   "mimetype": "text/x-python",
   "name": "python",
   "nbconvert_exporter": "python",
   "pygments_lexer": "ipython3",
   "version": "3.6.3"
  }
 },
 "nbformat": 4,
 "nbformat_minor": 2
}
