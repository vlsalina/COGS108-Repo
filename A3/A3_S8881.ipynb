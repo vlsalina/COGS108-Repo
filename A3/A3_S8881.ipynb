{
 "cells": [
  {
   "cell_type": "markdown",
   "metadata": {
    "deletable": false,
    "editable": false,
    "nbgrader": {
     "checksum": "26c8529e3b2e59be78d4aa19804373fc",
     "grade": false,
     "grade_id": "title",
     "locked": true,
     "schema_version": 1,
     "solution": false
    }
   },
   "source": [
    "# COGS 108 - Assignment 3: Data Privacy"
   ]
  },
  {
   "cell_type": "markdown",
   "metadata": {
    "deletable": false,
    "editable": false,
    "nbgrader": {
     "checksum": "19a89ebe76d5deeaebb3d494a20c2240",
     "grade": false,
     "grade_id": "important",
     "locked": true,
     "schema_version": 1,
     "solution": false
    }
   },
   "source": [
    "## Important Reminders\n",
    "\n",
    "- Rename this file to 'A3_$####.ipynb', replacing with your unique ID (first letter of your last name, followed by the last 4 digits of your student ID number), before you submit it. Submit it to TritonED.\n",
    "- Do not change / update / delete any existing cells with 'assert' in them. These are the tests used to check your assignment. \n",
    "    - Changing these will be flagged for attempted cheating. \n",
    "- This assignment has hidden tests: tests that are not visible here, but that will be run on your submitted file. \n",
    "    - This means passing all the tests you can see in the notebook here does not guarantee you have the right answer!"
   ]
  },
  {
   "cell_type": "markdown",
   "metadata": {
    "deletable": false,
    "editable": false,
    "nbgrader": {
     "checksum": "3e5ebfca3f2f8e75fb4d54102698bd77",
     "grade": false,
     "grade_id": "overview",
     "locked": true,
     "schema_version": 1,
     "solution": false
    }
   },
   "source": [
    "## Overview\n",
    "\n",
    "We have discussed in lecture the importance and the mechanics of protecting individuals privacy when they are included in datasets. \n",
    "\n",
    "One method to do so is the Safe Harbor Method. The Safe Harbour method specifies how to protect individual's identities by telling us which tells us which information to remove from a dataset in order to avoid accidently disclosing personal information. \n",
    "\n",
    "In this assignment, we will explore web scraping, which can often include personally identifiable information, how identity can be decoded from badly anonymized datasets, and also explore using Safe Harbour to anonymize datasets properly. \n",
    "\n",
    "The topics covered in this assignment are mainly covered in the 'DataGathering' and 'DataPrivacy&Anonymization' Tutorial notebooks."
   ]
  },
  {
   "cell_type": "markdown",
   "metadata": {
    "deletable": false,
    "editable": false,
    "nbgrader": {
     "checksum": "ea20266c9be42b2fbdf472d6db1024dd",
     "grade": false,
     "grade_id": "cell-b169d37fcae03fbc",
     "locked": true,
     "schema_version": 1,
     "solution": false
    }
   },
   "source": [
    "### Installing new packages\n",
    "\n",
    "In the first part of the assignment we will understand how we can scrape the web for data. You have to use the Beautiful Soup library in Python for scraping the data. \n",
    "\n",
    "The library is not installed in Anaconda version, therefore to install a new library for Anaconda, we can use the conda package manager, which the cell below does for you. "
   ]
  },
  {
   "cell_type": "code",
   "execution_count": 253,
   "metadata": {
    "deletable": false,
    "editable": false,
    "nbgrader": {
     "checksum": "dad55181dff84344120ab766c5b62d89",
     "grade": false,
     "grade_id": "cell-8a8f3952c7e67d7f",
     "locked": true,
     "schema_version": 1,
     "solution": false
    }
   },
   "outputs": [
    {
     "name": "stdout",
     "output_type": "stream",
     "text": [
      "Solving environment: ...working... done\n",
      "\n",
      "# All requested packages already installed.\n",
      "\n"
     ]
    }
   ],
   "source": [
    "# Run this cell to install beautifulsoup4\n",
    "#  You only need to do the installation once\n",
    "#    Once you have run it you can comment these two lines so that the cell doesn't execute everytime.\n",
    "import sys\n",
    "!conda install --yes --prefix {sys.prefix} beautifulsoup4"
   ]
  },
  {
   "cell_type": "markdown",
   "metadata": {
    "deletable": false,
    "editable": false,
    "nbgrader": {
     "checksum": "1e2ed7d7ab9a2d36798e407ed93e7e11",
     "grade": false,
     "grade_id": "imports",
     "locked": true,
     "schema_version": 1,
     "solution": false
    }
   },
   "source": [
    "### Imports"
   ]
  },
  {
   "cell_type": "code",
   "execution_count": 254,
   "metadata": {
    "collapsed": true,
    "deletable": false,
    "editable": false,
    "nbgrader": {
     "checksum": "1d7cc48ec36a10ee8ce4301f4ad8068e",
     "grade": false,
     "grade_id": "import-code",
     "locked": true,
     "schema_version": 1,
     "solution": false
    }
   },
   "outputs": [],
   "source": [
    "# Imports - these provided for you. Do not import any other packages\n",
    "import pandas as pd\n",
    "import requests\n",
    "import bs4\n",
    "from bs4 import BeautifulSoup"
   ]
  },
  {
   "cell_type": "markdown",
   "metadata": {
    "deletable": false,
    "editable": false,
    "nbgrader": {
     "checksum": "2258dd8460e82dd9ba05790b392c2170",
     "grade": false,
     "grade_id": "cell-25153cbdcaad4068",
     "locked": true,
     "schema_version": 1,
     "solution": false
    }
   },
   "source": [
    "## Part 1: Web Scraping "
   ]
  },
  {
   "cell_type": "markdown",
   "metadata": {
    "deletable": false,
    "editable": false,
    "nbgrader": {
     "checksum": "1879df607edbde1394ed6b304ba0a2c7",
     "grade": false,
     "grade_id": "cell-76ae256b5f7132b6",
     "locked": true,
     "schema_version": 1,
     "solution": false
    }
   },
   "source": [
    "### Scraping Rules\n",
    "\n",
    "1) If you are using another organizations website for scraping, make sure to check the website's terms & conditions. \n",
    "\n",
    "2) Do not request data from the website too aggressively (quickly) with your program (also known as spamming), as this may break the website. Make sure your program behaves in a reasonable manner (i.e. acts like a human). One request for one webpage per second is good practice.\n",
    "\n",
    "3) The layout of a website may change from time to time. Because of this, if you're scraping website, make sure to revisit the site and rewrite your code as needed."
   ]
  },
  {
   "cell_type": "code",
   "execution_count": 255,
   "metadata": {
    "collapsed": true,
    "deletable": false,
    "editable": false,
    "nbgrader": {
     "checksum": "4176af1f7152bcb4deff540099f3cfd9",
     "grade": false,
     "grade_id": "cell-f5423577b9902c1c",
     "locked": true,
     "schema_version": 1,
     "solution": false
    }
   },
   "outputs": [],
   "source": [
    "# This cell will help you understand the permission issues related to accessing a page\n",
    "# Uncomment the two lines, run them, see what error you get, comment them again\n",
    "\n",
    "#page_source = requests.get('http://www.aflcio.org/Legislation-and-Politics/Legislative-Alerts')\n",
    "#page_soup = BeautifulSoup(page_source.content, 'html.parser')"
   ]
  },
  {
   "cell_type": "code",
   "execution_count": 256,
   "metadata": {
    "collapsed": true
   },
   "outputs": [],
   "source": [
    "# This cell will help you understand the permission issues related to accessing a page\n",
    "# Uncomment the two lines, run them, see what error you get, comment them again\n",
    "\n",
    "page_source = requests.get('http://www.aflcio.org/Legislation-and-Politics/Legislative-Alerts')\n",
    "page_soup = BeautifulSoup(page_source.content, 'html.parser')"
   ]
  },
  {
   "cell_type": "markdown",
   "metadata": {
    "deletable": false,
    "editable": false,
    "nbgrader": {
     "checksum": "d4fed909c257ed14ed7cf6306ee015f2",
     "grade": false,
     "grade_id": "cell-164e625a3cd53f8d",
     "locked": true,
     "schema_version": 1,
     "solution": false
    }
   },
   "source": [
    "#### What is the error that you got, and why did you get it?"
   ]
  },
  {
   "cell_type": "markdown",
   "metadata": {
    "deletable": false,
    "nbgrader": {
     "checksum": "d7239e9d93ef503e59cabbee1d3e5481",
     "grade": true,
     "grade_id": "cell-ac79813190d0715c",
     "locked": false,
     "points": 0,
     "schema_version": 1,
     "solution": true
    }
   },
   "source": [
    "YOUR ANSWER HERE"
   ]
  },
  {
   "cell_type": "code",
   "execution_count": 257,
   "metadata": {
    "collapsed": true,
    "deletable": false,
    "nbgrader": {
     "checksum": "a30f65a5cf189bcbb356196ea240d9a5",
     "grade": false,
     "grade_id": "cell-889693bf71daf7c8",
     "locked": false,
     "schema_version": 1,
     "solution": true
    }
   },
   "outputs": [],
   "source": [
    "# 1a) Web Scrape\n",
    "# We will first retrieve the contents on a page and examine them a bit.\n",
    "\n",
    "# Make a variable called 'wiki', that stores the following URL (as a string):\n",
    "#  'https://en.wikipedia.org/wiki/List_of_U.S._states_and_territories_by_population'\n",
    "# To open the URL you can use 'requests.get' as shown in the cell above. Call this variable 'page'\n",
    "# After that use BeautifulSoup Library to open the URL and assign it to an object called 'soup'\n",
    "\n",
    "# YOUR CODE HERE\n",
    "wiki = 'https://en.wikipedia.org/wiki/List_of_U.S._states_and_territories_by_population'\n",
    "page = requests.get(wiki)\n",
    "soup = BeautifulSoup(page.content, 'html.parser')\n",
    "#raise NotImplementedError()"
   ]
  },
  {
   "cell_type": "code",
   "execution_count": 258,
   "metadata": {
    "collapsed": true,
    "deletable": false,
    "editable": false,
    "nbgrader": {
     "checksum": "88991ab92634826735078f6cba9eb0f1",
     "grade": true,
     "grade_id": "cell-52fad88c14b5f276",
     "locked": true,
     "points": 0.5,
     "schema_version": 1,
     "solution": false
    }
   },
   "outputs": [],
   "source": [
    "assert wiki\n",
    "assert page\n",
    "assert soup\n"
   ]
  },
  {
   "cell_type": "code",
   "execution_count": 259,
   "metadata": {
    "collapsed": true,
    "deletable": false,
    "nbgrader": {
     "checksum": "3625afdb3bb344958bba5e5266366ece",
     "grade": false,
     "grade_id": "cell-4d0a0b26ed667fe0",
     "locked": false,
     "schema_version": 1,
     "solution": true
    }
   },
   "outputs": [],
   "source": [
    "# 1b) Checking Scrape Contents\n",
    "\n",
    "# Extract the title from the page and save it in a variable called 'title_page'. \n",
    "#  Make sure you extract it as a string.\n",
    "# To do so, you have to use the soup object created in the above cell. \n",
    "#  Hint: from your soup variable, you can access this with '.title.string'\n",
    "# Make sure you print out and check the contents of 'title_page'. \n",
    "#  Note that it should not have any tags (such as '<title>' included in it).\n",
    "\n",
    "# YOUR CODE HERE\n",
    "title_page = soup.title.string\n",
    "#title_page\n",
    "#raise NotImplementedError()"
   ]
  },
  {
   "cell_type": "code",
   "execution_count": 260,
   "metadata": {
    "collapsed": true,
    "deletable": false,
    "editable": false,
    "nbgrader": {
     "checksum": "0ccf61e856e952c8a889f6c03f334321",
     "grade": true,
     "grade_id": "cell-25e2c00e1488f142",
     "locked": true,
     "points": 0.5,
     "schema_version": 1,
     "solution": false
    }
   },
   "outputs": [],
   "source": [
    "assert title_page\n",
    "assert isinstance(title_page, str)\n"
   ]
  },
  {
   "cell_type": "code",
   "execution_count": 261,
   "metadata": {
    "collapsed": true,
    "deletable": false,
    "nbgrader": {
     "checksum": "915ab52cbc25de35a1bd5b74bdb1ec95",
     "grade": false,
     "grade_id": "cell-8da7172c1da665fe",
     "locked": false,
     "schema_version": 1,
     "solution": true
    }
   },
   "outputs": [],
   "source": [
    "# 1c) Extracting Tables\n",
    "\n",
    "# In order to extract the data we want, we'll start with extracting a data table of interest. \n",
    "#  Note that you can see this table by going to look at the link we scraped.\n",
    "# Use the soup object and call a method called find, which will and extract the first table in scraped webpage. \n",
    "#  Note: you need to search for the name 'table', and set the 'class_' argument as 'wikitable sortable'.\n",
    "\n",
    "# YOUR CODE HERE\n",
    "right_table = soup.find('table')\n",
    "#right_table\n",
    "#raise NotImplementedError()"
   ]
  },
  {
   "cell_type": "code",
   "execution_count": 262,
   "metadata": {
    "collapsed": true,
    "deletable": false,
    "editable": false,
    "nbgrader": {
     "checksum": "410073a57bc12f34587a7795bbbd852b",
     "grade": true,
     "grade_id": "cell-6a079fac89c3332c",
     "locked": true,
     "points": 0.5,
     "schema_version": 1,
     "solution": false
    }
   },
   "outputs": [],
   "source": [
    "assert right_table\n",
    "assert isinstance(right_table, bs4.element.Tag)\n",
    "assert right_table.name == 'table'"
   ]
  },
  {
   "cell_type": "code",
   "execution_count": 263,
   "metadata": {
    "collapsed": true,
    "deletable": false,
    "editable": false,
    "nbgrader": {
     "checksum": "c2d4694252bd5b0f9d973cedba0946e8",
     "grade": false,
     "grade_id": "cell-6219dfad1bd6ba7b",
     "locked": true,
     "schema_version": 1,
     "solution": false
    }
   },
   "outputs": [],
   "source": [
    "# Extract the data from the table into lists.\n",
    "#  Note: This code provided for you. Do read through it and try to see how it works.\n",
    "\n",
    "lst_a, lst_b, lst_c = [], [], []\n",
    "\n",
    "for row in right_table.findAll('tr'):\n",
    "    \n",
    "    cells = row.findAll('td')\n",
    "    \n",
    "    # Skips rows that aren't 10 columns long (like the heading)\n",
    "    if len(cells) != 10:\n",
    "        continue\n",
    "\n",
    "    # This catches when the name cells stops having a link\n",
    "    #  and ends, skipping the last (summary rows)\n",
    "    try:\n",
    "        lst_a.append(cells[2].find('a').text)\n",
    "        lst_b.append(cells[4].find(text=True))\n",
    "        lst_c.append(cells[5].find(text=True))\n",
    "    except:\n",
    "        break"
   ]
  },
  {
   "cell_type": "code",
   "execution_count": 264,
   "metadata": {
    "collapsed": true,
    "deletable": false,
    "nbgrader": {
     "checksum": "4c75c47a485558ac3428c3773830b2ea",
     "grade": false,
     "grade_id": "cell-3b72a498799ef251",
     "locked": false,
     "schema_version": 1,
     "solution": true
    }
   },
   "outputs": [],
   "source": [
    "# 1d) Collecting into a dataframe\n",
    "\n",
    "# Create a dataframe 'my_df' and add the data from the lists above to it. \n",
    "#  'lst_a' is the state or territory name. Set the column name as 'State', and make this the index\n",
    "#  'lst_b' is the population estimate. Add it to the dataframe, and set the column name as 'Population Estimate'\n",
    "#  'lst_c' is the census population. Add it to the dataframe, and set the column name as 'Census Population'\n",
    "\n",
    "# YOUR CODE HERE\n",
    "#my_df = pd.DataFrame({'State': lst_a,\n",
    "#                      'Population Estimate': lst_b,\n",
    "#                      'Census Population': lst_c})\n",
    "my_df = pd.DataFrame()\n",
    "my_df['State'] = lst_a\n",
    "my_df['Population Estimate'] = lst_b\n",
    "my_df['Census Population'] = lst_c\n",
    "\n",
    "my_df.set_index('State', inplace=True)\n",
    "#my_df\n",
    "\n",
    "#raise NotImplementedError()"
   ]
  },
  {
   "cell_type": "code",
   "execution_count": 265,
   "metadata": {
    "collapsed": true,
    "deletable": false,
    "editable": false,
    "nbgrader": {
     "checksum": "2513c3a8257e82e2789c4709dbf70488",
     "grade": true,
     "grade_id": "cell-406fc7a4b3d93852",
     "locked": true,
     "points": 0.5,
     "schema_version": 1,
     "solution": false
    }
   },
   "outputs": [],
   "source": [
    "assert isinstance (my_df, pd.DataFrame)\n",
    "assert my_df.index.name == 'State'\n",
    "assert list(my_df.columns) == ['Population Estimate', 'Census Population']\n"
   ]
  },
  {
   "cell_type": "code",
   "execution_count": 266,
   "metadata": {
    "collapsed": true,
    "deletable": false,
    "nbgrader": {
     "checksum": "04bb731afd119f67f7b280a0c684420b",
     "grade": false,
     "grade_id": "cell-552f1cceb6530fef",
     "locked": false,
     "schema_version": 1,
     "solution": true
    }
   },
   "outputs": [],
   "source": [
    "# 1e) Using the data\n",
    "# What is the Population Estimate of California? Save this answer to a variable called 'calif_pop'\n",
    "# Notes:\n",
    "#  Extract this value programmatically from your dataframe (as in, don't set it explicitly, as 'cf = 123')\n",
    "#    You can use '.loc' to extract a particular value from a dataframe.\n",
    "#  The data in your dataframe will be strings - that's fine, leave them as strings (don't typecast).\n",
    "\n",
    "# YOUR CODE HERE\n",
    "calif_pop = my_df.loc['California', 'Population Estimate']\n",
    "#calif_pop\n",
    "#raise NotImplementedError()"
   ]
  },
  {
   "cell_type": "code",
   "execution_count": 267,
   "metadata": {
    "collapsed": true,
    "deletable": false,
    "editable": false,
    "nbgrader": {
     "checksum": "21a3ae96ee9a898e0e1cba4371c9dd11",
     "grade": true,
     "grade_id": "cell-00910bf76609b48e",
     "locked": true,
     "points": 0.5,
     "schema_version": 1,
     "solution": false
    }
   },
   "outputs": [],
   "source": [
    "assert calif_pop\n"
   ]
  },
  {
   "cell_type": "markdown",
   "metadata": {
    "deletable": false,
    "editable": false,
    "nbgrader": {
     "checksum": "486c6798edf0e518657ce5e65244601c",
     "grade": false,
     "grade_id": "p1-title",
     "locked": true,
     "schema_version": 1,
     "solution": false
    }
   },
   "source": [
    "## Part 2: Identifying Data"
   ]
  },
  {
   "cell_type": "markdown",
   "metadata": {
    "deletable": false,
    "editable": false,
    "nbgrader": {
     "checksum": "4296e9303d0b9997e5919024b4dc1734",
     "grade": false,
     "grade_id": "p1-desc",
     "locked": true,
     "schema_version": 1,
     "solution": false
    }
   },
   "source": [
    "Data Files:\n",
    "- anon_user_dat.json\n",
    "- employee_info.json\n",
    "\n",
    "You will first be working with a file called 'anon_user_dat.json'. This file that contains information about some (fake) Tinder users. When creating an account, each Tinder user was asked to provide their first name, last name, work email (to verify the disclosed workplace), age, gender, phone # and zip code. Before releasing this data, a data scientist cleaned the data to protect the privacy of Tinder's users by removing the obvious personal identifiers: phone #, zip code, and IP address. However, the data scientist chose to keep each users' email addresses because when they visually skimmed a couple of the email addresses none of them seemed to have any of the user's actual names in them. This is where the data scientist made a huge mistake!\n",
    "\n",
    "We will take advantage of having the work email addresses by finding the employee information of different companies and matching that employee information with the information we have, in order to identify the names of the secret Tinder users!"
   ]
  },
  {
   "cell_type": "code",
   "execution_count": 268,
   "metadata": {
    "collapsed": true,
    "deletable": false,
    "nbgrader": {
     "checksum": "4cc07f1511b85ba053b9bbc64f9b49c6",
     "grade": false,
     "grade_id": "1a",
     "locked": false,
     "schema_version": 1,
     "solution": true
    }
   },
   "outputs": [],
   "source": [
    "# 2a) Load in the 'cleaned' data \n",
    "\n",
    "# Load the json file into a pandas dataframe. Call it 'df_personal'.\n",
    "\n",
    "# YOUR CODE HERE\n",
    "df_personal = pd.read_json('anon_user_dat.json')\n",
    "#raise NotImplementedError()"
   ]
  },
  {
   "cell_type": "code",
   "execution_count": 269,
   "metadata": {
    "collapsed": true,
    "deletable": false,
    "editable": false,
    "nbgrader": {
     "checksum": "61909bf161ee3e26eaca9c2f1a52fd41",
     "grade": true,
     "grade_id": "1a-tests",
     "locked": true,
     "points": 0.5,
     "schema_version": 1,
     "solution": false
    }
   },
   "outputs": [],
   "source": [
    "assert isinstance(df_personal, pd.DataFrame)\n"
   ]
  },
  {
   "cell_type": "code",
   "execution_count": 270,
   "metadata": {
    "collapsed": true,
    "deletable": false,
    "nbgrader": {
     "checksum": "7fb39c47226cd7f94cc245d51747b746",
     "grade": false,
     "grade_id": "1b",
     "locked": false,
     "schema_version": 1,
     "solution": true
    }
   },
   "outputs": [],
   "source": [
    "# 2b) Check the first 10 emails \n",
    "\n",
    "# Save the first 10 emails to a Series, and call it 'sample_emails'. \n",
    "# You should then and print out this Series. \n",
    "# The purpose of this is to get a sense of how these work emails are structured\n",
    "#   and how we could possibly extract where each anonymous user seems to work.\n",
    "\n",
    "# YOUR CODE HERE\n",
    "s = []\n",
    "for i in range(10):\n",
    "    s.append(df_personal.email[i])\n",
    "sample_emails = pd.Series(s)\n",
    "#sample_emails\n",
    "#raise NotImplementedError()"
   ]
  },
  {
   "cell_type": "code",
   "execution_count": 271,
   "metadata": {
    "collapsed": true,
    "deletable": false,
    "editable": false,
    "nbgrader": {
     "checksum": "e5d7c945a4d2cc76ba068baf15641d43",
     "grade": true,
     "grade_id": "1b-tests",
     "locked": true,
     "points": 0.5,
     "schema_version": 1,
     "solution": false
    }
   },
   "outputs": [],
   "source": [
    "assert isinstance(sample_emails, pd.Series)\n"
   ]
  },
  {
   "cell_type": "code",
   "execution_count": 272,
   "metadata": {
    "collapsed": true,
    "deletable": false,
    "nbgrader": {
     "checksum": "b61be355079651582175dccbace705a5",
     "grade": false,
     "grade_id": "1c",
     "locked": false,
     "schema_version": 1,
     "solution": true
    }
   },
   "outputs": [],
   "source": [
    "# 2c) Extract the Company Name From the Email \n",
    "\n",
    "# Create a function with the following specifications:\n",
    "#   Function Name: extract_company\n",
    "#   Purpose: to extract the company of the email \n",
    "#          (i.e., everything after the @ sign but before the .)\n",
    "#   Parameter(s): email (string)\n",
    "#   Returns: The extracted part of the email (string)\n",
    "#   Hint: This should take 1 line of code. Look into the find('') method. \n",
    "#\n",
    "# You can start with this outline:\n",
    "#   def extract_company(email):\n",
    "#      return \n",
    "#\n",
    "# Example Usage: \n",
    "#   extract_company(\"larhe@uber.com\") should return \"uber\"\n",
    "#   extract_company(“ds@cogs.edu”) should return “cogs”\n",
    "\n",
    "\n",
    "# YOUR CODE HERE\n",
    "#s=\"larhe@uber.com\"\n",
    "#start = s.find('@')+1\n",
    "#end = s.find('.')\n",
    "#temp = s[start:end]\n",
    "#temp\n",
    "\n",
    "def extract_company(x):\n",
    "    start = x.find('@')+1\n",
    "    end = x.find('.')\n",
    "    temp = x[start:end]\n",
    "    return temp\n",
    "    \n",
    "\n",
    "#raise NotImplementedError()"
   ]
  },
  {
   "cell_type": "code",
   "execution_count": 273,
   "metadata": {
    "collapsed": true,
    "deletable": false,
    "editable": false,
    "nbgrader": {
     "checksum": "06225023bd1fad52a5f8e084753af2fb",
     "grade": true,
     "grade_id": "1c-tests",
     "locked": true,
     "points": 1,
     "schema_version": 1,
     "solution": false
    }
   },
   "outputs": [],
   "source": [
    "assert extract_company(\"gshoreson0@seattletimes.com\") == \"seattletimes\"\n"
   ]
  },
  {
   "cell_type": "markdown",
   "metadata": {
    "deletable": false,
    "editable": false,
    "nbgrader": {
     "checksum": "2ef7d9e3ecb79343b5b35d3aa70891a8",
     "grade": false,
     "grade_id": "info",
     "locked": true,
     "schema_version": 1,
     "solution": false
    }
   },
   "source": [
    "With a little bit of basic sleuthing (aka googling) and web-scraping (aka selectively reading in html code) it turns out that you've been able to collect information about all the present employees/interns of the companies you are interested in. Specifically, on each company website, you have found the name, gender, and age of its employees. You have saved that info in employee_info.json and plan to see if, using this new information, you can match the Tinder accounts to actual names."
   ]
  },
  {
   "cell_type": "code",
   "execution_count": 274,
   "metadata": {
    "collapsed": true,
    "deletable": false,
    "nbgrader": {
     "checksum": "ad3fb36e40e8bb9b629a4d6830c71729",
     "grade": false,
     "grade_id": "1d",
     "locked": false,
     "schema_version": 1,
     "solution": true
    }
   },
   "outputs": [],
   "source": [
    "# 2d) Load in employee data \n",
    "\n",
    "# Load the json file into a pandas dataframe. Call it 'df_employee'.\n",
    "\n",
    "# YOUR CODE HERE\n",
    "#df=df_employee.loc[(df_employee['company'] == company) & (condition2) & (condition3)]\n",
    "#first_name = list(df['first_name'])\n",
    "df_employee = pd.read_json('employee_info.json')\n",
    "\n",
    "#raise NotImplementedError()"
   ]
  },
  {
   "cell_type": "code",
   "execution_count": 275,
   "metadata": {
    "collapsed": true,
    "deletable": false,
    "editable": false,
    "nbgrader": {
     "checksum": "cd93c56e6879c7b8b50c7317bd3e1246",
     "grade": true,
     "grade_id": "1d-tests",
     "locked": true,
     "points": 0.5,
     "schema_version": 1,
     "solution": false
    }
   },
   "outputs": [],
   "source": [
    "assert isinstance(df_employee, pd.DataFrame)\n"
   ]
  },
  {
   "cell_type": "code",
   "execution_count": 276,
   "metadata": {
    "collapsed": true,
    "deletable": false,
    "nbgrader": {
     "checksum": "fc07ea1ae1be13b991d48f428cac7b37",
     "grade": false,
     "grade_id": "1e",
     "locked": false,
     "schema_version": 1,
     "solution": true
    }
   },
   "outputs": [],
   "source": [
    "# 2e) Match the employee name with company, age, gender \n",
    "\n",
    "# Create a function with the following specifications:\n",
    "#   Function name: employee_matcher\n",
    "#   Purpose: to match the employee name with the provided company, age, and gender\n",
    "#   Parameter(s): company (string), age (int), gender (string)\n",
    "#   Returns: The employee first_name and last_name like this: return first_name, last_name \n",
    "#   Note: If there are multiple employees that fit the same description, first_name and \n",
    "#         last_name should return a list of all possible first names and last name\n",
    "#         i.e., ['Desmund', 'Kelby'], ['Shepley', 'Tichner']\n",
    "#\n",
    "# Hint:\n",
    "# There are many different ways to code this.\n",
    "# 1) An unelegant solution is to loop through df_employee \n",
    "#    and for each data item see if the company, age, and gender match\n",
    "#    i.e., for i in range(0, len(df_employee)):\n",
    "#              if (company == df_employee.ix[i,'company']):\n",
    "#\n",
    "# However! The solution above is very inefficient and long, \n",
    "# so you should try to look into this:\n",
    "# 2) Google the df.loc method: It extracts pieces of the dataframe\n",
    "#    if it fulfills a certain condition.\n",
    "#    i.e., df_employee.loc[df_employee['company'] == company]\n",
    "#    If you need to convert your pandas data series into a list,\n",
    "#    you can do list(result) where result is a pandas \"series\"\n",
    "# \n",
    "# You can start with this outline:\n",
    "#   def employee_matcher(company, age, gender):\n",
    "#      return first_name, last_name\n",
    "\n",
    "# YOUR CODE HERE\n",
    "#df=df_employee.loc[(df_employee['company'] == company) & (condition2) & (condition3)]\n",
    "#first_name = list(df['first_name'])\n",
    "#df_employee\n",
    "def employee_matcher(company, age, gender):\n",
    "    df=df_employee.loc[(df_employee['company'] == company) & (df_employee['age'] == age) & (df_employee['gender'] == gender)]\n",
    "    first_name = list(df['first_name'])\n",
    "    last_name = list(df['last_name'])\n",
    "    return first_name, last_name\n",
    "        \n",
    "#df_personal\n",
    "\n",
    "#raise NotImplementedError()"
   ]
  },
  {
   "cell_type": "code",
   "execution_count": 277,
   "metadata": {
    "collapsed": true,
    "deletable": false,
    "editable": false,
    "nbgrader": {
     "checksum": "3f713cf00c84495d3bea5ba76d0f7e6a",
     "grade": true,
     "grade_id": "1e-tests",
     "locked": true,
     "points": 1,
     "schema_version": 1,
     "solution": false
    }
   },
   "outputs": [],
   "source": [
    "assert employee_matcher(\"google\", 41, \"Male\") == (['Maxwell'], ['Jorio'])\n",
    "assert employee_matcher(\"salon\", 47, \"Female\") == (['Elenore'], ['Gravett'])\n"
   ]
  },
  {
   "cell_type": "code",
   "execution_count": 278,
   "metadata": {
    "deletable": false,
    "nbgrader": {
     "checksum": "eb565b364684e43f855d5ff731384879",
     "grade": false,
     "grade_id": "1f",
     "locked": false,
     "schema_version": 1,
     "solution": true
    }
   },
   "outputs": [
    {
     "name": "stderr",
     "output_type": "stream",
     "text": [
      "C:\\Users\\vince\\AppData\\Local\\Continuum\\anaconda3\\lib\\site-packages\\ipykernel_launcher.py:21: DeprecationWarning: \n",
      ".ix is deprecated. Please use\n",
      ".loc for label based indexing or\n",
      ".iloc for positional indexing\n",
      "\n",
      "See the documentation here:\n",
      "http://pandas.pydata.org/pandas-docs/stable/indexing.html#ix-indexer-is-deprecated\n"
     ]
    }
   ],
   "source": [
    "# 2f) Extract all the private data \n",
    "\n",
    "# - Create 2 empty lists called 'first_names' and 'last_names'\n",
    "# - Loop through all the people we are trying to identify in df_personal\n",
    "# - Call the extract_company function (i.e., extract_company(df_personal.ix[i, 'email']) )\n",
    "# - Call the employee_matcher function \n",
    "# - Append the results of employee_matcher to the appropriate lists (first_names and last_names)\n",
    "\n",
    "# YOUR CODE HERE\n",
    "first_names = []\n",
    "last_names = []\n",
    "\n",
    "#for i in df_personal.index:\n",
    "    #age = df_personal.ix([i, 'age'])\n",
    "    #company = extract_company(df_personal.ix[i, 'email'])\n",
    "    #gender = df_personal.ix([i, 'gender'])\n",
    "    #first, last = employee_matcher(company, age, gender)\n",
    "    #first_names.append(first)\n",
    "\n",
    "for i in df_personal.index:\n",
    "    company = extract_company(df_personal.ix[i, 'email'])\n",
    "    first, last = employee_matcher(company, df_personal.ix[i, 'age'], df_personal.ix[i, 'gender'])\n",
    "    first_names.append(first)\n",
    "    last_names.append(last)\n",
    "    \n",
    "#first_names\n",
    "\n",
    "#first, last = employee_matcher(company, age, gender)\n",
    "#list_a.append(first)\n",
    "\n",
    "#raise NotImplementedError()"
   ]
  },
  {
   "cell_type": "code",
   "execution_count": 279,
   "metadata": {
    "collapsed": true,
    "deletable": false,
    "editable": false,
    "nbgrader": {
     "checksum": "60add6c068758eb6abcaa30879d2b7af",
     "grade": true,
     "grade_id": "1f-tests",
     "locked": true,
     "points": 1,
     "schema_version": 1,
     "solution": false
    }
   },
   "outputs": [],
   "source": [
    "assert first_names[45:50]== [['Justino'], ['Tadio'], ['Kennith'], ['Cedric'], ['Amargo']]\n",
    "assert last_names[45:50] == [['Corro'], ['Blackford'], ['Milton'], ['Yggo'], ['Grigor']]\n"
   ]
  },
  {
   "cell_type": "code",
   "execution_count": 280,
   "metadata": {
    "collapsed": true,
    "deletable": false,
    "editable": false,
    "nbgrader": {
     "checksum": "797556598e2b8c2406f949635a108850",
     "grade": false,
     "grade_id": "1g",
     "locked": true,
     "schema_version": 1,
     "solution": false
    }
   },
   "outputs": [],
   "source": [
    "# 2g) Add the names to the original 'secure' dataset! \n",
    "\n",
    "# We have done this last step for you below, all you need to do is run this cell.\n",
    "# For your own personal enjoyment, you should also print out\n",
    "#   the new df_personal with the identified people. \n",
    "\n",
    "df_personal['first_name'] = first_names\n",
    "df_personal['last_name'] = last_names"
   ]
  },
  {
   "cell_type": "markdown",
   "metadata": {
    "deletable": false,
    "editable": false,
    "nbgrader": {
     "checksum": "220e03ead46597189f618c88f0088bcc",
     "grade": false,
     "grade_id": "wrap-p1",
     "locked": true,
     "schema_version": 1,
     "solution": false
    }
   },
   "source": [
    "We have now just discovered the 'anonymous' identities of all the registered Tinder users...awkward."
   ]
  },
  {
   "cell_type": "markdown",
   "metadata": {
    "deletable": false,
    "editable": false,
    "nbgrader": {
     "checksum": "975e9008d46096fe811a216ea5f2b0d3",
     "grade": false,
     "grade_id": "p2-title",
     "locked": true,
     "schema_version": 1,
     "solution": false
    }
   },
   "source": [
    "## Part 3: Anonymize Data"
   ]
  },
  {
   "cell_type": "markdown",
   "metadata": {
    "deletable": false,
    "editable": false,
    "nbgrader": {
     "checksum": "28f7733eb649c467c1e05df6a0287439",
     "grade": false,
     "grade_id": "p2-desc",
     "locked": true,
     "schema_version": 1,
     "solution": false
    }
   },
   "source": [
    "You are hopefully now convinced that with some seemingly harmless data a hacker can pretty easily discover the identities of certain users. Thus, we will now clean the original Tinder data ourselves according to the Safe Harbor Method in order to make sure that it has been *properly* cleaned..."
   ]
  },
  {
   "cell_type": "code",
   "execution_count": 281,
   "metadata": {
    "collapsed": true,
    "deletable": false,
    "nbgrader": {
     "checksum": "89e65ce9092dc3ace07ed9f7e32b2fc1",
     "grade": false,
     "grade_id": "2a",
     "locked": false,
     "schema_version": 1,
     "solution": true
    }
   },
   "outputs": [],
   "source": [
    "# 3a) Load in personal data \n",
    "\n",
    "# Load the user_dat.json file into a pandas dataframe. Call it 'df_users'.\n",
    "# Note: You might find that using the same method as A2 (or above) leads to an error.\n",
    "# The file has a slightly different organization. \n",
    "#   Try googling the error and finding the fix for it.\n",
    "# Hint: you can still use 'pd.read_json', you just need to add another argument.\n",
    "\n",
    "# YOUR CODE HERE\n",
    "df_users = pd.read_json('user_dat.json', lines=True)\n",
    "\n",
    "#raise NotImplementedError()"
   ]
  },
  {
   "cell_type": "code",
   "execution_count": 282,
   "metadata": {
    "collapsed": true,
    "deletable": false,
    "editable": false,
    "nbgrader": {
     "checksum": "5ec60d4634be90d7f87fd0bd248755cd",
     "grade": true,
     "grade_id": "2a-tests",
     "locked": true,
     "points": 0.5,
     "schema_version": 1,
     "solution": false
    }
   },
   "outputs": [],
   "source": [
    "assert isinstance(df_users, pd.DataFrame)\n"
   ]
  },
  {
   "cell_type": "code",
   "execution_count": 283,
   "metadata": {
    "collapsed": true,
    "deletable": false,
    "nbgrader": {
     "checksum": "912a843843c85ea7007bfa6fe034ecb0",
     "grade": false,
     "grade_id": "2b",
     "locked": false,
     "schema_version": 1,
     "solution": true
    }
   },
   "outputs": [],
   "source": [
    "# 3b) Drop personal attributes \n",
    "\n",
    "# Remove any personal information, following the Safe Harbour method.\n",
    "# Based on the Safe Harbour method, remove any columns from df_users that contain personal information.\n",
    "#   Note that details on the Safe Harbour method are covered in the Tutorials.\n",
    "\n",
    "# YOUR CODE HERE\n",
    "cols = ['age','email','gender']\n",
    "df_users = df_users[cols]\n",
    "#df_users\n",
    "#raise NotImplementedError()"
   ]
  },
  {
   "cell_type": "code",
   "execution_count": 284,
   "metadata": {
    "collapsed": true,
    "deletable": false,
    "editable": false,
    "nbgrader": {
     "checksum": "aaaa4402b823f36919d4953dcd89ebba",
     "grade": true,
     "grade_id": "2b-tests",
     "locked": true,
     "points": 0.5,
     "schema_version": 1,
     "solution": false
    }
   },
   "outputs": [],
   "source": [
    "assert len(df_users.columns) == 3\n"
   ]
  },
  {
   "cell_type": "code",
   "execution_count": 285,
   "metadata": {
    "deletable": false,
    "nbgrader": {
     "checksum": "2055761795183edb7258b03b76270898",
     "grade": false,
     "grade_id": "2c",
     "locked": false,
     "schema_version": 1,
     "solution": true
    }
   },
   "outputs": [],
   "source": [
    "# 3c) Drop ages that are above 90 \n",
    "\n",
    "# Safe Harbour rule C:\n",
    "#   Drop all the rows which have age greater than 90 from df_users\n",
    "\n",
    "# YOUR CODE HERE\n",
    "df_users = df_users[df_users['age'] <= 90]\n",
    "#df_users.shape\n",
    "#raise NotImplementedError()"
   ]
  },
  {
   "cell_type": "code",
   "execution_count": 286,
   "metadata": {
    "collapsed": true,
    "deletable": false,
    "editable": false,
    "nbgrader": {
     "checksum": "0bf95b9f32e8c6f695d2850814459daa",
     "grade": true,
     "grade_id": "2c-tests",
     "locked": true,
     "points": 0.5,
     "schema_version": 1,
     "solution": false
    }
   },
   "outputs": [],
   "source": [
    "assert df_users.shape == (993, 3)\n"
   ]
  },
  {
   "cell_type": "code",
   "execution_count": 287,
   "metadata": {
    "deletable": false,
    "nbgrader": {
     "checksum": "f4745cc6348949495135886a90078d9d",
     "grade": false,
     "grade_id": "2d",
     "locked": false,
     "schema_version": 1,
     "solution": true
    }
   },
   "outputs": [
    {
     "data": {
      "text/html": [
       "<div>\n",
       "<style>\n",
       "    .dataframe thead tr:only-child th {\n",
       "        text-align: right;\n",
       "    }\n",
       "\n",
       "    .dataframe thead th {\n",
       "        text-align: left;\n",
       "    }\n",
       "\n",
       "    .dataframe tbody tr th {\n",
       "        vertical-align: top;\n",
       "    }\n",
       "</style>\n",
       "<table border=\"1\" class=\"dataframe\">\n",
       "  <thead>\n",
       "    <tr style=\"text-align: right;\">\n",
       "      <th></th>\n",
       "      <th>zip</th>\n",
       "      <th>population</th>\n",
       "    </tr>\n",
       "  </thead>\n",
       "  <tbody>\n",
       "    <tr>\n",
       "      <th>0</th>\n",
       "      <td>1001</td>\n",
       "      <td>16769</td>\n",
       "    </tr>\n",
       "    <tr>\n",
       "      <th>1</th>\n",
       "      <td>1002</td>\n",
       "      <td>29049</td>\n",
       "    </tr>\n",
       "    <tr>\n",
       "      <th>2</th>\n",
       "      <td>1003</td>\n",
       "      <td>10372</td>\n",
       "    </tr>\n",
       "    <tr>\n",
       "      <th>3</th>\n",
       "      <td>1005</td>\n",
       "      <td>5079</td>\n",
       "    </tr>\n",
       "    <tr>\n",
       "      <th>4</th>\n",
       "      <td>1007</td>\n",
       "      <td>14649</td>\n",
       "    </tr>\n",
       "    <tr>\n",
       "      <th>5</th>\n",
       "      <td>1008</td>\n",
       "      <td>1263</td>\n",
       "    </tr>\n",
       "    <tr>\n",
       "      <th>6</th>\n",
       "      <td>1009</td>\n",
       "      <td>741</td>\n",
       "    </tr>\n",
       "    <tr>\n",
       "      <th>7</th>\n",
       "      <td>1010</td>\n",
       "      <td>3609</td>\n",
       "    </tr>\n",
       "    <tr>\n",
       "      <th>8</th>\n",
       "      <td>1011</td>\n",
       "      <td>1370</td>\n",
       "    </tr>\n",
       "    <tr>\n",
       "      <th>9</th>\n",
       "      <td>1012</td>\n",
       "      <td>661</td>\n",
       "    </tr>\n",
       "    <tr>\n",
       "      <th>10</th>\n",
       "      <td>1013</td>\n",
       "      <td>23188</td>\n",
       "    </tr>\n",
       "    <tr>\n",
       "      <th>11</th>\n",
       "      <td>1020</td>\n",
       "      <td>29668</td>\n",
       "    </tr>\n",
       "    <tr>\n",
       "      <th>12</th>\n",
       "      <td>1022</td>\n",
       "      <td>2451</td>\n",
       "    </tr>\n",
       "    <tr>\n",
       "      <th>13</th>\n",
       "      <td>1026</td>\n",
       "      <td>946</td>\n",
       "    </tr>\n",
       "    <tr>\n",
       "      <th>14</th>\n",
       "      <td>1027</td>\n",
       "      <td>17660</td>\n",
       "    </tr>\n",
       "    <tr>\n",
       "      <th>15</th>\n",
       "      <td>1028</td>\n",
       "      <td>15720</td>\n",
       "    </tr>\n",
       "    <tr>\n",
       "      <th>16</th>\n",
       "      <td>1029</td>\n",
       "      <td>789</td>\n",
       "    </tr>\n",
       "    <tr>\n",
       "      <th>17</th>\n",
       "      <td>1030</td>\n",
       "      <td>11669</td>\n",
       "    </tr>\n",
       "    <tr>\n",
       "      <th>18</th>\n",
       "      <td>1031</td>\n",
       "      <td>1308</td>\n",
       "    </tr>\n",
       "    <tr>\n",
       "      <th>19</th>\n",
       "      <td>1032</td>\n",
       "      <td>570</td>\n",
       "    </tr>\n",
       "    <tr>\n",
       "      <th>20</th>\n",
       "      <td>1033</td>\n",
       "      <td>6227</td>\n",
       "    </tr>\n",
       "    <tr>\n",
       "      <th>21</th>\n",
       "      <td>1034</td>\n",
       "      <td>2021</td>\n",
       "    </tr>\n",
       "    <tr>\n",
       "      <th>22</th>\n",
       "      <td>1035</td>\n",
       "      <td>5250</td>\n",
       "    </tr>\n",
       "    <tr>\n",
       "      <th>23</th>\n",
       "      <td>1036</td>\n",
       "      <td>5109</td>\n",
       "    </tr>\n",
       "    <tr>\n",
       "      <th>24</th>\n",
       "      <td>1037</td>\n",
       "      <td>838</td>\n",
       "    </tr>\n",
       "    <tr>\n",
       "      <th>25</th>\n",
       "      <td>1038</td>\n",
       "      <td>2545</td>\n",
       "    </tr>\n",
       "    <tr>\n",
       "      <th>26</th>\n",
       "      <td>1039</td>\n",
       "      <td>1336</td>\n",
       "    </tr>\n",
       "    <tr>\n",
       "      <th>27</th>\n",
       "      <td>1040</td>\n",
       "      <td>39880</td>\n",
       "    </tr>\n",
       "    <tr>\n",
       "      <th>28</th>\n",
       "      <td>1050</td>\n",
       "      <td>2530</td>\n",
       "    </tr>\n",
       "    <tr>\n",
       "      <th>29</th>\n",
       "      <td>1053</td>\n",
       "      <td>1685</td>\n",
       "    </tr>\n",
       "    <tr>\n",
       "      <th>...</th>\n",
       "      <td>...</td>\n",
       "      <td>...</td>\n",
       "    </tr>\n",
       "    <tr>\n",
       "      <th>33062</th>\n",
       "      <td>99786</td>\n",
       "      <td>259</td>\n",
       "    </tr>\n",
       "    <tr>\n",
       "      <th>33063</th>\n",
       "      <td>99788</td>\n",
       "      <td>69</td>\n",
       "    </tr>\n",
       "    <tr>\n",
       "      <th>33064</th>\n",
       "      <td>99789</td>\n",
       "      <td>402</td>\n",
       "    </tr>\n",
       "    <tr>\n",
       "      <th>33065</th>\n",
       "      <td>99790</td>\n",
       "      <td>20</td>\n",
       "    </tr>\n",
       "    <tr>\n",
       "      <th>33066</th>\n",
       "      <td>99791</td>\n",
       "      <td>237</td>\n",
       "    </tr>\n",
       "    <tr>\n",
       "      <th>33067</th>\n",
       "      <td>99801</td>\n",
       "      <td>29164</td>\n",
       "    </tr>\n",
       "    <tr>\n",
       "      <th>33068</th>\n",
       "      <td>99820</td>\n",
       "      <td>479</td>\n",
       "    </tr>\n",
       "    <tr>\n",
       "      <th>33069</th>\n",
       "      <td>99824</td>\n",
       "      <td>2111</td>\n",
       "    </tr>\n",
       "    <tr>\n",
       "      <th>33070</th>\n",
       "      <td>99825</td>\n",
       "      <td>120</td>\n",
       "    </tr>\n",
       "    <tr>\n",
       "      <th>33071</th>\n",
       "      <td>99826</td>\n",
       "      <td>442</td>\n",
       "    </tr>\n",
       "    <tr>\n",
       "      <th>33072</th>\n",
       "      <td>99827</td>\n",
       "      <td>2602</td>\n",
       "    </tr>\n",
       "    <tr>\n",
       "      <th>33073</th>\n",
       "      <td>99829</td>\n",
       "      <td>777</td>\n",
       "    </tr>\n",
       "    <tr>\n",
       "      <th>33074</th>\n",
       "      <td>99830</td>\n",
       "      <td>561</td>\n",
       "    </tr>\n",
       "    <tr>\n",
       "      <th>33075</th>\n",
       "      <td>99832</td>\n",
       "      <td>104</td>\n",
       "    </tr>\n",
       "    <tr>\n",
       "      <th>33076</th>\n",
       "      <td>99833</td>\n",
       "      <td>3202</td>\n",
       "    </tr>\n",
       "    <tr>\n",
       "      <th>33077</th>\n",
       "      <td>99835</td>\n",
       "      <td>8880</td>\n",
       "    </tr>\n",
       "    <tr>\n",
       "      <th>33078</th>\n",
       "      <td>99836</td>\n",
       "      <td>52</td>\n",
       "    </tr>\n",
       "    <tr>\n",
       "      <th>33079</th>\n",
       "      <td>99840</td>\n",
       "      <td>968</td>\n",
       "    </tr>\n",
       "    <tr>\n",
       "      <th>33080</th>\n",
       "      <td>99841</td>\n",
       "      <td>133</td>\n",
       "    </tr>\n",
       "    <tr>\n",
       "      <th>33081</th>\n",
       "      <td>99901</td>\n",
       "      <td>13508</td>\n",
       "    </tr>\n",
       "    <tr>\n",
       "      <th>33082</th>\n",
       "      <td>99903</td>\n",
       "      <td>31</td>\n",
       "    </tr>\n",
       "    <tr>\n",
       "      <th>33083</th>\n",
       "      <td>99918</td>\n",
       "      <td>231</td>\n",
       "    </tr>\n",
       "    <tr>\n",
       "      <th>33084</th>\n",
       "      <td>99919</td>\n",
       "      <td>531</td>\n",
       "    </tr>\n",
       "    <tr>\n",
       "      <th>33085</th>\n",
       "      <td>99921</td>\n",
       "      <td>1920</td>\n",
       "    </tr>\n",
       "    <tr>\n",
       "      <th>33086</th>\n",
       "      <td>99922</td>\n",
       "      <td>384</td>\n",
       "    </tr>\n",
       "    <tr>\n",
       "      <th>33087</th>\n",
       "      <td>99923</td>\n",
       "      <td>87</td>\n",
       "    </tr>\n",
       "    <tr>\n",
       "      <th>33088</th>\n",
       "      <td>99925</td>\n",
       "      <td>819</td>\n",
       "    </tr>\n",
       "    <tr>\n",
       "      <th>33089</th>\n",
       "      <td>99926</td>\n",
       "      <td>1460</td>\n",
       "    </tr>\n",
       "    <tr>\n",
       "      <th>33090</th>\n",
       "      <td>99927</td>\n",
       "      <td>94</td>\n",
       "    </tr>\n",
       "    <tr>\n",
       "      <th>33091</th>\n",
       "      <td>99929</td>\n",
       "      <td>2338</td>\n",
       "    </tr>\n",
       "  </tbody>\n",
       "</table>\n",
       "<p>33092 rows × 2 columns</p>\n",
       "</div>"
      ],
      "text/plain": [
       "         zip  population\n",
       "0       1001       16769\n",
       "1       1002       29049\n",
       "2       1003       10372\n",
       "3       1005        5079\n",
       "4       1007       14649\n",
       "5       1008        1263\n",
       "6       1009         741\n",
       "7       1010        3609\n",
       "8       1011        1370\n",
       "9       1012         661\n",
       "10      1013       23188\n",
       "11      1020       29668\n",
       "12      1022        2451\n",
       "13      1026         946\n",
       "14      1027       17660\n",
       "15      1028       15720\n",
       "16      1029         789\n",
       "17      1030       11669\n",
       "18      1031        1308\n",
       "19      1032         570\n",
       "20      1033        6227\n",
       "21      1034        2021\n",
       "22      1035        5250\n",
       "23      1036        5109\n",
       "24      1037         838\n",
       "25      1038        2545\n",
       "26      1039        1336\n",
       "27      1040       39880\n",
       "28      1050        2530\n",
       "29      1053        1685\n",
       "...      ...         ...\n",
       "33062  99786         259\n",
       "33063  99788          69\n",
       "33064  99789         402\n",
       "33065  99790          20\n",
       "33066  99791         237\n",
       "33067  99801       29164\n",
       "33068  99820         479\n",
       "33069  99824        2111\n",
       "33070  99825         120\n",
       "33071  99826         442\n",
       "33072  99827        2602\n",
       "33073  99829         777\n",
       "33074  99830         561\n",
       "33075  99832         104\n",
       "33076  99833        3202\n",
       "33077  99835        8880\n",
       "33078  99836          52\n",
       "33079  99840         968\n",
       "33080  99841         133\n",
       "33081  99901       13508\n",
       "33082  99903          31\n",
       "33083  99918         231\n",
       "33084  99919         531\n",
       "33085  99921        1920\n",
       "33086  99922         384\n",
       "33087  99923          87\n",
       "33088  99925         819\n",
       "33089  99926        1460\n",
       "33090  99927          94\n",
       "33091  99929        2338\n",
       "\n",
       "[33092 rows x 2 columns]"
      ]
     },
     "execution_count": 287,
     "metadata": {},
     "output_type": "execute_result"
    }
   ],
   "source": [
    "# 3d) Load in zip code data \n",
    "\n",
    "# Load the zip_pop.csv file into a (different) pandas dataframe. Call it 'df_zip'.\n",
    "# Note that the zip data should be read in as strings, not ints, as would be the default. \n",
    "# In read_csv, use the parameter 'dtype' to specify to read 'zip' as str, and 'population' as int.\n",
    "\n",
    "# YOUR CODE HERE\n",
    "df_zip = pd.read_csv('zip_pop.csv')\n",
    "df_zip\n",
    "#raise NotImplementedError()"
   ]
  },
  {
   "cell_type": "code",
   "execution_count": 289,
   "metadata": {
    "collapsed": true,
    "deletable": false,
    "editable": false,
    "nbgrader": {
     "checksum": "78a50c8e93d6577339c9611bdd7eaaa8",
     "grade": true,
     "grade_id": "2d-tests",
     "locked": true,
     "points": 0.5,
     "schema_version": 1,
     "solution": false
    }
   },
   "outputs": [],
   "source": [
    "assert isinstance(df_zip, pd.DataFrame)\n"
   ]
  },
  {
   "cell_type": "code",
   "execution_count": 290,
   "metadata": {
    "deletable": false,
    "nbgrader": {
     "checksum": "9cc339bd36e3b2c3813c6852608d87cc",
     "grade": false,
     "grade_id": "2e",
     "locked": false,
     "schema_version": 1,
     "solution": true
    }
   },
   "outputs": [],
   "source": [
    "# 3e) Sort zipcodes into \"Geographic Subdivision\" \n",
    "\n",
    "# The Safe Harbour Method applies to \"Geographic Subdivisions\"\n",
    "#   as opposed to each zipcode itself. \n",
    "# Geographic Subdivision:\n",
    "#   All areas which share the first 3 digits of a zip code\n",
    "#\n",
    "# Count the total population for each geographic subdivision\n",
    "# Warning: you have to be savy with a dictionary here\n",
    "# To understand how a dictionary works, check the section materials,\n",
    "#   use google and go to discussion sections!\n",
    "#\n",
    "# Instructions: \n",
    "# - Create an empty dictionary: zip_dict = {}\n",
    "# - Loop through all the zip_codes in df_zip\n",
    "# - Create a dictionary key for the first 3 digits of a zip_code in zip_dict\n",
    "# - Continually add population counts to the key that contains the \n",
    "#     same first 3 digits of the zip code\n",
    "#\n",
    "# To extract the population you will find this code useful:\n",
    "#   population = list(df_zip.loc[df_zip['zip'] == zip_code]['population'])\n",
    "# To extract the first 3 digits of a zip_code you will find this code useful:\n",
    "#   int(str(zip_code)[:3])\n",
    "#\n",
    "# Note: this code may take some time (many seconds, up to a minute or two) to run\n",
    "\n",
    "# YOUR CODE HERE\n",
    "#example\n",
    "#10001- 20000\n",
    "#10002- 5000\n",
    "#10101- 2000\n",
    "\n",
    "zip_dict = {}\n",
    "zipcodes = []\n",
    "for i in df_zip.zip:\n",
    "    zipcodes.append(int(str(i)[:3]))\n",
    "zipper = zipcodes[0]\n",
    "sum = 0\n",
    "pop = []\n",
    "i = 0\n",
    "for x,y in zip(zipcodes,df_zip.population):\n",
    "    if x == zipper:\n",
    "        sum = sum + y\n",
    "    else:\n",
    "        pop.append(sum)\n",
    "        sum = 0\n",
    "        sum = sum + y\n",
    "        zipper = x\n",
    "pop.append(0)\n",
    "temp = zipcodes[0]\n",
    "zipcodez = []\n",
    "zipcodez.append(temp)\n",
    "for i in zipcodes:\n",
    "    if i != temp:\n",
    "        zipcodez.append(i)\n",
    "        temp = i\n",
    "\n",
    "for x,y in zip(zipcodez,pop):\n",
    "    zip_dict[x] = y\n",
    "    \n",
    "#zip_dict\n",
    "    \n",
    "\n",
    "\n",
    "\n",
    "\n",
    "    \n",
    "\n",
    "\n",
    "#zip_dict = {}\n",
    "#for i, rows in df\n",
    "\n",
    "#zip_code = rows['zip_code']\n",
    "#pop=rows['population']\n",
    "#extract 1st 3 digits of your zip code -> key\n",
    "\n",
    "#if key in zip_dict:\n",
    "#    zip_dict[key] = zip_dict[key] + pop\n",
    "#else:\n",
    "#    zip_dict[key] = pop\n",
    "    \n",
    "#zip_dict[key].setdefault(0)\n",
    "#zip_dict[key] = zip_dict[key] + pop\n",
    "\n",
    "\n",
    "\n",
    "\n",
    "\n",
    "\n",
    "#raise NotImplementedError()"
   ]
  },
  {
   "cell_type": "code",
   "execution_count": 291,
   "metadata": {
    "deletable": false,
    "editable": false,
    "nbgrader": {
     "checksum": "2bd97a39d94617052c6bb3cc8c5bd497",
     "grade": true,
     "grade_id": "2e-tests",
     "locked": true,
     "points": 1.25,
     "schema_version": 1,
     "solution": false
    }
   },
   "outputs": [],
   "source": [
    "assert isinstance(zip_dict, dict)\n",
    "assert zip_dict[100] == 1502501\n"
   ]
  },
  {
   "cell_type": "code",
   "execution_count": null,
   "metadata": {
    "collapsed": true,
    "deletable": false,
    "editable": false,
    "nbgrader": {
     "checksum": "4dcaab99a0cd491db53cc2842f3d750f",
     "grade": false,
     "grade_id": "2f",
     "locked": true,
     "schema_version": 1,
     "solution": false
    }
   },
   "outputs": [],
   "source": [
    "# 3f) Explain this code excerpt \n",
    "# Note: you do not have to use this line of code at this point in the assignmnet.\n",
    "#  It is one of the lines provided to you in 2e. Here, just write a quick comment on what it does. \n",
    "\n",
    "# In the cell below, explain in words what what the following line of code is doing:\n",
    "population = list(df_zip.loc[df_zip['zip'] == zip_code]['population'])"
   ]
  },
  {
   "cell_type": "markdown",
   "metadata": {
    "collapsed": true,
    "deletable": false,
    "nbgrader": {
     "checksum": "cc98e43035f0175d3f82fe6a94dc5f58",
     "grade": true,
     "grade_id": "2f-write",
     "locked": false,
     "points": 0,
     "schema_version": 1,
     "solution": true
    }
   },
   "source": [
    "YOUR ANSWER HERE"
   ]
  },
  {
   "cell_type": "code",
   "execution_count": null,
   "metadata": {
    "collapsed": true,
    "deletable": false,
    "nbgrader": {
     "checksum": "621d2ead4f68903eaa2ddadbf4f64459",
     "grade": false,
     "grade_id": "2g",
     "locked": false,
     "schema_version": 1,
     "solution": true
    }
   },
   "outputs": [],
   "source": [
    "# 3g) Masking the Zip Codes \n",
    "\n",
    "# In this part, you should write a for loop, updating the df_users dataframe.\n",
    "# Go through each user, and update their zip-code, to Safe Harbour specifications:\n",
    "#   If the user is from a zip code for the which the\n",
    "#     \"Geographic Subdivision\" is less than equal to 20000:\n",
    "#        - Change the zip code to 0 \n",
    "#   Otherwise:\n",
    "#         - Change the zip code to be only the first 3 numbers of the full zip cide\n",
    "# Do all this re-writting the zip_code columns of the 'df_users' DataFrame\n",
    "#\n",
    "# Hints:\n",
    "#  - This will be several lines of code, looping through the DataFrame, \n",
    "#      getting each zip code, checking the geographic subdivision with \n",
    "#      the population in zip_dict, and settig the zip_code accordingly. \n",
    "\n",
    "# YOUR CODE HERE\n",
    "\n",
    "#raise NotImplementedError()"
   ]
  },
  {
   "cell_type": "code",
   "execution_count": null,
   "metadata": {
    "collapsed": true,
    "deletable": false,
    "editable": false,
    "nbgrader": {
     "checksum": "96ef0f83802b7b170238228b68be36e1",
     "grade": true,
     "grade_id": "2g-tests",
     "locked": true,
     "points": 1.25,
     "schema_version": 1,
     "solution": false
    }
   },
   "outputs": [],
   "source": [
    "assert len(df_users) == 993\n",
    "assert sum(df_users.zip == 0) == 7\n",
    "assert df_users.loc[671, 'zip'] == 359\n"
   ]
  },
  {
   "cell_type": "code",
   "execution_count": null,
   "metadata": {
    "collapsed": true,
    "deletable": false,
    "nbgrader": {
     "checksum": "a0313df0a86a0d1c0f762fadfa8fc80d",
     "grade": false,
     "grade_id": "2h",
     "locked": false,
     "schema_version": 1,
     "solution": true
    }
   },
   "outputs": [],
   "source": [
    "# 3h) Save out the properly anonymized data to json file \n",
    "\n",
    "# Save out df_users as a json file, called 'real_anon_user_dat.json'\n",
    "\n",
    "# YOUR CODE HERE\n",
    "\n",
    "#raise NotImplementedError()"
   ]
  },
  {
   "cell_type": "code",
   "execution_count": null,
   "metadata": {
    "collapsed": true,
    "deletable": false,
    "editable": false,
    "nbgrader": {
     "checksum": "5f1b809a9d61919bc0dd68fda1aedc1b",
     "grade": true,
     "grade_id": "2h-tests",
     "locked": true,
     "points": 0.5,
     "schema_version": 1,
     "solution": false
    }
   },
   "outputs": [],
   "source": [
    "assert isinstance(pd.read_json('real_anon_user_dat.json'), pd.DataFrame)"
   ]
  },
  {
   "cell_type": "markdown",
   "metadata": {
    "deletable": false,
    "editable": false,
    "nbgrader": {
     "checksum": "d2d93ad8046edf965c498ec0bf27f765",
     "grade": false,
     "grade_id": "finish",
     "locked": true,
     "schema_version": 1,
     "solution": false
    }
   },
   "source": [
    "Congrats, you're done! The users identities are much more protected now. \n",
    "\n",
    "Submit this notebook file to TritonED."
   ]
  }
 ],
 "metadata": {
  "kernelspec": {
   "display_name": "Python 3",
   "language": "python",
   "name": "python3"
  },
  "language_info": {
   "codemirror_mode": {
    "name": "ipython",
    "version": 3
   },
   "file_extension": ".py",
   "mimetype": "text/x-python",
   "name": "python",
   "nbconvert_exporter": "python",
   "pygments_lexer": "ipython3",
   "version": "3.6.3"
  }
 },
 "nbformat": 4,
 "nbformat_minor": 2
}
