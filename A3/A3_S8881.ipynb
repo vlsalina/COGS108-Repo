{
 "cells": [
  {
   "cell_type": "markdown",
   "metadata": {
    "deletable": false,
    "editable": false,
    "nbgrader": {
     "checksum": "26c8529e3b2e59be78d4aa19804373fc",
     "grade": false,
     "grade_id": "title",
     "locked": true,
     "schema_version": 1,
     "solution": false
    }
   },
   "source": [
    "# COGS 108 - Assignment 3: Data Privacy"
   ]
  },
  {
   "cell_type": "markdown",
   "metadata": {
    "deletable": false,
    "editable": false,
    "nbgrader": {
     "checksum": "19a89ebe76d5deeaebb3d494a20c2240",
     "grade": false,
     "grade_id": "important",
     "locked": true,
     "schema_version": 1,
     "solution": false
    }
   },
   "source": [
    "## Important Reminders\n",
    "\n",
    "- Rename this file to 'A3_$####.ipynb', replacing with your unique ID (first letter of your last name, followed by the last 4 digits of your student ID number), before you submit it. Submit it to TritonED.\n",
    "- Do not change / update / delete any existing cells with 'assert' in them. These are the tests used to check your assignment. \n",
    "    - Changing these will be flagged for attempted cheating. \n",
    "- This assignment has hidden tests: tests that are not visible here, but that will be run on your submitted file. \n",
    "    - This means passing all the tests you can see in the notebook here does not guarantee you have the right answer!"
   ]
  },
  {
   "cell_type": "markdown",
   "metadata": {
    "deletable": false,
    "editable": false,
    "nbgrader": {
     "checksum": "3e5ebfca3f2f8e75fb4d54102698bd77",
     "grade": false,
     "grade_id": "overview",
     "locked": true,
     "schema_version": 1,
     "solution": false
    }
   },
   "source": [
    "## Overview\n",
    "\n",
    "We have discussed in lecture the importance and the mechanics of protecting individuals privacy when they are included in datasets. \n",
    "\n",
    "One method to do so is the Safe Harbor Method. The Safe Harbour method specifies how to protect individual's identities by telling us which tells us which information to remove from a dataset in order to avoid accidently disclosing personal information. \n",
    "\n",
    "In this assignment, we will explore web scraping, which can often include personally identifiable information, how identity can be decoded from badly anonymized datasets, and also explore using Safe Harbour to anonymize datasets properly. \n",
    "\n",
    "The topics covered in this assignment are mainly covered in the 'DataGathering' and 'DataPrivacy&Anonymization' Tutorial notebooks."
   ]
  },
  {
   "cell_type": "markdown",
   "metadata": {
    "deletable": false,
    "editable": false,
    "nbgrader": {
     "checksum": "ea20266c9be42b2fbdf472d6db1024dd",
     "grade": false,
     "grade_id": "cell-b169d37fcae03fbc",
     "locked": true,
     "schema_version": 1,
     "solution": false
    }
   },
   "source": [
    "### Installing new packages\n",
    "\n",
    "In the first part of the assignment we will understand how we can scrape the web for data. You have to use the Beautiful Soup library in Python for scraping the data. \n",
    "\n",
    "The library is not installed in Anaconda version, therefore to install a new library for Anaconda, we can use the conda package manager, which the cell below does for you. "
   ]
  },
  {
   "cell_type": "code",
   "execution_count": 145,
   "metadata": {
    "deletable": false,
    "editable": false,
    "nbgrader": {
     "checksum": "dad55181dff84344120ab766c5b62d89",
     "grade": false,
     "grade_id": "cell-8a8f3952c7e67d7f",
     "locked": true,
     "schema_version": 1,
     "solution": false
    }
   },
   "outputs": [
    {
     "name": "stdout",
     "output_type": "stream",
     "text": [
      "Solving environment: done\n",
      "\n",
      "# All requested packages already installed.\n",
      "\n"
     ]
    }
   ],
   "source": [
    "# Run this cell to install beautifulsoup4\n",
    "#  You only need to do the installation once\n",
    "#    Once you have run it you can comment these two lines so that the cell doesn't execute everytime.\n",
    "import sys\n",
    "!conda install --yes --prefix {sys.prefix} beautifulsoup4"
   ]
  },
  {
   "cell_type": "markdown",
   "metadata": {
    "deletable": false,
    "editable": false,
    "nbgrader": {
     "checksum": "1e2ed7d7ab9a2d36798e407ed93e7e11",
     "grade": false,
     "grade_id": "imports",
     "locked": true,
     "schema_version": 1,
     "solution": false
    }
   },
   "source": [
    "### Imports"
   ]
  },
  {
   "cell_type": "code",
   "execution_count": 146,
   "metadata": {
    "collapsed": true,
    "deletable": false,
    "editable": false,
    "nbgrader": {
     "checksum": "1d7cc48ec36a10ee8ce4301f4ad8068e",
     "grade": false,
     "grade_id": "import-code",
     "locked": true,
     "schema_version": 1,
     "solution": false
    }
   },
   "outputs": [],
   "source": [
    "# Imports - these provided for you. Do not import any other packages\n",
    "import pandas as pd\n",
    "import requests\n",
    "import bs4\n",
    "from bs4 import BeautifulSoup"
   ]
  },
  {
   "cell_type": "markdown",
   "metadata": {
    "deletable": false,
    "editable": false,
    "nbgrader": {
     "checksum": "2258dd8460e82dd9ba05790b392c2170",
     "grade": false,
     "grade_id": "cell-25153cbdcaad4068",
     "locked": true,
     "schema_version": 1,
     "solution": false
    }
   },
   "source": [
    "## Part 1: Web Scraping "
   ]
  },
  {
   "cell_type": "markdown",
   "metadata": {
    "deletable": false,
    "editable": false,
    "nbgrader": {
     "checksum": "1879df607edbde1394ed6b304ba0a2c7",
     "grade": false,
     "grade_id": "cell-76ae256b5f7132b6",
     "locked": true,
     "schema_version": 1,
     "solution": false
    }
   },
   "source": [
    "### Scraping Rules\n",
    "\n",
    "1) If you are using another organizations website for scraping, make sure to check the website's terms & conditions. \n",
    "\n",
    "2) Do not request data from the website too aggressively (quickly) with your program (also known as spamming), as this may break the website. Make sure your program behaves in a reasonable manner (i.e. acts like a human). One request for one webpage per second is good practice.\n",
    "\n",
    "3) The layout of a website may change from time to time. Because of this, if you're scraping website, make sure to revisit the site and rewrite your code as needed."
   ]
  },
  {
   "cell_type": "code",
   "execution_count": 147,
   "metadata": {
    "collapsed": true,
    "deletable": false,
    "editable": false,
    "nbgrader": {
     "checksum": "4176af1f7152bcb4deff540099f3cfd9",
     "grade": false,
     "grade_id": "cell-f5423577b9902c1c",
     "locked": true,
     "schema_version": 1,
     "solution": false
    }
   },
   "outputs": [],
   "source": [
    "# This cell will help you understand the permission issues related to accessing a page\n",
    "# Uncomment the two lines, run them, see what error you get, comment them again\n",
    "\n",
    "#page_source = requests.get('http://www.aflcio.org/Legislation-and-Politics/Legislative-Alerts')\n",
    "#page_soup = BeautifulSoup(page_source.content, 'html.parser')"
   ]
  },
  {
   "cell_type": "code",
   "execution_count": 148,
   "metadata": {
    "collapsed": true
   },
   "outputs": [],
   "source": [
    "# This cell will help you understand the permission issues related to accessing a page\n",
    "# Uncomment the two lines, run them, see what error you get, comment them again\n",
    "\n",
    "page_source = requests.get('http://www.aflcio.org/Legislation-and-Politics/Legislative-Alerts')\n",
    "page_soup = BeautifulSoup(page_source.content, 'html.parser')"
   ]
  },
  {
   "cell_type": "markdown",
   "metadata": {
    "deletable": false,
    "editable": false,
    "nbgrader": {
     "checksum": "d4fed909c257ed14ed7cf6306ee015f2",
     "grade": false,
     "grade_id": "cell-164e625a3cd53f8d",
     "locked": true,
     "schema_version": 1,
     "solution": false
    }
   },
   "source": [
    "#### What is the error that you got, and why did you get it?"
   ]
  },
  {
   "cell_type": "markdown",
   "metadata": {
    "deletable": false,
    "nbgrader": {
     "checksum": "d7239e9d93ef503e59cabbee1d3e5481",
     "grade": true,
     "grade_id": "cell-ac79813190d0715c",
     "locked": false,
     "points": 0,
     "schema_version": 1,
     "solution": true
    }
   },
   "source": [
    "YOUR ANSWER HERE"
   ]
  },
  {
   "cell_type": "code",
   "execution_count": 149,
   "metadata": {
    "collapsed": true,
    "deletable": false,
    "nbgrader": {
     "checksum": "a30f65a5cf189bcbb356196ea240d9a5",
     "grade": false,
     "grade_id": "cell-889693bf71daf7c8",
     "locked": false,
     "schema_version": 1,
     "solution": true
    }
   },
   "outputs": [],
   "source": [
    "# 1a) Web Scrape\n",
    "# We will first retrieve the contents on a page and examine them a bit.\n",
    "\n",
    "# Make a variable called 'wiki', that stores the following URL (as a string):\n",
    "#  'https://en.wikipedia.org/wiki/List_of_U.S._states_and_territories_by_population'\n",
    "# To open the URL you can use 'requests.get' as shown in the cell above. Call this variable 'page'\n",
    "# After that use BeautifulSoup Library to open the URL and assign it to an object called 'soup'\n",
    "\n",
    "# YOUR CODE HERE\n",
    "wiki = 'https://en.wikipedia.org/wiki/List_of_U.S._states_and_territories_by_population'\n",
    "page = requests.get(wiki)\n",
    "soup = BeautifulSoup(page.content, 'html.parser')\n",
    "#raise NotImplementedError()"
   ]
  },
  {
   "cell_type": "code",
   "execution_count": 150,
   "metadata": {
    "collapsed": true,
    "deletable": false,
    "editable": false,
    "nbgrader": {
     "checksum": "88991ab92634826735078f6cba9eb0f1",
     "grade": true,
     "grade_id": "cell-52fad88c14b5f276",
     "locked": true,
     "points": 0.5,
     "schema_version": 1,
     "solution": false
    }
   },
   "outputs": [],
   "source": [
    "assert wiki\n",
    "assert page\n",
    "assert soup\n"
   ]
  },
  {
   "cell_type": "code",
   "execution_count": 151,
   "metadata": {
    "collapsed": true,
    "deletable": false,
    "nbgrader": {
     "checksum": "3625afdb3bb344958bba5e5266366ece",
     "grade": false,
     "grade_id": "cell-4d0a0b26ed667fe0",
     "locked": false,
     "schema_version": 1,
     "solution": true
    }
   },
   "outputs": [],
   "source": [
    "# 1b) Checking Scrape Contents\n",
    "\n",
    "# Extract the title from the page and save it in a variable called 'title_page'. \n",
    "#  Make sure you extract it as a string.\n",
    "# To do so, you have to use the soup object created in the above cell. \n",
    "#  Hint: from your soup variable, you can access this with '.title.string'\n",
    "# Make sure you print out and check the contents of 'title_page'. \n",
    "#  Note that it should not have any tags (such as '<title>' included in it).\n",
    "\n",
    "# YOUR CODE HERE\n",
    "title_page = soup.title.string\n",
    "#title_page\n",
    "#raise NotImplementedError()"
   ]
  },
  {
   "cell_type": "code",
   "execution_count": 152,
   "metadata": {
    "collapsed": true,
    "deletable": false,
    "editable": false,
    "nbgrader": {
     "checksum": "0ccf61e856e952c8a889f6c03f334321",
     "grade": true,
     "grade_id": "cell-25e2c00e1488f142",
     "locked": true,
     "points": 0.5,
     "schema_version": 1,
     "solution": false
    }
   },
   "outputs": [],
   "source": [
    "assert title_page\n",
    "assert isinstance(title_page, str)\n"
   ]
  },
  {
   "cell_type": "code",
   "execution_count": 153,
   "metadata": {
    "collapsed": true,
    "deletable": false,
    "nbgrader": {
     "checksum": "915ab52cbc25de35a1bd5b74bdb1ec95",
     "grade": false,
     "grade_id": "cell-8da7172c1da665fe",
     "locked": false,
     "schema_version": 1,
     "solution": true
    }
   },
   "outputs": [],
   "source": [
    "# 1c) Extracting Tables\n",
    "\n",
    "# In order to extract the data we want, we'll start with extracting a data table of interest. \n",
    "#  Note that you can see this table by going to look at the link we scraped.\n",
    "# Use the soup object and call a method called find, which will and extract the first table in scraped webpage. \n",
    "#  Note: you need to search for the name 'table', and set the 'class_' argument as 'wikitable sortable'.\n",
    "\n",
    "# YOUR CODE HERE\n",
    "right_table = soup.find('table')\n",
    "#right_table\n",
    "#raise NotImplementedError()"
   ]
  },
  {
   "cell_type": "code",
   "execution_count": 154,
   "metadata": {
    "collapsed": true,
    "deletable": false,
    "editable": false,
    "nbgrader": {
     "checksum": "410073a57bc12f34587a7795bbbd852b",
     "grade": true,
     "grade_id": "cell-6a079fac89c3332c",
     "locked": true,
     "points": 0.5,
     "schema_version": 1,
     "solution": false
    }
   },
   "outputs": [],
   "source": [
    "assert right_table\n",
    "assert isinstance(right_table, bs4.element.Tag)\n",
    "assert right_table.name == 'table'"
   ]
  },
  {
   "cell_type": "code",
   "execution_count": 155,
   "metadata": {
    "collapsed": true,
    "deletable": false,
    "editable": false,
    "nbgrader": {
     "checksum": "c2d4694252bd5b0f9d973cedba0946e8",
     "grade": false,
     "grade_id": "cell-6219dfad1bd6ba7b",
     "locked": true,
     "schema_version": 1,
     "solution": false
    }
   },
   "outputs": [],
   "source": [
    "# Extract the data from the table into lists.\n",
    "#  Note: This code provided for you. Do read through it and try to see how it works.\n",
    "\n",
    "lst_a, lst_b, lst_c = [], [], []\n",
    "\n",
    "for row in right_table.findAll('tr'):\n",
    "    \n",
    "    cells = row.findAll('td')\n",
    "    \n",
    "    # Skips rows that aren't 10 columns long (like the heading)\n",
    "    if len(cells) != 10:\n",
    "        continue\n",
    "\n",
    "    # This catches when the name cells stops having a link\n",
    "    #  and ends, skipping the last (summary rows)\n",
    "    try:\n",
    "        lst_a.append(cells[2].find('a').text)\n",
    "        lst_b.append(cells[4].find(text=True))\n",
    "        lst_c.append(cells[5].find(text=True))\n",
    "    except:\n",
    "        break"
   ]
  },
  {
   "cell_type": "code",
   "execution_count": 156,
   "metadata": {
    "deletable": false,
    "nbgrader": {
     "checksum": "4c75c47a485558ac3428c3773830b2ea",
     "grade": false,
     "grade_id": "cell-3b72a498799ef251",
     "locked": false,
     "schema_version": 1,
     "solution": true
    }
   },
   "outputs": [
    {
     "data": {
      "text/html": [
       "<div>\n",
       "<style>\n",
       "    .dataframe thead tr:only-child th {\n",
       "        text-align: right;\n",
       "    }\n",
       "\n",
       "    .dataframe thead th {\n",
       "        text-align: left;\n",
       "    }\n",
       "\n",
       "    .dataframe tbody tr th {\n",
       "        vertical-align: top;\n",
       "    }\n",
       "</style>\n",
       "<table border=\"1\" class=\"dataframe\">\n",
       "  <thead>\n",
       "    <tr style=\"text-align: right;\">\n",
       "      <th></th>\n",
       "      <th>Population Estimate</th>\n",
       "      <th>Census Population</th>\n",
       "    </tr>\n",
       "    <tr>\n",
       "      <th>State</th>\n",
       "      <th></th>\n",
       "      <th></th>\n",
       "    </tr>\n",
       "  </thead>\n",
       "  <tbody>\n",
       "    <tr>\n",
       "      <th>California</th>\n",
       "      <td>39,536,653</td>\n",
       "      <td>37,252,895</td>\n",
       "    </tr>\n",
       "    <tr>\n",
       "      <th>Texas</th>\n",
       "      <td>28,304,596</td>\n",
       "      <td>25,146,105</td>\n",
       "    </tr>\n",
       "    <tr>\n",
       "      <th>Florida</th>\n",
       "      <td>20,984,400</td>\n",
       "      <td>18,804,623</td>\n",
       "    </tr>\n",
       "    <tr>\n",
       "      <th>New York</th>\n",
       "      <td>19,849,399</td>\n",
       "      <td>19,378,087</td>\n",
       "    </tr>\n",
       "    <tr>\n",
       "      <th>Pennsylvania</th>\n",
       "      <td>12,805,537</td>\n",
       "      <td>12,702,887</td>\n",
       "    </tr>\n",
       "    <tr>\n",
       "      <th>Illinois</th>\n",
       "      <td>12,802,023</td>\n",
       "      <td>12,831,549</td>\n",
       "    </tr>\n",
       "    <tr>\n",
       "      <th>Ohio</th>\n",
       "      <td>11,658,609</td>\n",
       "      <td>11,536,725</td>\n",
       "    </tr>\n",
       "    <tr>\n",
       "      <th>Georgia</th>\n",
       "      <td>10,429,379</td>\n",
       "      <td>9,688,681</td>\n",
       "    </tr>\n",
       "    <tr>\n",
       "      <th>North Carolina</th>\n",
       "      <td>10,273,419</td>\n",
       "      <td>9,535,692</td>\n",
       "    </tr>\n",
       "    <tr>\n",
       "      <th>Michigan</th>\n",
       "      <td>9,962,311</td>\n",
       "      <td>9,884,129</td>\n",
       "    </tr>\n",
       "    <tr>\n",
       "      <th>New Jersey</th>\n",
       "      <td>9,005,644</td>\n",
       "      <td>8,791,936</td>\n",
       "    </tr>\n",
       "    <tr>\n",
       "      <th>Virginia</th>\n",
       "      <td>8,470,020</td>\n",
       "      <td>8,001,045</td>\n",
       "    </tr>\n",
       "    <tr>\n",
       "      <th>Washington</th>\n",
       "      <td>7,405,743</td>\n",
       "      <td>6,724,543</td>\n",
       "    </tr>\n",
       "    <tr>\n",
       "      <th>Arizona</th>\n",
       "      <td>7,016,270</td>\n",
       "      <td>6,392,307</td>\n",
       "    </tr>\n",
       "    <tr>\n",
       "      <th>Massachusetts</th>\n",
       "      <td>6,859,819</td>\n",
       "      <td>6,547,817</td>\n",
       "    </tr>\n",
       "    <tr>\n",
       "      <th>Tennessee</th>\n",
       "      <td>6,715,984</td>\n",
       "      <td>6,346,275</td>\n",
       "    </tr>\n",
       "    <tr>\n",
       "      <th>Indiana</th>\n",
       "      <td>6,666,818</td>\n",
       "      <td>6,484,229</td>\n",
       "    </tr>\n",
       "    <tr>\n",
       "      <th>Missouri</th>\n",
       "      <td>6,113,532</td>\n",
       "      <td>5,988,927</td>\n",
       "    </tr>\n",
       "    <tr>\n",
       "      <th>Maryland</th>\n",
       "      <td>6,052,177</td>\n",
       "      <td>5,773,785</td>\n",
       "    </tr>\n",
       "    <tr>\n",
       "      <th>Wisconsin</th>\n",
       "      <td>5,795,483</td>\n",
       "      <td>5,687,289</td>\n",
       "    </tr>\n",
       "    <tr>\n",
       "      <th>Colorado</th>\n",
       "      <td>5,607,154</td>\n",
       "      <td>5,029,324</td>\n",
       "    </tr>\n",
       "    <tr>\n",
       "      <th>Minnesota</th>\n",
       "      <td>5,576,606</td>\n",
       "      <td>5,303,925</td>\n",
       "    </tr>\n",
       "    <tr>\n",
       "      <th>South Carolina</th>\n",
       "      <td>5,024,369</td>\n",
       "      <td>4,625,401</td>\n",
       "    </tr>\n",
       "    <tr>\n",
       "      <th>Alabama</th>\n",
       "      <td>4,874,747</td>\n",
       "      <td>4,780,127</td>\n",
       "    </tr>\n",
       "    <tr>\n",
       "      <th>Louisiana</th>\n",
       "      <td>4,684,333</td>\n",
       "      <td>4,533,479</td>\n",
       "    </tr>\n",
       "    <tr>\n",
       "      <th>Kentucky</th>\n",
       "      <td>4,454,189</td>\n",
       "      <td>4,339,349</td>\n",
       "    </tr>\n",
       "    <tr>\n",
       "      <th>Oregon</th>\n",
       "      <td>4,142,776</td>\n",
       "      <td>3,831,073</td>\n",
       "    </tr>\n",
       "    <tr>\n",
       "      <th>Oklahoma</th>\n",
       "      <td>3,930,864</td>\n",
       "      <td>3,751,616</td>\n",
       "    </tr>\n",
       "    <tr>\n",
       "      <th>Connecticut</th>\n",
       "      <td>3,588,184</td>\n",
       "      <td>3,574,118</td>\n",
       "    </tr>\n",
       "    <tr>\n",
       "      <th>Puerto Rico</th>\n",
       "      <td>3,337,177</td>\n",
       "      <td>3,726,157</td>\n",
       "    </tr>\n",
       "    <tr>\n",
       "      <th>...</th>\n",
       "      <td>...</td>\n",
       "      <td>...</td>\n",
       "    </tr>\n",
       "    <tr>\n",
       "      <th>West Virginia</th>\n",
       "      <td>1,815,857</td>\n",
       "      <td>1,853,011</td>\n",
       "    </tr>\n",
       "    <tr>\n",
       "      <th>Idaho</th>\n",
       "      <td>1,716,943</td>\n",
       "      <td>1,567,652</td>\n",
       "    </tr>\n",
       "    <tr>\n",
       "      <th>Hawaii</th>\n",
       "      <td>1,427,538</td>\n",
       "      <td>1,360,301</td>\n",
       "    </tr>\n",
       "    <tr>\n",
       "      <th>New Hampshire</th>\n",
       "      <td>1,342,795</td>\n",
       "      <td>1,316,466</td>\n",
       "    </tr>\n",
       "    <tr>\n",
       "      <th>Maine</th>\n",
       "      <td>1,335,907</td>\n",
       "      <td>1,328,361</td>\n",
       "    </tr>\n",
       "    <tr>\n",
       "      <th>Rhode Island</th>\n",
       "      <td>1,059,639</td>\n",
       "      <td>1,052,931</td>\n",
       "    </tr>\n",
       "    <tr>\n",
       "      <th>Montana</th>\n",
       "      <td>1,050,493</td>\n",
       "      <td>989,417</td>\n",
       "    </tr>\n",
       "    <tr>\n",
       "      <th>Delaware</th>\n",
       "      <td>961,939</td>\n",
       "      <td>897,936</td>\n",
       "    </tr>\n",
       "    <tr>\n",
       "      <th>South Dakota</th>\n",
       "      <td>869,666</td>\n",
       "      <td>814,191</td>\n",
       "    </tr>\n",
       "    <tr>\n",
       "      <th>North Dakota</th>\n",
       "      <td>755,393</td>\n",
       "      <td>672,591</td>\n",
       "    </tr>\n",
       "    <tr>\n",
       "      <th>Alaska</th>\n",
       "      <td>739,795</td>\n",
       "      <td>710,249</td>\n",
       "    </tr>\n",
       "    <tr>\n",
       "      <th>District of Columbia</th>\n",
       "      <td>693,972</td>\n",
       "      <td>601,767</td>\n",
       "    </tr>\n",
       "    <tr>\n",
       "      <th>Vermont</th>\n",
       "      <td>623,657</td>\n",
       "      <td>625,745</td>\n",
       "    </tr>\n",
       "    <tr>\n",
       "      <th>Wyoming</th>\n",
       "      <td>579,315</td>\n",
       "      <td>563,767</td>\n",
       "    </tr>\n",
       "    <tr>\n",
       "      <th>Guam</th>\n",
       "      <td>167,358</td>\n",
       "      <td>159,358</td>\n",
       "    </tr>\n",
       "    <tr>\n",
       "      <th>U.S. Virgin Islands</th>\n",
       "      <td>107,268</td>\n",
       "      <td>106,405</td>\n",
       "    </tr>\n",
       "    <tr>\n",
       "      <th>American Samoa</th>\n",
       "      <td>51,504</td>\n",
       "      <td>55,519</td>\n",
       "    </tr>\n",
       "    <tr>\n",
       "      <th>Northern Mariana Islands</th>\n",
       "      <td>52,263</td>\n",
       "      <td>53,883</td>\n",
       "    </tr>\n",
       "    <tr>\n",
       "      <th>Midway Atoll</th>\n",
       "      <td>40</td>\n",
       "      <td>2,220</td>\n",
       "    </tr>\n",
       "    <tr>\n",
       "      <th>Johnston Atoll</th>\n",
       "      <td>0</td>\n",
       "      <td>1,100</td>\n",
       "    </tr>\n",
       "    <tr>\n",
       "      <th>Wake Island</th>\n",
       "      <td>150</td>\n",
       "      <td>382</td>\n",
       "    </tr>\n",
       "    <tr>\n",
       "      <th>Palmyra Atoll</th>\n",
       "      <td>20</td>\n",
       "      <td>20</td>\n",
       "    </tr>\n",
       "    <tr>\n",
       "      <th>Baker Island</th>\n",
       "      <td>—</td>\n",
       "      <td>—</td>\n",
       "    </tr>\n",
       "    <tr>\n",
       "      <th>Howland Island</th>\n",
       "      <td>0</td>\n",
       "      <td>—</td>\n",
       "    </tr>\n",
       "    <tr>\n",
       "      <th>Jarvis Island</th>\n",
       "      <td>0</td>\n",
       "      <td>—</td>\n",
       "    </tr>\n",
       "    <tr>\n",
       "      <th>Kingman Reef</th>\n",
       "      <td>0</td>\n",
       "      <td>—</td>\n",
       "    </tr>\n",
       "    <tr>\n",
       "      <th>Navassa Island</th>\n",
       "      <td>0</td>\n",
       "      <td>—</td>\n",
       "    </tr>\n",
       "    <tr>\n",
       "      <th>Serranilla Bank</th>\n",
       "      <td>—</td>\n",
       "      <td>—</td>\n",
       "    </tr>\n",
       "    <tr>\n",
       "      <th>Bajo Nuevo Bank</th>\n",
       "      <td>—</td>\n",
       "      <td>—</td>\n",
       "    </tr>\n",
       "    <tr>\n",
       "      <th>Contiguous United States</th>\n",
       "      <td>323,551,845</td>\n",
       "      <td>306,687,555</td>\n",
       "    </tr>\n",
       "  </tbody>\n",
       "</table>\n",
       "<p>68 rows × 2 columns</p>\n",
       "</div>"
      ],
      "text/plain": [
       "                         Population Estimate Census Population\n",
       "State                                                         \n",
       "California                        39,536,653        37,252,895\n",
       "Texas                             28,304,596        25,146,105\n",
       "Florida                           20,984,400        18,804,623\n",
       "New York                          19,849,399        19,378,087\n",
       "Pennsylvania                      12,805,537        12,702,887\n",
       "Illinois                          12,802,023        12,831,549\n",
       "Ohio                              11,658,609        11,536,725\n",
       "Georgia                           10,429,379         9,688,681\n",
       "North Carolina                    10,273,419         9,535,692\n",
       "Michigan                           9,962,311         9,884,129\n",
       "New Jersey                         9,005,644         8,791,936\n",
       "Virginia                           8,470,020         8,001,045\n",
       "Washington                         7,405,743         6,724,543\n",
       "Arizona                            7,016,270         6,392,307\n",
       "Massachusetts                      6,859,819         6,547,817\n",
       "Tennessee                          6,715,984         6,346,275\n",
       "Indiana                            6,666,818         6,484,229\n",
       "Missouri                           6,113,532         5,988,927\n",
       "Maryland                           6,052,177         5,773,785\n",
       "Wisconsin                          5,795,483         5,687,289\n",
       "Colorado                           5,607,154         5,029,324\n",
       "Minnesota                          5,576,606         5,303,925\n",
       "South Carolina                     5,024,369         4,625,401\n",
       "Alabama                            4,874,747         4,780,127\n",
       "Louisiana                          4,684,333         4,533,479\n",
       "Kentucky                           4,454,189         4,339,349\n",
       "Oregon                             4,142,776         3,831,073\n",
       "Oklahoma                           3,930,864         3,751,616\n",
       "Connecticut                        3,588,184         3,574,118\n",
       "Puerto Rico                        3,337,177         3,726,157\n",
       "...                                      ...               ...\n",
       "West Virginia                      1,815,857         1,853,011\n",
       "Idaho                              1,716,943         1,567,652\n",
       "Hawaii                             1,427,538         1,360,301\n",
       "New Hampshire                      1,342,795         1,316,466\n",
       "Maine                              1,335,907         1,328,361\n",
       "Rhode Island                       1,059,639         1,052,931\n",
       "Montana                            1,050,493           989,417\n",
       "Delaware                             961,939           897,936\n",
       "South Dakota                         869,666           814,191\n",
       "North Dakota                         755,393           672,591\n",
       "Alaska                               739,795           710,249\n",
       "District of Columbia                 693,972           601,767\n",
       "Vermont                              623,657           625,745\n",
       "Wyoming                              579,315           563,767\n",
       "Guam                                 167,358           159,358\n",
       "U.S. Virgin Islands                  107,268           106,405\n",
       "American Samoa                        51,504            55,519\n",
       "Northern Mariana Islands              52,263            53,883\n",
       "Midway Atoll                              40             2,220\n",
       "Johnston Atoll                             0             1,100\n",
       "Wake Island                              150               382\n",
       "Palmyra Atoll                             20                20\n",
       "Baker Island                               —                 —\n",
       "Howland Island                             0                 —\n",
       "Jarvis Island                              0                 —\n",
       "Kingman Reef                               0                 —\n",
       "Navassa Island                             0                 —\n",
       "Serranilla Bank                            —                 —\n",
       "Bajo Nuevo Bank                            —                 —\n",
       "Contiguous United States         323,551,845       306,687,555\n",
       "\n",
       "[68 rows x 2 columns]"
      ]
     },
     "execution_count": 156,
     "metadata": {},
     "output_type": "execute_result"
    }
   ],
   "source": [
    "# 1d) Collecting into a dataframe\n",
    "\n",
    "# Create a dataframe 'my_df' and add the data from the lists above to it. \n",
    "#  'lst_a' is the state or territory name. Set the column name as 'State', and make this the index\n",
    "#  'lst_b' is the population estimate. Add it to the dataframe, and set the column name as 'Population Estimate'\n",
    "#  'lst_c' is the census population. Add it to the dataframe, and set the column name as 'Census Population'\n",
    "\n",
    "# YOUR CODE HERE\n",
    "#my_df = pd.DataFrame({'State': lst_a,\n",
    "#                      'Population Estimate': lst_b,\n",
    "#                      'Census Population': lst_c})\n",
    "my_df = pd.DataFrame()\n",
    "my_df['State'] = lst_a\n",
    "my_df['Population Estimate'] = lst_b\n",
    "my_df['Census Population'] = lst_c\n",
    "\n",
    "my_df.set_index('State', inplace=True)\n",
    "my_df\n",
    "\n",
    "#raise NotImplementedError()"
   ]
  },
  {
   "cell_type": "code",
   "execution_count": 157,
   "metadata": {
    "deletable": false,
    "editable": false,
    "nbgrader": {
     "checksum": "2513c3a8257e82e2789c4709dbf70488",
     "grade": true,
     "grade_id": "cell-406fc7a4b3d93852",
     "locked": true,
     "points": 0.5,
     "schema_version": 1,
     "solution": false
    }
   },
   "outputs": [],
   "source": [
    "assert isinstance (my_df, pd.DataFrame)\n",
    "assert my_df.index.name == 'State'\n",
    "assert list(my_df.columns) == ['Population Estimate', 'Census Population']\n"
   ]
  },
  {
   "cell_type": "code",
   "execution_count": 158,
   "metadata": {
    "deletable": false,
    "nbgrader": {
     "checksum": "04bb731afd119f67f7b280a0c684420b",
     "grade": false,
     "grade_id": "cell-552f1cceb6530fef",
     "locked": false,
     "schema_version": 1,
     "solution": true
    }
   },
   "outputs": [],
   "source": [
    "# 1e) Using the data\n",
    "# What is the Population Estimate of California? Save this answer to a variable called 'calif_pop'\n",
    "# Notes:\n",
    "#  Extract this value programmatically from your dataframe (as in, don't set it explicitly, as 'cf = 123')\n",
    "#    You can use '.loc' to extract a particular value from a dataframe.\n",
    "#  The data in your dataframe will be strings - that's fine, leave them as strings (don't typecast).\n",
    "\n",
    "# YOUR CODE HERE\n",
    "calif_pop = my_df.loc['California', 'Population Estimate']\n",
    "#calif_pop\n",
    "#raise NotImplementedError()"
   ]
  },
  {
   "cell_type": "code",
   "execution_count": 159,
   "metadata": {
    "collapsed": true,
    "deletable": false,
    "editable": false,
    "nbgrader": {
     "checksum": "21a3ae96ee9a898e0e1cba4371c9dd11",
     "grade": true,
     "grade_id": "cell-00910bf76609b48e",
     "locked": true,
     "points": 0.5,
     "schema_version": 1,
     "solution": false
    }
   },
   "outputs": [],
   "source": [
    "assert calif_pop\n"
   ]
  },
  {
   "cell_type": "markdown",
   "metadata": {
    "deletable": false,
    "editable": false,
    "nbgrader": {
     "checksum": "486c6798edf0e518657ce5e65244601c",
     "grade": false,
     "grade_id": "p1-title",
     "locked": true,
     "schema_version": 1,
     "solution": false
    }
   },
   "source": [
    "## Part 2: Identifying Data"
   ]
  },
  {
   "cell_type": "markdown",
   "metadata": {
    "deletable": false,
    "editable": false,
    "nbgrader": {
     "checksum": "4296e9303d0b9997e5919024b4dc1734",
     "grade": false,
     "grade_id": "p1-desc",
     "locked": true,
     "schema_version": 1,
     "solution": false
    }
   },
   "source": [
    "Data Files:\n",
    "- anon_user_dat.json\n",
    "- employee_info.json\n",
    "\n",
    "You will first be working with a file called 'anon_user_dat.json'. This file that contains information about some (fake) Tinder users. When creating an account, each Tinder user was asked to provide their first name, last name, work email (to verify the disclosed workplace), age, gender, phone # and zip code. Before releasing this data, a data scientist cleaned the data to protect the privacy of Tinder's users by removing the obvious personal identifiers: phone #, zip code, and IP address. However, the data scientist chose to keep each users' email addresses because when they visually skimmed a couple of the email addresses none of them seemed to have any of the user's actual names in them. This is where the data scientist made a huge mistake!\n",
    "\n",
    "We will take advantage of having the work email addresses by finding the employee information of different companies and matching that employee information with the information we have, in order to identify the names of the secret Tinder users!"
   ]
  },
  {
   "cell_type": "code",
   "execution_count": 160,
   "metadata": {
    "collapsed": true,
    "deletable": false,
    "nbgrader": {
     "checksum": "4cc07f1511b85ba053b9bbc64f9b49c6",
     "grade": false,
     "grade_id": "1a",
     "locked": false,
     "schema_version": 1,
     "solution": true
    }
   },
   "outputs": [],
   "source": [
    "# 2a) Load in the 'cleaned' data \n",
    "\n",
    "# Load the json file into a pandas dataframe. Call it 'df_personal'.\n",
    "\n",
    "# YOUR CODE HERE\n",
    "df_personal = pd.read_json('anon_user_dat.json')\n",
    "#raise NotImplementedError()"
   ]
  },
  {
   "cell_type": "code",
   "execution_count": 161,
   "metadata": {
    "collapsed": true,
    "deletable": false,
    "editable": false,
    "nbgrader": {
     "checksum": "61909bf161ee3e26eaca9c2f1a52fd41",
     "grade": true,
     "grade_id": "1a-tests",
     "locked": true,
     "points": 0.5,
     "schema_version": 1,
     "solution": false
    }
   },
   "outputs": [],
   "source": [
    "assert isinstance(df_personal, pd.DataFrame)\n"
   ]
  },
  {
   "cell_type": "code",
   "execution_count": 162,
   "metadata": {
    "deletable": false,
    "nbgrader": {
     "checksum": "7fb39c47226cd7f94cc245d51747b746",
     "grade": false,
     "grade_id": "1b",
     "locked": false,
     "schema_version": 1,
     "solution": true
    }
   },
   "outputs": [],
   "source": [
    "# 2b) Check the first 10 emails \n",
    "\n",
    "# Save the first 10 emails to a Series, and call it 'sample_emails'. \n",
    "# You should then and print out this Series. \n",
    "# The purpose of this is to get a sense of how these work emails are structured\n",
    "#   and how we could possibly extract where each anonymous user seems to work.\n",
    "\n",
    "# YOUR CODE HERE\n",
    "s = []\n",
    "for i in range(10):\n",
    "    s.append(df_personal.email[i])\n",
    "sample_emails = pd.Series(s)\n",
    "#sample_emails\n",
    "#raise NotImplementedError()"
   ]
  },
  {
   "cell_type": "code",
   "execution_count": 163,
   "metadata": {
    "deletable": false,
    "editable": false,
    "nbgrader": {
     "checksum": "e5d7c945a4d2cc76ba068baf15641d43",
     "grade": true,
     "grade_id": "1b-tests",
     "locked": true,
     "points": 0.5,
     "schema_version": 1,
     "solution": false
    }
   },
   "outputs": [],
   "source": [
    "assert isinstance(sample_emails, pd.Series)\n"
   ]
  },
  {
   "cell_type": "code",
   "execution_count": 164,
   "metadata": {
    "deletable": false,
    "nbgrader": {
     "checksum": "b61be355079651582175dccbace705a5",
     "grade": false,
     "grade_id": "1c",
     "locked": false,
     "schema_version": 1,
     "solution": true
    }
   },
   "outputs": [],
   "source": [
    "# 2c) Extract the Company Name From the Email \n",
    "\n",
    "# Create a function with the following specifications:\n",
    "#   Function Name: extract_company\n",
    "#   Purpose: to extract the company of the email \n",
    "#          (i.e., everything after the @ sign but before the .)\n",
    "#   Parameter(s): email (string)\n",
    "#   Returns: The extracted part of the email (string)\n",
    "#   Hint: This should take 1 line of code. Look into the find('') method. \n",
    "#\n",
    "# You can start with this outline:\n",
    "#   def extract_company(email):\n",
    "#      return \n",
    "#\n",
    "# Example Usage: \n",
    "#   extract_company(\"larhe@uber.com\") should return \"uber\"\n",
    "#   extract_company(“ds@cogs.edu”) should return “cogs”\n",
    "\n",
    "\n",
    "# YOUR CODE HERE\n",
    "#s=\"larhe@uber.com\"\n",
    "#start = s.find('@')+1\n",
    "#end = s.find('.')\n",
    "#temp = s[start:end]\n",
    "#temp\n",
    "\n",
    "def extract_company(x):\n",
    "    start = x.find('@')+1\n",
    "    end = x.find('.')\n",
    "    temp = x[start:end]\n",
    "    return temp\n",
    "    \n",
    "\n",
    "#raise NotImplementedError()"
   ]
  },
  {
   "cell_type": "code",
   "execution_count": 165,
   "metadata": {
    "collapsed": true,
    "deletable": false,
    "editable": false,
    "nbgrader": {
     "checksum": "06225023bd1fad52a5f8e084753af2fb",
     "grade": true,
     "grade_id": "1c-tests",
     "locked": true,
     "points": 1,
     "schema_version": 1,
     "solution": false
    }
   },
   "outputs": [],
   "source": [
    "assert extract_company(\"gshoreson0@seattletimes.com\") == \"seattletimes\"\n"
   ]
  },
  {
   "cell_type": "markdown",
   "metadata": {
    "deletable": false,
    "editable": false,
    "nbgrader": {
     "checksum": "2ef7d9e3ecb79343b5b35d3aa70891a8",
     "grade": false,
     "grade_id": "info",
     "locked": true,
     "schema_version": 1,
     "solution": false
    }
   },
   "source": [
    "With a little bit of basic sleuthing (aka googling) and web-scraping (aka selectively reading in html code) it turns out that you've been able to collect information about all the present employees/interns of the companies you are interested in. Specifically, on each company website, you have found the name, gender, and age of its employees. You have saved that info in employee_info.json and plan to see if, using this new information, you can match the Tinder accounts to actual names."
   ]
  },
  {
   "cell_type": "code",
   "execution_count": 166,
   "metadata": {
    "collapsed": true,
    "deletable": false,
    "nbgrader": {
     "checksum": "ad3fb36e40e8bb9b629a4d6830c71729",
     "grade": false,
     "grade_id": "1d",
     "locked": false,
     "schema_version": 1,
     "solution": true
    }
   },
   "outputs": [],
   "source": [
    "# 2d) Load in employee data \n",
    "\n",
    "# Load the json file into a pandas dataframe. Call it 'df_employee'.\n",
    "\n",
    "# YOUR CODE HERE\n",
    "#df=df_employee.loc[(df_employee['company'] == company) & (condition2) & (condition3)]\n",
    "#first_name = list(df['first_name'])\n",
    "df_employee = pd.read_json('employee_info.json')\n",
    "\n",
    "#raise NotImplementedError()"
   ]
  },
  {
   "cell_type": "code",
   "execution_count": 168,
   "metadata": {
    "collapsed": true,
    "deletable": false,
    "editable": false,
    "nbgrader": {
     "checksum": "cd93c56e6879c7b8b50c7317bd3e1246",
     "grade": true,
     "grade_id": "1d-tests",
     "locked": true,
     "points": 0.5,
     "schema_version": 1,
     "solution": false
    }
   },
   "outputs": [],
   "source": [
    "assert isinstance(df_employee, pd.DataFrame)\n"
   ]
  },
  {
   "cell_type": "code",
   "execution_count": 203,
   "metadata": {
    "deletable": false,
    "nbgrader": {
     "checksum": "fc07ea1ae1be13b991d48f428cac7b37",
     "grade": false,
     "grade_id": "1e",
     "locked": false,
     "schema_version": 1,
     "solution": true
    }
   },
   "outputs": [
    {
     "data": {
      "text/html": [
       "<div>\n",
       "<style>\n",
       "    .dataframe thead tr:only-child th {\n",
       "        text-align: right;\n",
       "    }\n",
       "\n",
       "    .dataframe thead th {\n",
       "        text-align: left;\n",
       "    }\n",
       "\n",
       "    .dataframe tbody tr th {\n",
       "        vertical-align: top;\n",
       "    }\n",
       "</style>\n",
       "<table border=\"1\" class=\"dataframe\">\n",
       "  <thead>\n",
       "    <tr style=\"text-align: right;\">\n",
       "      <th></th>\n",
       "      <th>age</th>\n",
       "      <th>email</th>\n",
       "      <th>gender</th>\n",
       "    </tr>\n",
       "  </thead>\n",
       "  <tbody>\n",
       "    <tr>\n",
       "      <th>0</th>\n",
       "      <td>60</td>\n",
       "      <td>gshoreson0@seattletimes.com</td>\n",
       "      <td>Male</td>\n",
       "    </tr>\n",
       "    <tr>\n",
       "      <th>1</th>\n",
       "      <td>47</td>\n",
       "      <td>eweaben1@salon.com</td>\n",
       "      <td>Female</td>\n",
       "    </tr>\n",
       "    <tr>\n",
       "      <th>2</th>\n",
       "      <td>27</td>\n",
       "      <td>akillerby2@gravatar.com</td>\n",
       "      <td>Male</td>\n",
       "    </tr>\n",
       "    <tr>\n",
       "      <th>3</th>\n",
       "      <td>46</td>\n",
       "      <td>gsainz3@zdnet.com</td>\n",
       "      <td>Male</td>\n",
       "    </tr>\n",
       "    <tr>\n",
       "      <th>4</th>\n",
       "      <td>72</td>\n",
       "      <td>bdanilewicz4@4shared.com</td>\n",
       "      <td>Male</td>\n",
       "    </tr>\n",
       "    <tr>\n",
       "      <th>5</th>\n",
       "      <td>46</td>\n",
       "      <td>sdeerness5@wikispaces.com</td>\n",
       "      <td>Female</td>\n",
       "    </tr>\n",
       "    <tr>\n",
       "      <th>6</th>\n",
       "      <td>53</td>\n",
       "      <td>jstillwell6@ustream.tv</td>\n",
       "      <td>Female</td>\n",
       "    </tr>\n",
       "    <tr>\n",
       "      <th>7</th>\n",
       "      <td>29</td>\n",
       "      <td>mpriestland7@opera.com</td>\n",
       "      <td>Male</td>\n",
       "    </tr>\n",
       "    <tr>\n",
       "      <th>8</th>\n",
       "      <td>39</td>\n",
       "      <td>nerickssen8@hatena.ne.jp</td>\n",
       "      <td>Female</td>\n",
       "    </tr>\n",
       "    <tr>\n",
       "      <th>9</th>\n",
       "      <td>45</td>\n",
       "      <td>hparsell9@xing.com</td>\n",
       "      <td>Male</td>\n",
       "    </tr>\n",
       "    <tr>\n",
       "      <th>10</th>\n",
       "      <td>26</td>\n",
       "      <td>acopasa@fda.gov</td>\n",
       "      <td>Male</td>\n",
       "    </tr>\n",
       "    <tr>\n",
       "      <th>11</th>\n",
       "      <td>83</td>\n",
       "      <td>bdanielovitchb@jigsy.com</td>\n",
       "      <td>Male</td>\n",
       "    </tr>\n",
       "    <tr>\n",
       "      <th>12</th>\n",
       "      <td>73</td>\n",
       "      <td>cwestbergc@psu.edu</td>\n",
       "      <td>Female</td>\n",
       "    </tr>\n",
       "    <tr>\n",
       "      <th>13</th>\n",
       "      <td>30</td>\n",
       "      <td>jlarived@goodreads.com</td>\n",
       "      <td>Female</td>\n",
       "    </tr>\n",
       "    <tr>\n",
       "      <th>14</th>\n",
       "      <td>69</td>\n",
       "      <td>mchallisse@ning.com</td>\n",
       "      <td>Female</td>\n",
       "    </tr>\n",
       "    <tr>\n",
       "      <th>15</th>\n",
       "      <td>29</td>\n",
       "      <td>cbrognotf@ebay.co.uk</td>\n",
       "      <td>Male</td>\n",
       "    </tr>\n",
       "    <tr>\n",
       "      <th>16</th>\n",
       "      <td>45</td>\n",
       "      <td>aphearg@tumblr.com</td>\n",
       "      <td>Male</td>\n",
       "    </tr>\n",
       "    <tr>\n",
       "      <th>17</th>\n",
       "      <td>3</td>\n",
       "      <td>askogginsh@jugem.jp</td>\n",
       "      <td>Female</td>\n",
       "    </tr>\n",
       "    <tr>\n",
       "      <th>18</th>\n",
       "      <td>34</td>\n",
       "      <td>eondraseki@deviantart.com</td>\n",
       "      <td>Female</td>\n",
       "    </tr>\n",
       "    <tr>\n",
       "      <th>19</th>\n",
       "      <td>37</td>\n",
       "      <td>kcaswallj@is.gd</td>\n",
       "      <td>Female</td>\n",
       "    </tr>\n",
       "    <tr>\n",
       "      <th>20</th>\n",
       "      <td>53</td>\n",
       "      <td>cpetrillok@cbsnews.com</td>\n",
       "      <td>Male</td>\n",
       "    </tr>\n",
       "    <tr>\n",
       "      <th>21</th>\n",
       "      <td>58</td>\n",
       "      <td>bstratfordl@ted.com</td>\n",
       "      <td>Female</td>\n",
       "    </tr>\n",
       "    <tr>\n",
       "      <th>22</th>\n",
       "      <td>83</td>\n",
       "      <td>mandreichikm@shareasale.com</td>\n",
       "      <td>Male</td>\n",
       "    </tr>\n",
       "    <tr>\n",
       "      <th>23</th>\n",
       "      <td>47</td>\n",
       "      <td>jsegarn@sfgate.com</td>\n",
       "      <td>Male</td>\n",
       "    </tr>\n",
       "    <tr>\n",
       "      <th>24</th>\n",
       "      <td>51</td>\n",
       "      <td>aurridgeo@purevolume.com</td>\n",
       "      <td>Male</td>\n",
       "    </tr>\n",
       "    <tr>\n",
       "      <th>25</th>\n",
       "      <td>65</td>\n",
       "      <td>njandap@ebay.com</td>\n",
       "      <td>Male</td>\n",
       "    </tr>\n",
       "    <tr>\n",
       "      <th>26</th>\n",
       "      <td>26</td>\n",
       "      <td>lwathallq@exblog.jp</td>\n",
       "      <td>Female</td>\n",
       "    </tr>\n",
       "    <tr>\n",
       "      <th>27</th>\n",
       "      <td>57</td>\n",
       "      <td>aoveringtonr@canalblog.com</td>\n",
       "      <td>Female</td>\n",
       "    </tr>\n",
       "    <tr>\n",
       "      <th>28</th>\n",
       "      <td>39</td>\n",
       "      <td>dbrellins@ft.com</td>\n",
       "      <td>Female</td>\n",
       "    </tr>\n",
       "    <tr>\n",
       "      <th>29</th>\n",
       "      <td>26</td>\n",
       "      <td>ebukact@toplist.cz</td>\n",
       "      <td>Female</td>\n",
       "    </tr>\n",
       "    <tr>\n",
       "      <th>...</th>\n",
       "      <td>...</td>\n",
       "      <td>...</td>\n",
       "      <td>...</td>\n",
       "    </tr>\n",
       "    <tr>\n",
       "      <th>970</th>\n",
       "      <td>47</td>\n",
       "      <td>dsessionsqy@sakura.ne.jp</td>\n",
       "      <td>Female</td>\n",
       "    </tr>\n",
       "    <tr>\n",
       "      <th>971</th>\n",
       "      <td>25</td>\n",
       "      <td>vkondratenkoqz@cornell.edu</td>\n",
       "      <td>Male</td>\n",
       "    </tr>\n",
       "    <tr>\n",
       "      <th>972</th>\n",
       "      <td>43</td>\n",
       "      <td>tbrethertonr0@lycos.com</td>\n",
       "      <td>Female</td>\n",
       "    </tr>\n",
       "    <tr>\n",
       "      <th>973</th>\n",
       "      <td>65</td>\n",
       "      <td>srenfrewr1@shinystat.com</td>\n",
       "      <td>Female</td>\n",
       "    </tr>\n",
       "    <tr>\n",
       "      <th>974</th>\n",
       "      <td>47</td>\n",
       "      <td>jjoiceyr2@theatlantic.com</td>\n",
       "      <td>Male</td>\n",
       "    </tr>\n",
       "    <tr>\n",
       "      <th>975</th>\n",
       "      <td>20</td>\n",
       "      <td>bborleacer3@naver.com</td>\n",
       "      <td>Male</td>\n",
       "    </tr>\n",
       "    <tr>\n",
       "      <th>976</th>\n",
       "      <td>33</td>\n",
       "      <td>lmackeer4@reference.com</td>\n",
       "      <td>Female</td>\n",
       "    </tr>\n",
       "    <tr>\n",
       "      <th>977</th>\n",
       "      <td>37</td>\n",
       "      <td>mpaolicchir5@utexas.edu</td>\n",
       "      <td>Female</td>\n",
       "    </tr>\n",
       "    <tr>\n",
       "      <th>978</th>\n",
       "      <td>52</td>\n",
       "      <td>lgaliar6@lycos.com</td>\n",
       "      <td>Female</td>\n",
       "    </tr>\n",
       "    <tr>\n",
       "      <th>979</th>\n",
       "      <td>25</td>\n",
       "      <td>ldemcakr7@networksolutions.com</td>\n",
       "      <td>Female</td>\n",
       "    </tr>\n",
       "    <tr>\n",
       "      <th>980</th>\n",
       "      <td>35</td>\n",
       "      <td>ide giorgior8@360.cn</td>\n",
       "      <td>Male</td>\n",
       "    </tr>\n",
       "    <tr>\n",
       "      <th>981</th>\n",
       "      <td>41</td>\n",
       "      <td>mmctrustyr9@jugem.jp</td>\n",
       "      <td>Male</td>\n",
       "    </tr>\n",
       "    <tr>\n",
       "      <th>982</th>\n",
       "      <td>63</td>\n",
       "      <td>ekohnra@amazonaws.com</td>\n",
       "      <td>Male</td>\n",
       "    </tr>\n",
       "    <tr>\n",
       "      <th>983</th>\n",
       "      <td>35</td>\n",
       "      <td>mmillmorerb@hatena.ne.jp</td>\n",
       "      <td>Male</td>\n",
       "    </tr>\n",
       "    <tr>\n",
       "      <th>984</th>\n",
       "      <td>20</td>\n",
       "      <td>lchaudrellerc@soup.io</td>\n",
       "      <td>Male</td>\n",
       "    </tr>\n",
       "    <tr>\n",
       "      <th>985</th>\n",
       "      <td>43</td>\n",
       "      <td>iavramovitzrd@ft.com</td>\n",
       "      <td>Female</td>\n",
       "    </tr>\n",
       "    <tr>\n",
       "      <th>986</th>\n",
       "      <td>32</td>\n",
       "      <td>rreaneyre@canalblog.com</td>\n",
       "      <td>Female</td>\n",
       "    </tr>\n",
       "    <tr>\n",
       "      <th>987</th>\n",
       "      <td>30</td>\n",
       "      <td>sscawnrf@businessinsider.com</td>\n",
       "      <td>Male</td>\n",
       "    </tr>\n",
       "    <tr>\n",
       "      <th>988</th>\n",
       "      <td>48</td>\n",
       "      <td>lharbronrg@slashdot.org</td>\n",
       "      <td>Male</td>\n",
       "    </tr>\n",
       "    <tr>\n",
       "      <th>989</th>\n",
       "      <td>37</td>\n",
       "      <td>pgurnayrh@uiuc.edu</td>\n",
       "      <td>Male</td>\n",
       "    </tr>\n",
       "    <tr>\n",
       "      <th>990</th>\n",
       "      <td>31</td>\n",
       "      <td>ckyngeri@hp.com</td>\n",
       "      <td>Female</td>\n",
       "    </tr>\n",
       "    <tr>\n",
       "      <th>991</th>\n",
       "      <td>55</td>\n",
       "      <td>cboothroydrj@yellowbook.com</td>\n",
       "      <td>None</td>\n",
       "    </tr>\n",
       "    <tr>\n",
       "      <th>992</th>\n",
       "      <td>14</td>\n",
       "      <td>kbrunkerrk@hibu.com</td>\n",
       "      <td>Male</td>\n",
       "    </tr>\n",
       "    <tr>\n",
       "      <th>993</th>\n",
       "      <td>65</td>\n",
       "      <td>sleallerl@wikia.com</td>\n",
       "      <td>Female</td>\n",
       "    </tr>\n",
       "    <tr>\n",
       "      <th>994</th>\n",
       "      <td>38</td>\n",
       "      <td>kbeefonrm@vkontakte.ru</td>\n",
       "      <td>Female</td>\n",
       "    </tr>\n",
       "    <tr>\n",
       "      <th>995</th>\n",
       "      <td>3</td>\n",
       "      <td>pstroulgerrn@time.com</td>\n",
       "      <td>Female</td>\n",
       "    </tr>\n",
       "    <tr>\n",
       "      <th>996</th>\n",
       "      <td>49</td>\n",
       "      <td>kbasnettro@seattletimes.com</td>\n",
       "      <td>Female</td>\n",
       "    </tr>\n",
       "    <tr>\n",
       "      <th>997</th>\n",
       "      <td>75</td>\n",
       "      <td>pmortlockrp@liveinternet.ru</td>\n",
       "      <td>Male</td>\n",
       "    </tr>\n",
       "    <tr>\n",
       "      <th>998</th>\n",
       "      <td>81</td>\n",
       "      <td>sphetterq@toplist.cz</td>\n",
       "      <td>Male</td>\n",
       "    </tr>\n",
       "    <tr>\n",
       "      <th>999</th>\n",
       "      <td>70</td>\n",
       "      <td>jtyresrr@slashdot.org</td>\n",
       "      <td>Male</td>\n",
       "    </tr>\n",
       "  </tbody>\n",
       "</table>\n",
       "<p>1000 rows × 3 columns</p>\n",
       "</div>"
      ],
      "text/plain": [
       "     age                           email  gender\n",
       "0     60     gshoreson0@seattletimes.com    Male\n",
       "1     47              eweaben1@salon.com  Female\n",
       "2     27         akillerby2@gravatar.com    Male\n",
       "3     46               gsainz3@zdnet.com    Male\n",
       "4     72        bdanilewicz4@4shared.com    Male\n",
       "5     46       sdeerness5@wikispaces.com  Female\n",
       "6     53          jstillwell6@ustream.tv  Female\n",
       "7     29          mpriestland7@opera.com    Male\n",
       "8     39        nerickssen8@hatena.ne.jp  Female\n",
       "9     45              hparsell9@xing.com    Male\n",
       "10    26                 acopasa@fda.gov    Male\n",
       "11    83        bdanielovitchb@jigsy.com    Male\n",
       "12    73              cwestbergc@psu.edu  Female\n",
       "13    30          jlarived@goodreads.com  Female\n",
       "14    69             mchallisse@ning.com  Female\n",
       "15    29            cbrognotf@ebay.co.uk    Male\n",
       "16    45              aphearg@tumblr.com    Male\n",
       "17     3             askogginsh@jugem.jp  Female\n",
       "18    34       eondraseki@deviantart.com  Female\n",
       "19    37                 kcaswallj@is.gd  Female\n",
       "20    53          cpetrillok@cbsnews.com    Male\n",
       "21    58             bstratfordl@ted.com  Female\n",
       "22    83     mandreichikm@shareasale.com    Male\n",
       "23    47              jsegarn@sfgate.com    Male\n",
       "24    51        aurridgeo@purevolume.com    Male\n",
       "25    65                njandap@ebay.com    Male\n",
       "26    26             lwathallq@exblog.jp  Female\n",
       "27    57      aoveringtonr@canalblog.com  Female\n",
       "28    39                dbrellins@ft.com  Female\n",
       "29    26              ebukact@toplist.cz  Female\n",
       "..   ...                             ...     ...\n",
       "970   47        dsessionsqy@sakura.ne.jp  Female\n",
       "971   25      vkondratenkoqz@cornell.edu    Male\n",
       "972   43         tbrethertonr0@lycos.com  Female\n",
       "973   65        srenfrewr1@shinystat.com  Female\n",
       "974   47       jjoiceyr2@theatlantic.com    Male\n",
       "975   20           bborleacer3@naver.com    Male\n",
       "976   33         lmackeer4@reference.com  Female\n",
       "977   37         mpaolicchir5@utexas.edu  Female\n",
       "978   52              lgaliar6@lycos.com  Female\n",
       "979   25  ldemcakr7@networksolutions.com  Female\n",
       "980   35            ide giorgior8@360.cn    Male\n",
       "981   41            mmctrustyr9@jugem.jp    Male\n",
       "982   63           ekohnra@amazonaws.com    Male\n",
       "983   35        mmillmorerb@hatena.ne.jp    Male\n",
       "984   20           lchaudrellerc@soup.io    Male\n",
       "985   43            iavramovitzrd@ft.com  Female\n",
       "986   32         rreaneyre@canalblog.com  Female\n",
       "987   30    sscawnrf@businessinsider.com    Male\n",
       "988   48         lharbronrg@slashdot.org    Male\n",
       "989   37              pgurnayrh@uiuc.edu    Male\n",
       "990   31                 ckyngeri@hp.com  Female\n",
       "991   55     cboothroydrj@yellowbook.com    None\n",
       "992   14             kbrunkerrk@hibu.com    Male\n",
       "993   65             sleallerl@wikia.com  Female\n",
       "994   38          kbeefonrm@vkontakte.ru  Female\n",
       "995    3           pstroulgerrn@time.com  Female\n",
       "996   49     kbasnettro@seattletimes.com  Female\n",
       "997   75     pmortlockrp@liveinternet.ru    Male\n",
       "998   81            sphetterq@toplist.cz    Male\n",
       "999   70           jtyresrr@slashdot.org    Male\n",
       "\n",
       "[1000 rows x 3 columns]"
      ]
     },
     "execution_count": 203,
     "metadata": {},
     "output_type": "execute_result"
    }
   ],
   "source": [
    "# 2e) Match the employee name with company, age, gender \n",
    "\n",
    "# Create a function with the following specifications:\n",
    "#   Function name: employee_matcher\n",
    "#   Purpose: to match the employee name with the provided company, age, and gender\n",
    "#   Parameter(s): company (string), age (int), gender (string)\n",
    "#   Returns: The employee first_name and last_name like this: return first_name, last_name \n",
    "#   Note: If there are multiple employees that fit the same description, first_name and \n",
    "#         last_name should return a list of all possible first names and last name\n",
    "#         i.e., ['Desmund', 'Kelby'], ['Shepley', 'Tichner']\n",
    "#\n",
    "# Hint:\n",
    "# There are many different ways to code this.\n",
    "# 1) An unelegant solution is to loop through df_employee \n",
    "#    and for each data item see if the company, age, and gender match\n",
    "#    i.e., for i in range(0, len(df_employee)):\n",
    "#              if (company == df_employee.ix[i,'company']):\n",
    "#\n",
    "# However! The solution above is very inefficient and long, \n",
    "# so you should try to look into this:\n",
    "# 2) Google the df.loc method: It extracts pieces of the dataframe\n",
    "#    if it fulfills a certain condition.\n",
    "#    i.e., df_employee.loc[df_employee['company'] == company]\n",
    "#    If you need to convert your pandas data series into a list,\n",
    "#    you can do list(result) where result is a pandas \"series\"\n",
    "# \n",
    "# You can start with this outline:\n",
    "#   def employee_matcher(company, age, gender):\n",
    "#      return first_name, last_name\n",
    "\n",
    "# YOUR CODE HERE\n",
    "#df=df_employee.loc[(df_employee['company'] == company) & (condition2) & (condition3)]\n",
    "#first_name = list(df['first_name'])\n",
    "#df_employee\n",
    "def employee_matcher(company, age, gender):\n",
    "    df=df_employee.loc[(df_employee['company'] == company) & (df_employee['age'] == age) & (df_employee['gender'] == gender)]\n",
    "    first_name = list(df['first_name'])\n",
    "    last_name = list(df['last_name'])\n",
    "    return first_name, last_name\n",
    "        \n",
    "#df_personal\n",
    "\n",
    "#raise NotImplementedError()"
   ]
  },
  {
   "cell_type": "code",
   "execution_count": 202,
   "metadata": {
    "deletable": false,
    "editable": false,
    "nbgrader": {
     "checksum": "3f713cf00c84495d3bea5ba76d0f7e6a",
     "grade": true,
     "grade_id": "1e-tests",
     "locked": true,
     "points": 1,
     "schema_version": 1,
     "solution": false
    }
   },
   "outputs": [],
   "source": [
    "assert employee_matcher(\"google\", 41, \"Male\") == (['Maxwell'], ['Jorio'])\n",
    "assert employee_matcher(\"salon\", 47, \"Female\") == (['Elenore'], ['Gravett'])\n"
   ]
  },
  {
   "cell_type": "code",
   "execution_count": 207,
   "metadata": {
    "deletable": false,
    "nbgrader": {
     "checksum": "eb565b364684e43f855d5ff731384879",
     "grade": false,
     "grade_id": "1f",
     "locked": false,
     "schema_version": 1,
     "solution": true
    }
   },
   "outputs": [],
   "source": [
    "# 2f) Extract all the private data \n",
    "\n",
    "# - Create 2 empty lists called 'first_names' and 'last_names'\n",
    "# - Loop through all the people we are trying to identify in df_personal\n",
    "# - Call the extract_company function (i.e., extract_company(df_personal.ix[i, 'email']) )\n",
    "# - Call the employee_matcher function \n",
    "# - Append the results of employee_matcher to the appropriate lists (first_names and last_names)\n",
    "\n",
    "# YOUR CODE HERE\n",
    "first_names = []\n",
    "last_names = []\n",
    "\n",
    "#for i in df_personal.index:\n",
    "    #age = df_personal.ix([i, 'age'])\n",
    "    #company = extract_company(df_personal.ix[i, 'email'])\n",
    "    #gender = df_personal.ix([i, 'gender'])\n",
    "    #first, last = employee_matcher(company, age, gender)\n",
    "    #first_names.append(first)\n",
    "\n",
    "for i in df_personal.index:\n",
    "    company = extract_company(df_personal.ix[i, 'email'])\n",
    "    first, last = employee_matcher(company, df_personal.ix[i, 'age'], df_personal.ix[i, 'gender'])\n",
    "    first_names.append(first)\n",
    "    last_names.append(last)\n",
    "    \n",
    "#first_names\n",
    "\n",
    "#first, last = employee_matcher(company, age, gender)\n",
    "#list_a.append(first)\n",
    "\n",
    "#raise NotImplementedError()"
   ]
  },
  {
   "cell_type": "code",
   "execution_count": 208,
   "metadata": {
    "collapsed": true,
    "deletable": false,
    "editable": false,
    "nbgrader": {
     "checksum": "60add6c068758eb6abcaa30879d2b7af",
     "grade": true,
     "grade_id": "1f-tests",
     "locked": true,
     "points": 1,
     "schema_version": 1,
     "solution": false
    }
   },
   "outputs": [],
   "source": [
    "assert first_names[45:50]== [['Justino'], ['Tadio'], ['Kennith'], ['Cedric'], ['Amargo']]\n",
    "assert last_names[45:50] == [['Corro'], ['Blackford'], ['Milton'], ['Yggo'], ['Grigor']]\n"
   ]
  },
  {
   "cell_type": "code",
   "execution_count": null,
   "metadata": {
    "collapsed": true,
    "deletable": false,
    "editable": false,
    "nbgrader": {
     "checksum": "797556598e2b8c2406f949635a108850",
     "grade": false,
     "grade_id": "1g",
     "locked": true,
     "schema_version": 1,
     "solution": false
    }
   },
   "outputs": [],
   "source": [
    "# 2g) Add the names to the original 'secure' dataset! \n",
    "\n",
    "# We have done this last step for you below, all you need to do is run this cell.\n",
    "# For your own personal enjoyment, you should also print out\n",
    "#   the new df_personal with the identified people. \n",
    "\n",
    "df_personal['first_name'] = first_names\n",
    "df_personal['last_name'] = last_names"
   ]
  },
  {
   "cell_type": "markdown",
   "metadata": {
    "deletable": false,
    "editable": false,
    "nbgrader": {
     "checksum": "220e03ead46597189f618c88f0088bcc",
     "grade": false,
     "grade_id": "wrap-p1",
     "locked": true,
     "schema_version": 1,
     "solution": false
    }
   },
   "source": [
    "We have now just discovered the 'anonymous' identities of all the registered Tinder users...awkward."
   ]
  },
  {
   "cell_type": "markdown",
   "metadata": {
    "deletable": false,
    "editable": false,
    "nbgrader": {
     "checksum": "975e9008d46096fe811a216ea5f2b0d3",
     "grade": false,
     "grade_id": "p2-title",
     "locked": true,
     "schema_version": 1,
     "solution": false
    }
   },
   "source": [
    "## Part 3: Anonymize Data"
   ]
  },
  {
   "cell_type": "markdown",
   "metadata": {
    "deletable": false,
    "editable": false,
    "nbgrader": {
     "checksum": "28f7733eb649c467c1e05df6a0287439",
     "grade": false,
     "grade_id": "p2-desc",
     "locked": true,
     "schema_version": 1,
     "solution": false
    }
   },
   "source": [
    "You are hopefully now convinced that with some seemingly harmless data a hacker can pretty easily discover the identities of certain users. Thus, we will now clean the original Tinder data ourselves according to the Safe Harbor Method in order to make sure that it has been *properly* cleaned..."
   ]
  },
  {
   "cell_type": "code",
   "execution_count": null,
   "metadata": {
    "collapsed": true,
    "deletable": false,
    "nbgrader": {
     "checksum": "89e65ce9092dc3ace07ed9f7e32b2fc1",
     "grade": false,
     "grade_id": "2a",
     "locked": false,
     "schema_version": 1,
     "solution": true
    }
   },
   "outputs": [],
   "source": [
    "# 3a) Load in personal data \n",
    "\n",
    "# Load the user_dat.json file into a pandas dataframe. Call it 'df_users'.\n",
    "# Note: You might find that using the same method as A2 (or above) leads to an error.\n",
    "# The file has a slightly different organization. \n",
    "#   Try googling the error and finding the fix for it.\n",
    "# Hint: you can still use 'pd.read_json', you just need to add another argument.\n",
    "\n",
    "# YOUR CODE HERE\n",
    "df_users = pd.read_json('user_dat.json')\n",
    "\n",
    "#raise NotImplementedError()"
   ]
  },
  {
   "cell_type": "code",
   "execution_count": null,
   "metadata": {
    "collapsed": true,
    "deletable": false,
    "editable": false,
    "nbgrader": {
     "checksum": "5ec60d4634be90d7f87fd0bd248755cd",
     "grade": true,
     "grade_id": "2a-tests",
     "locked": true,
     "points": 0.5,
     "schema_version": 1,
     "solution": false
    }
   },
   "outputs": [],
   "source": [
    "assert isinstance(df_users, pd.DataFrame)\n"
   ]
  },
  {
   "cell_type": "code",
   "execution_count": null,
   "metadata": {
    "collapsed": true,
    "deletable": false,
    "nbgrader": {
     "checksum": "912a843843c85ea7007bfa6fe034ecb0",
     "grade": false,
     "grade_id": "2b",
     "locked": false,
     "schema_version": 1,
     "solution": true
    }
   },
   "outputs": [],
   "source": [
    "# 3b) Drop personal attributes \n",
    "\n",
    "# Remove any personal information, following the Safe Harbour method.\n",
    "# Based on the Safe Harbour method, remove any columns from df_users that contain personal information.\n",
    "#   Note that details on the Safe Harbour method are covered in the Tutorials.\n",
    "\n",
    "# YOUR CODE HERE\n",
    "\n",
    "\n",
    "#raise NotImplementedError()"
   ]
  },
  {
   "cell_type": "code",
   "execution_count": null,
   "metadata": {
    "collapsed": true,
    "deletable": false,
    "editable": false,
    "nbgrader": {
     "checksum": "aaaa4402b823f36919d4953dcd89ebba",
     "grade": true,
     "grade_id": "2b-tests",
     "locked": true,
     "points": 0.5,
     "schema_version": 1,
     "solution": false
    }
   },
   "outputs": [],
   "source": [
    "assert len(df_users.columns) == 3\n"
   ]
  },
  {
   "cell_type": "code",
   "execution_count": null,
   "metadata": {
    "collapsed": true,
    "deletable": false,
    "nbgrader": {
     "checksum": "2055761795183edb7258b03b76270898",
     "grade": false,
     "grade_id": "2c",
     "locked": false,
     "schema_version": 1,
     "solution": true
    }
   },
   "outputs": [],
   "source": [
    "# 3c) Drop ages that are above 90 \n",
    "\n",
    "# Safe Harbour rule C:\n",
    "#   Drop all the rows which have age greater than 90 from df_users\n",
    "\n",
    "# YOUR CODE HERE\n",
    "\n",
    "#raise NotImplementedError()"
   ]
  },
  {
   "cell_type": "code",
   "execution_count": null,
   "metadata": {
    "collapsed": true,
    "deletable": false,
    "editable": false,
    "nbgrader": {
     "checksum": "0bf95b9f32e8c6f695d2850814459daa",
     "grade": true,
     "grade_id": "2c-tests",
     "locked": true,
     "points": 0.5,
     "schema_version": 1,
     "solution": false
    }
   },
   "outputs": [],
   "source": [
    "assert df_users.shape == (993, 3)\n"
   ]
  },
  {
   "cell_type": "code",
   "execution_count": null,
   "metadata": {
    "collapsed": true,
    "deletable": false,
    "nbgrader": {
     "checksum": "f4745cc6348949495135886a90078d9d",
     "grade": false,
     "grade_id": "2d",
     "locked": false,
     "schema_version": 1,
     "solution": true
    }
   },
   "outputs": [],
   "source": [
    "# 3d) Load in zip code data \n",
    "\n",
    "# Load the zip_pop.csv file into a (different) pandas dataframe. Call it 'df_zip'.\n",
    "# Note that the zip data should be read in as strings, not ints, as would be the default. \n",
    "# In read_csv, use the parameter 'dtype' to specify to read 'zip' as str, and 'population' as int.\n",
    "\n",
    "# YOUR CODE HERE\n",
    "\n",
    "#raise NotImplementedError()"
   ]
  },
  {
   "cell_type": "code",
   "execution_count": null,
   "metadata": {
    "collapsed": true,
    "deletable": false,
    "editable": false,
    "nbgrader": {
     "checksum": "78a50c8e93d6577339c9611bdd7eaaa8",
     "grade": true,
     "grade_id": "2d-tests",
     "locked": true,
     "points": 0.5,
     "schema_version": 1,
     "solution": false
    }
   },
   "outputs": [],
   "source": [
    "assert isinstance(df_zip, pd.DataFrame)\n"
   ]
  },
  {
   "cell_type": "code",
   "execution_count": null,
   "metadata": {
    "collapsed": true,
    "deletable": false,
    "nbgrader": {
     "checksum": "9cc339bd36e3b2c3813c6852608d87cc",
     "grade": false,
     "grade_id": "2e",
     "locked": false,
     "schema_version": 1,
     "solution": true
    }
   },
   "outputs": [],
   "source": [
    "# 3e) Sort zipcodes into \"Geographic Subdivision\" \n",
    "\n",
    "# The Safe Harbour Method applies to \"Geographic Subdivisions\"\n",
    "#   as opposed to each zipcode itself. \n",
    "# Geographic Subdivision:\n",
    "#   All areas which share the first 3 digits of a zip code\n",
    "#\n",
    "# Count the total population for each geographic subdivision\n",
    "# Warning: you have to be savy with a dictionary here\n",
    "# To understand how a dictionary works, check the section materials,\n",
    "#   use google and go to discussion sections!\n",
    "#\n",
    "# Instructions: \n",
    "# - Create an empty dictionary: zip_dict = {}\n",
    "# - Loop through all the zip_codes in df_zip\n",
    "# - Create a dictionary key for the first 3 digits of a zip_code in zip_dict\n",
    "# - Continually add population counts to the key that contains the \n",
    "#     same first 3 digits of the zip code\n",
    "#\n",
    "# To extract the population you will find this code useful:\n",
    "#   population = list(df_zip.loc[df_zip['zip'] == zip_code]['population'])\n",
    "# To extract the first 3 digits of a zip_code you will find this code useful:\n",
    "#   int(str(zip_code)[:3])\n",
    "#\n",
    "# Note: this code may take some time (many seconds, up to a minute or two) to run\n",
    "\n",
    "# YOUR CODE HERE\n",
    "#example\n",
    "#10001- 20000\n",
    "#10002- 5000\n",
    "#10101- 2000\n",
    "\n",
    "zip_dict = {}\n",
    "for i, rows in df\n",
    "\n",
    "zip_code = rows['zip_code']\n",
    "pop=rows['population']\n",
    "#extract 1st 3 digits of your zip code -> key\n",
    "\n",
    "if key in zip_dict:\n",
    "    zip_dict[key] = zip_dict[key] + pop\n",
    "else:\n",
    "    zip_dict[key] = pop\n",
    "    \n",
    "zip_dict[key].setdefault(0)\n",
    "zip_dict[key] = zip_dict[key] + pop\n",
    "\n",
    "\n",
    "\n",
    "\n",
    "#raise NotImplementedError()"
   ]
  },
  {
   "cell_type": "code",
   "execution_count": null,
   "metadata": {
    "collapsed": true,
    "deletable": false,
    "editable": false,
    "nbgrader": {
     "checksum": "2bd97a39d94617052c6bb3cc8c5bd497",
     "grade": true,
     "grade_id": "2e-tests",
     "locked": true,
     "points": 1.25,
     "schema_version": 1,
     "solution": false
    }
   },
   "outputs": [],
   "source": [
    "assert isinstance(zip_dict, dict)\n",
    "assert zip_dict[100] == 1502501\n"
   ]
  },
  {
   "cell_type": "code",
   "execution_count": null,
   "metadata": {
    "collapsed": true,
    "deletable": false,
    "editable": false,
    "nbgrader": {
     "checksum": "4dcaab99a0cd491db53cc2842f3d750f",
     "grade": false,
     "grade_id": "2f",
     "locked": true,
     "schema_version": 1,
     "solution": false
    }
   },
   "outputs": [],
   "source": [
    "# 3f) Explain this code excerpt \n",
    "# Note: you do not have to use this line of code at this point in the assignmnet.\n",
    "#  It is one of the lines provided to you in 2e. Here, just write a quick comment on what it does. \n",
    "\n",
    "# In the cell below, explain in words what what the following line of code is doing:\n",
    "population = list(df_zip.loc[df_zip['zip'] == zip_code]['population'])"
   ]
  },
  {
   "cell_type": "markdown",
   "metadata": {
    "collapsed": true,
    "deletable": false,
    "nbgrader": {
     "checksum": "cc98e43035f0175d3f82fe6a94dc5f58",
     "grade": true,
     "grade_id": "2f-write",
     "locked": false,
     "points": 0,
     "schema_version": 1,
     "solution": true
    }
   },
   "source": [
    "YOUR ANSWER HERE"
   ]
  },
  {
   "cell_type": "code",
   "execution_count": null,
   "metadata": {
    "collapsed": true,
    "deletable": false,
    "nbgrader": {
     "checksum": "621d2ead4f68903eaa2ddadbf4f64459",
     "grade": false,
     "grade_id": "2g",
     "locked": false,
     "schema_version": 1,
     "solution": true
    }
   },
   "outputs": [],
   "source": [
    "# 3g) Masking the Zip Codes \n",
    "\n",
    "# In this part, you should write a for loop, updating the df_users dataframe.\n",
    "# Go through each user, and update their zip-code, to Safe Harbour specifications:\n",
    "#   If the user is from a zip code for the which the\n",
    "#     \"Geographic Subdivision\" is less than equal to 20000:\n",
    "#        - Change the zip code to 0 \n",
    "#   Otherwise:\n",
    "#         - Change the zip code to be only the first 3 numbers of the full zip cide\n",
    "# Do all this re-writting the zip_code columns of the 'df_users' DataFrame\n",
    "#\n",
    "# Hints:\n",
    "#  - This will be several lines of code, looping through the DataFrame, \n",
    "#      getting each zip code, checking the geographic subdivision with \n",
    "#      the population in zip_dict, and settig the zip_code accordingly. \n",
    "\n",
    "# YOUR CODE HERE\n",
    "\n",
    "#raise NotImplementedError()"
   ]
  },
  {
   "cell_type": "code",
   "execution_count": null,
   "metadata": {
    "collapsed": true,
    "deletable": false,
    "editable": false,
    "nbgrader": {
     "checksum": "96ef0f83802b7b170238228b68be36e1",
     "grade": true,
     "grade_id": "2g-tests",
     "locked": true,
     "points": 1.25,
     "schema_version": 1,
     "solution": false
    }
   },
   "outputs": [],
   "source": [
    "assert len(df_users) == 993\n",
    "assert sum(df_users.zip == 0) == 7\n",
    "assert df_users.loc[671, 'zip'] == 359\n"
   ]
  },
  {
   "cell_type": "code",
   "execution_count": null,
   "metadata": {
    "collapsed": true,
    "deletable": false,
    "nbgrader": {
     "checksum": "a0313df0a86a0d1c0f762fadfa8fc80d",
     "grade": false,
     "grade_id": "2h",
     "locked": false,
     "schema_version": 1,
     "solution": true
    }
   },
   "outputs": [],
   "source": [
    "# 3h) Save out the properly anonymized data to json file \n",
    "\n",
    "# Save out df_users as a json file, called 'real_anon_user_dat.json'\n",
    "\n",
    "# YOUR CODE HERE\n",
    "\n",
    "#raise NotImplementedError()"
   ]
  },
  {
   "cell_type": "code",
   "execution_count": null,
   "metadata": {
    "collapsed": true,
    "deletable": false,
    "editable": false,
    "nbgrader": {
     "checksum": "5f1b809a9d61919bc0dd68fda1aedc1b",
     "grade": true,
     "grade_id": "2h-tests",
     "locked": true,
     "points": 0.5,
     "schema_version": 1,
     "solution": false
    }
   },
   "outputs": [],
   "source": [
    "assert isinstance(pd.read_json('real_anon_user_dat.json'), pd.DataFrame)"
   ]
  },
  {
   "cell_type": "markdown",
   "metadata": {
    "deletable": false,
    "editable": false,
    "nbgrader": {
     "checksum": "d2d93ad8046edf965c498ec0bf27f765",
     "grade": false,
     "grade_id": "finish",
     "locked": true,
     "schema_version": 1,
     "solution": false
    }
   },
   "source": [
    "Congrats, you're done! The users identities are much more protected now. \n",
    "\n",
    "Submit this notebook file to TritonED."
   ]
  }
 ],
 "metadata": {
  "kernelspec": {
   "display_name": "Python 3",
   "language": "python",
   "name": "python3"
  },
  "language_info": {
   "codemirror_mode": {
    "name": "ipython",
    "version": 3
   },
   "file_extension": ".py",
   "mimetype": "text/x-python",
   "name": "python",
   "nbconvert_exporter": "python",
   "pygments_lexer": "ipython3",
   "version": "3.6.3"
  }
 },
 "nbformat": 4,
 "nbformat_minor": 2
}
