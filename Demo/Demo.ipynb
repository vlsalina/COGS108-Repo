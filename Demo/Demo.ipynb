{
 "cells": [
  {
   "cell_type": "markdown",
   "metadata": {
    "deletable": false,
    "editable": false,
    "nbgrader": {
     "checksum": "7626b2f7b8c9f2117daa9b37d51cf411",
     "grade": false,
     "grade_id": "cell-9a22e853e0e8f998",
     "locked": true,
     "schema_version": 1,
     "solution": false
    }
   },
   "source": [
    "General instructions!\n",
    "\n",
    "This is a demonstration notebook of an assignment!"
   ]
  },
  {
   "cell_type": "code",
   "execution_count": null,
   "metadata": {
    "deletable": false,
    "editable": false,
    "nbgrader": {
     "checksum": "44ec7b45866acd5293d460291a50383f",
     "grade": false,
     "grade_id": "cell-83aae490547df8e1",
     "locked": true,
     "schema_version": 1,
     "solution": false
    }
   },
   "outputs": [],
   "source": [
    "# Imports!\n",
    "#  In general, we will provide the imports that you need for you.\n",
    "#  Do not import any other packages that are not explicitly mentioned in the assignment.\n",
    "#  Make sure you are using Py3.6 with the anaconda distribution - this is the environment we grade in.\n",
    "import numpy as np"
   ]
  },
  {
   "cell_type": "code",
   "execution_count": null,
   "metadata": {
    "deletable": false,
    "nbgrader": {
     "checksum": "cc6f2acde4158c4d8e11236a2fe37764",
     "grade": false,
     "grade_id": "cell-63c3a705e90fe682",
     "locked": false,
     "schema_version": 1,
     "solution": true
    }
   },
   "outputs": [],
   "source": [
    "# Q1 - Define a variable, 'a' to have the value of 1.\n",
    "\n",
    "# YOUR CODE HERE\n",
    "raise NotImplementedError()"
   ]
  },
  {
   "cell_type": "code",
   "execution_count": null,
   "metadata": {
    "deletable": false,
    "editable": false,
    "nbgrader": {
     "checksum": "d307d875fb0fb61a763b31744489b04b",
     "grade": true,
     "grade_id": "cell-29f67d0cf21aa723",
     "locked": true,
     "points": 1,
     "schema_version": 1,
     "solution": false
    }
   },
   "outputs": [],
   "source": [
    "# These are the tests for Q1\n",
    "assert a == 1"
   ]
  },
  {
   "cell_type": "code",
   "execution_count": null,
   "metadata": {
    "deletable": false,
    "nbgrader": {
     "checksum": "dfa34721c94c4a2d323648b0d5d60da0",
     "grade": false,
     "grade_id": "cell-249c6fc6a3645375",
     "locked": false,
     "schema_version": 1,
     "solution": true
    }
   },
   "outputs": [],
   "source": [
    "# Q2 - Define a variable 'b', that has the value of '2'\n",
    "\n",
    "# YOUR CODE HERE\n",
    "raise NotImplementedError()"
   ]
  },
  {
   "cell_type": "code",
   "execution_count": null,
   "metadata": {
    "deletable": false,
    "editable": false,
    "nbgrader": {
     "checksum": "69881a54cf591183f37f24c349fd5ef5",
     "grade": true,
     "grade_id": "cell-b03cc6c2db64df2c",
     "locked": true,
     "points": 1,
     "schema_version": 1,
     "solution": false
    }
   },
   "outputs": [],
   "source": [
    "# These are the tests for Q2\n",
    "assert b\n"
   ]
  },
  {
   "cell_type": "code",
   "execution_count": null,
   "metadata": {
    "deletable": false,
    "nbgrader": {
     "checksum": "1d07012d67487dc4ada8aa3e7d921113",
     "grade": false,
     "grade_id": "cell-bdbe245776754352",
     "locked": false,
     "schema_version": 1,
     "solution": true
    }
   },
   "outputs": [],
   "source": [
    "# Q3 - Is data science pretty fun? Answer as a boolean called 'ds'\n",
    "\n",
    "# YOUR CODE HERE\n",
    "raise NotImplementedError()"
   ]
  },
  {
   "cell_type": "code",
   "execution_count": null,
   "metadata": {
    "deletable": false,
    "editable": false,
    "nbgrader": {
     "checksum": "7210eeeb6b5103275554312e7cd2e2fa",
     "grade": true,
     "grade_id": "cell-645d5b7752dbaf85",
     "locked": true,
     "points": 1,
     "schema_version": 1,
     "solution": false
    }
   },
   "outputs": [],
   "source": [
    "assert ds"
   ]
  },
  {
   "cell_type": "code",
   "execution_count": null,
   "metadata": {
    "deletable": false,
    "nbgrader": {
     "checksum": "62a0843146258acdce4e48d9b5916e74",
     "grade": false,
     "grade_id": "cell-fcdbd0de2f88f479",
     "locked": false,
     "schema_version": 1,
     "solution": true
    }
   },
   "outputs": [],
   "source": [
    "# Q4 - Create an array, containing the numbers (as floats) 0-4, inclusively.\n",
    "\n",
    "# YOUR CODE HERE\n",
    "raise NotImplementedError()"
   ]
  },
  {
   "cell_type": "code",
   "execution_count": null,
   "metadata": {
    "deletable": false,
    "editable": false,
    "nbgrader": {
     "checksum": "c386c77428047acd8f21b406da9707df",
     "grade": true,
     "grade_id": "cell-3ee59982b2db004e",
     "locked": true,
     "points": 1,
     "schema_version": 1,
     "solution": false
    }
   },
   "outputs": [],
   "source": [
    "assert isinstance(array, np.ndarray)\n"
   ]
  }
 ],
 "metadata": {
  "kernelspec": {
   "display_name": "Python 3",
   "language": "python",
   "name": "python3"
  },
  "language_info": {
   "codemirror_mode": {
    "name": "ipython",
    "version": 3
   },
   "file_extension": ".py",
   "mimetype": "text/x-python",
   "name": "python",
   "nbconvert_exporter": "python",
   "pygments_lexer": "ipython3",
   "version": "3.6.3"
  }
 },
 "nbformat": 4,
 "nbformat_minor": 2
}
